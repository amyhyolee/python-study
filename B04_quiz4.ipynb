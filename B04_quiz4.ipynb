{
 "cells": [
  {
   "cell_type": "markdown",
   "id": "0ac236f7",
   "metadata": {},
   "source": [
    "# 퀴즈: 제어문, 함수\n",
    "\n",
    "## 2022.01.21"
   ]
  },
  {
   "cell_type": "code",
   "execution_count": 31,
   "id": "ae910320",
   "metadata": {},
   "outputs": [
    {
     "name": "stdout",
     "output_type": "stream",
     "text": [
      "총 갯수: 3, items: ['africa', 'say', 'drama']\n"
     ]
    }
   ],
   "source": [
    "# 1. 딕셔너리 값에 'a' 글자가 있는 아이템만 표시하고 총 갯수를 출력하여라\n",
    "dict2 = {'a': 'africa', 's': 'say',\n",
    "        'c': 'coffee', 'd': 'drama', 'y':'yes'}\n",
    "cnt = 0\n",
    "items = []\n",
    "for value in dict2.values():\n",
    "    for letter in value:\n",
    "        if letter == 'a':\n",
    "            cnt += 1\n",
    "            items.append(value)\n",
    "            break\n",
    "        else:    \n",
    "            continue\n",
    "\n",
    "print(f'총 갯수: {cnt}, items: {items}')"
   ]
  },
  {
   "cell_type": "code",
   "execution_count": 3,
   "id": "db5ba4ca",
   "metadata": {},
   "outputs": [
    {
     "name": "stdout",
     "output_type": "stream",
     "text": [
      "a => africa\n",
      "s => say\n",
      "d => drama\n",
      "총 갯수는?  3\n",
      "---------- \n",
      "\n",
      "\n"
     ]
    }
   ],
   "source": [
    "dict2 = {'a': 'africa', 's': 'say',\n",
    "        'c': 'coffee', 'd': 'drama', 'y':'yes'}\n",
    "count = 0\n",
    "tot = 0\n",
    "while count<len(list(dict2)):\n",
    "    if 'a' in dict2[list(dict2)[count]]:\n",
    "        print(f'{list(dict2)[count]} => {dict2[list(dict2)[count]]}')\n",
    "        # print(f'{list(dict2)[count]} =>\n",
    "              # {dict2[list(dict2)[count]]}')\n",
    "\n",
    "        tot += 1\n",
    "    count += 1\n",
    "print('총 갯수는? ', tot)\n",
    "\n",
    "print('-'*10,'\\n\\n')\n"
   ]
  },
  {
   "cell_type": "code",
   "execution_count": 37,
   "id": "76acb3c7",
   "metadata": {},
   "outputs": [
    {
     "name": "stdout",
     "output_type": "stream",
     "text": [
      "['갑', '병', '정']\n"
     ]
    }
   ],
   "source": [
    "# 2. 다음 리스트 중에서 '을' 글자를 제외하고 출력하여라\n",
    "# for, if, pass 이용\n",
    "'''\n",
    "qList = ['갑', '을', '병', '정']\n",
    "갑 / 병 / 정 /\n",
    "'''\n",
    "\n",
    "qList = ['갑', '을', '병', '정']\n",
    "\n",
    "quiz2  = []\n",
    "for i in qList:\n",
    "    if i != '을':\n",
    "        quiz2.append(i)\n",
    "    else:\n",
    "        pass\n",
    "print(quiz2)"
   ]
  },
  {
   "cell_type": "code",
   "execution_count": 6,
   "id": "9833300b",
   "metadata": {},
   "outputs": [
    {
     "name": "stdout",
     "output_type": "stream",
     "text": [
      "qList = ['갑', '을', '병', '정']\n",
      "갑 / 병 / 정 / "
     ]
    }
   ],
   "source": [
    "qList = [\"갑\", \"을\", \"병\", \"정\"]\n",
    "print('qList = {}'.format(qList))\n",
    "for i in qList:\n",
    "    if i == '을':\n",
    "        pass\n",
    "    else:\n",
    "        print(i, end=' / ')"
   ]
  },
  {
   "cell_type": "code",
   "execution_count": 39,
   "id": "4137f081",
   "metadata": {},
   "outputs": [
    {
     "name": "stdout",
     "output_type": "stream",
     "text": [
      "1 3 5 7 9 11 13 15 17 19 21 23 25 27 29 "
     ]
    }
   ],
   "source": [
    "# 3. 1부터 30까지 자연수 중 '홀수'만 한 라인으로 출력하여라\n",
    "#  반복문 for와 조건문 사용\n",
    "'''\n",
    " Result --------------------\n",
    "\n",
    "1 3 5 7 9 11 13 15 17 19 21 23 25 27 29 \n",
    "'''\n",
    "for i in range(1, 31):\n",
    "    if i%2 != 0:\n",
    "        print(i, end = ' ')"
   ]
  },
  {
   "cell_type": "code",
   "execution_count": 43,
   "id": "8ef04e2c",
   "metadata": {},
   "outputs": [
    {
     "name": "stdout",
     "output_type": "stream",
     "text": [
      "[6, 12, 18, 24, 30, 36, 42, 48]\n"
     ]
    }
   ],
   "source": [
    "# 4. 1부터 50까지 자연수 중 6의 배수만 리스트로 생성하고 다음과 같이 출력하여라\n",
    "#  반복문 while,  조건문 사용\n",
    "#  result = []\n",
    "'''\n",
    "Result --------------------\n",
    "결과 리스트 = [6, 12, 18, 24, 30, 36, 42, 48]\n",
    "총합 = 216\n",
    "'''\n",
    "result = []\n",
    "num = 1\n",
    "while num <= 50:\n",
    "    if num % 6 == 0:\n",
    "        result.append(num)\n",
    "    num += 1\n",
    "print(result)"
   ]
  },
  {
   "cell_type": "code",
   "execution_count": 44,
   "id": "64478c61",
   "metadata": {},
   "outputs": [
    {
     "name": "stdout",
     "output_type": "stream",
     "text": [
      "리스트: [95, 77, 56, 100, 85]\n",
      "합: 413\n",
      "평균: 82.6\n",
      "최소값: 56\n"
     ]
    }
   ],
   "source": [
    "# 5. 다음 리스트에서 평균, 합, 최소값을 출력하여라\n",
    "# 리스트 : [95, 77, 56, 100, 85]\n",
    "# 합 : 413\n",
    "# 평균 : 82.60\n",
    "# 최소값 : 56\n",
    "quiz5 = [95, 77, 56, 100, 85]\n",
    "print(f'리스트: {quiz5}')\n",
    "print(f'합: {sum(quiz5)}')\n",
    "print(f'평균: {sum(quiz5)/len(quiz5)}')\n",
    "print(f'최소값: {min(quiz5)}')"
   ]
  },
  {
   "cell_type": "code",
   "execution_count": 7,
   "id": "b1f2927a",
   "metadata": {},
   "outputs": [
    {
     "name": "stdout",
     "output_type": "stream",
     "text": [
      "리스트 : [95, 77, 56, 100, 85]\n",
      "합 : 413\n",
      "평균 : 82.60\n",
      "최소값 : 56\n"
     ]
    }
   ],
   "source": [
    "numList = [95, 77, 56, 100, 85]\n",
    "sum = 0\n",
    "minNumber = numList[0]\n",
    "for i in numList:\n",
    "    sum+=i\n",
    "    if minNumber>i:\n",
    "        minNumber = i\n",
    "\n",
    "print(f'리스트 : {numList}')\n",
    "print(f'합 : {sum}')\n",
    "avg = sum/len(numList)\n",
    "print(f'평균 : {avg:.2f}')\n",
    "print(f'최소값 : {minNumber}')"
   ]
  },
  {
   "cell_type": "code",
   "execution_count": 50,
   "id": "99f739ae",
   "metadata": {},
   "outputs": [
    {
     "name": "stdout",
     "output_type": "stream",
     "text": [
      "[7, 11, 14, 21, 22, 28, 33, 35, 42, 44, 49, 55, 56, 63, 66, 70, 77, 84, 88, 91, 98, 99]\n",
      "총 22개\n"
     ]
    }
   ],
   "source": [
    "# 6. 1~100 사이의 숫자 중 11의 배수이거나 7의 배수로 구성된 리스트를\n",
    "# 리스트 내포 방식을 이용하여 출력하고 총 갯수도 함께 출력하여라\n",
    "'''\n",
    "[7, 11, 14, 21, 22, 28, 33, 35, 42, 44, 49, 55, 56, 63, 66, 70, 77, 84, 88, 91, 98, 99]\n",
    " 총 22 개\n",
    "'''\n",
    "quiz6 = []\n",
    "cnt = 0\n",
    "for i in range(1, 101):\n",
    "    if i%11 == 0 or i%7 == 0:\n",
    "        quiz6.append(i)\n",
    "        cnt += 1\n",
    "print(quiz6)\n",
    "print(f'총 {cnt}개')"
   ]
  },
  {
   "cell_type": "code",
   "execution_count": 9,
   "id": "87bc656b",
   "metadata": {},
   "outputs": [
    {
     "name": "stdout",
     "output_type": "stream",
     "text": [
      "[7, 11, 14, 21, 22, 28, 33, 35, 42, 44, 49, 55, 56, 63, 66, 70, 77, 84, 88, 91, 98, 99]\n",
      " 총 22 개\n"
     ]
    }
   ],
   "source": [
    "numList = [ i for i in range(1,101) if i%11==0 or i%7==0]\n",
    "print(numList)\n",
    "print(f' 총 {len(numList)} 개')"
   ]
  },
  {
   "cell_type": "code",
   "execution_count": 66,
   "id": "67e6efe8",
   "metadata": {},
   "outputs": [
    {
     "name": "stdout",
     "output_type": "stream",
     "text": [
      "['1 - 1', '1 - 2', '1 - 3', '2 - 1', '2 - 2', '2 - 3', '3 - 1', '3 - 2', '3 - 3', '4 - 1', '4 - 2', '4 - 3', '5 - 1', '5 - 2', '5 - 3']\n"
     ]
    }
   ],
   "source": [
    "# 7. 이중 리스트 내포 방식을 이용하여 다음과 같은 리스트를 생성하고 출력하여라\n",
    "# ['1 - 1', '1 - 2', '1 - 3', '2 - 1', '2 - 2', '2 - 3',\n",
    "#    '3 - 1', '3 - 2', '3 - 3', '4 - 1', '4 - 2', '4 - 3',\n",
    "#    '5 - 1', '5 - 2', '5 - 3']\n",
    "\n",
    "quiz7 = [f'{i} - {j}' for i in range(1,6) for j in range(1, 4)]\n",
    "print(quiz7)"
   ]
  },
  {
   "cell_type": "code",
   "execution_count": 10,
   "id": "e86abad8",
   "metadata": {},
   "outputs": [
    {
     "name": "stdout",
     "output_type": "stream",
     "text": [
      "[' 1 - 1', ' 1 - 2', ' 1 - 3', ' 2 - 1', ' 2 - 2', ' 2 - 3', ' 3 - 1', ' 3 - 2', ' 3 - 3', ' 4 - 1', ' 4 - 2', ' 4 - 3', ' 5 - 1', ' 5 - 2', ' 5 - 3']\n",
      "[' 1 - 1', ' 1 - 2', ' 1 - 3', ' 2 - 1', ' 2 - 2', ' 2 - 3', ' 3 - 1', ' 3 - 2', ' 3 - 3', ' 4 - 1', ' 4 - 2', ' 4 - 3', ' 5 - 1', ' 5 - 2', ' 5 - 3']\n"
     ]
    }
   ],
   "source": [
    "result = [ str(i)+' - '+str(j) for i in range(1,6) for j in range(1,4)]\n",
    "result = [ f' {i} - {j}' for i in range(1,6) for j in range(1,4)]\n",
    "print(result)\n",
    "\n",
    "result = []\n",
    "for i in range(1,6):\n",
    "    for j in range(1,4):\n",
    "        # result.append(str(i) + ' - '  + str(j))\n",
    "        result.append(f' {i} - {j}')\n",
    "\n",
    "print(result)"
   ]
  },
  {
   "cell_type": "code",
   "execution_count": 91,
   "id": "335761e4",
   "metadata": {},
   "outputs": [
    {
     "name": "stdout",
     "output_type": "stream",
     "text": [
      "[['김수철', '서울', 25, '남', '총무부'], ['고길동', '부산', 33, '남', '회계부'], ['최미나', '대전', 22, '여', '기획부'], ['은지원', '서울', 44, '남', '영업부'], ['김영탁', '울산', 36, '남', '영업부'], ['마동탁', '대구', 50, '남', '기획부'], ['이은미', '창원', 42, '여', '총무부']]\n",
      "------------------------------\n",
      "사원명   출산지   나이   성별   부서\n",
      "------------------------------\n",
      "김수철    서울    25    남   총무부\n",
      "고길동    부산    33    남   회계부\n",
      "최미나    대전    22    여   기획부\n",
      "은지원    서울    44    남   영업부\n",
      "김영탁    울산    36    남   영업부\n",
      "마동탁    대구    50    남   기획부\n",
      "이은미    창원    42    여   총무부\n"
     ]
    }
   ],
   "source": [
    "# 8. 다음 2차원 리스트를 생성하고 결과와 같이 for...in 문을 이용하여 출력하여라\n",
    "# employees = [\n",
    "#                 ['김수철', '서울', 25, '남', '총무부'],\n",
    "#                 ['고길동', '부산', 33, '남', '회계부'],\n",
    "#                 ['최미나', '대전', 22, '여', '기획부'],\n",
    "#                 ['은지원', '서울', 44, '남', '영업부'],\n",
    "#                 ['김영탁', '울산', 36, '남', '영업부'],\n",
    "#                 ['마동탁', '대구', 50, '남', '기획부'],\n",
    "#                 ['이은미', '창원', 42, '여', '총무부']\n",
    "#               ]\n",
    "#\n",
    "# \t----------------------------------------\n",
    "#  \t 사원명 \t 출신지 \t 나이 \t 성별 \t 부서\n",
    "# \t----------------------------------------\n",
    "#  \t 김수철 \t 서울 \t 25 \t 남 \t 총무부\n",
    "#  \t 고길동 \t 부산 \t 33 \t 남 \t 회계부\n",
    "#  \t 최미나 \t 대전 \t 22 \t 여 \t 기획부\n",
    "#  \t 은지원 \t 서울 \t 44 \t 남 \t 영업부\n",
    "#  \t 김영탁 \t 울산 \t 36 \t 남 \t 영업부\n",
    "#  \t 마동탁 \t 대구 \t 50 \t 남 \t 기획부\n",
    "#  \t 이은미 \t 창원 \t 42 \t 여 \t 총무부\n",
    "\n",
    "kim = ['김수철', '서울', 25, '남', '총무부']\n",
    "ko = ['고길동', '부산', 33, '남', '회계부']\n",
    "choi = ['최미나', '대전', 22, '여', '기획부']\n",
    "eun = ['은지원', '서울', 44, '남', '영업부']\n",
    "kim2 = ['김영탁', '울산', 36, '남', '영업부']\n",
    "ma = ['마동탁', '대구', 50, '남', '기획부']\n",
    "lee = ['이은미', '창원', 42, '여', '총무부']\n",
    "employees = [kim, ko, choi, eun, kim2, ma, lee]\n",
    "print(employees)\n",
    "\n",
    "print('-'*30)\n",
    "print(f'사원명   출산지   나이   성별   부서')\n",
    "print('-'*30)\n",
    "\n",
    "for 사원명, 출산지, 나이, 성별, 부서 in employees:\n",
    "    print(f'{사원명}    {출산지}    {나이}    {성별}   {부서}')"
   ]
  },
  {
   "cell_type": "code",
   "execution_count": 11,
   "id": "a9777bcd",
   "metadata": {},
   "outputs": [
    {
     "name": "stdout",
     "output_type": "stream",
     "text": [
      "\t----------------------------------------\n",
      " \t 사원명 \t 출신지 \t 나이 \t 성별 \t 부서 \n",
      "\t----------------------------------------\n",
      " \t 김수철 \t 서울 \t 25 \t 남 \t 총무부 \n",
      " \t 고길동 \t 부산 \t 33 \t 남 \t 회계부 \n",
      " \t 최미나 \t 대전 \t 22 \t 여 \t 기획부 \n",
      " \t 은지원 \t 서울 \t 44 \t 남 \t 영업부 \n",
      " \t 김영탁 \t 울산 \t 36 \t 남 \t 영업부 \n",
      " \t 마동탁 \t 대구 \t 50 \t 남 \t 기획부 \n",
      " \t 이은미 \t 창원 \t 42 \t 여 \t 총무부 \n"
     ]
    }
   ],
   "source": [
    "employees = [\n",
    "                ['김수철', '서울', 25, '남', '총무부'],\n",
    "                ['고길동', '부산', 33, '남', '회계부'],\n",
    "                ['최미나', '대전', 22, '여', '기획부'],\n",
    "                ['은지원', '서울', 44, '남', '영업부'],\n",
    "                ['김영탁', '울산', 36, '남', '영업부'],\n",
    "                ['마동탁', '대구', 50, '남', '기획부'],\n",
    "                ['이은미', '창원', 42, '여', '총무부']\n",
    "              ]\n",
    "\n",
    "print('\\t'+'-'*40)\n",
    "print(f' \\t 사원명 \\t 출신지 \\t 나이 \\t 성별 \\t 부서 ')\n",
    "print('\\t'+'-'*40)\n",
    "for (name, homtown, age, gender, part) in employees:\n",
    "    print(f' \\t {name} \\t {homtown} \\t {age} \\t {gender} \\t {part} ')"
   ]
  },
  {
   "cell_type": "code",
   "execution_count": 96,
   "id": "b695dfae",
   "metadata": {},
   "outputs": [
    {
     "name": "stdout",
     "output_type": "stream",
     "text": [
      "김수철    서울    25    남   총무부\n",
      "고길동    부산    33    남   회계부\n",
      "은지원    서울    44    남   영업부\n",
      "김영탁    울산    36    남   영업부\n",
      "마동탁    대구    50    남   기획부\n"
     ]
    }
   ],
   "source": [
    "# 9. 8번의 리스트에서 남자 사원 목록만 출력하여라\n",
    "for 사원명, 출산지, 나이, 성별, 부서 in employees:\n",
    "    if 성별 == '남':\n",
    "        print(f'{사원명}    {출산지}    {나이}    {성별}   {부서}')"
   ]
  },
  {
   "cell_type": "code",
   "execution_count": 97,
   "id": "3da94aff",
   "metadata": {},
   "outputs": [
    {
     "name": "stdout",
     "output_type": "stream",
     "text": [
      "김수철    서울    25    남   총무부\n",
      "김영탁    울산    36    남   영업부\n"
     ]
    }
   ],
   "source": [
    "# 10. 8번의 리스트에서 성이 '김'인 사원 목록만 출력하여라\n",
    "for 사원명, 출산지, 나이, 성별, 부서 in employees:\n",
    "    if 사원명[0] == '김':\n",
    "        print(f'{사원명}    {출산지}    {나이}    {성별}   {부서}')"
   ]
  },
  {
   "cell_type": "code",
   "execution_count": 105,
   "id": "728b4441",
   "metadata": {},
   "outputs": [
    {
     "name": "stdout",
     "output_type": "stream",
     "text": [
      "*\n",
      "**\n",
      "***\n",
      "****\n",
      "*****\n"
     ]
    }
   ],
   "source": [
    "# 11 : 별찍기\n",
    "# 숫자만큼 다음과 같은 형태로 출력하는\n",
    "# 함수를 정의한 후 호출하여라.\n",
    "\n",
    "'''\n",
    "starPrint(5)\n",
    "\n",
    "결과 :\n",
    "*\n",
    "**\n",
    "***\n",
    "****\n",
    "*****\n",
    "\n",
    "starPrint(3)\n",
    "\n",
    "결과 :\n",
    "*\n",
    "**\n",
    "***\n",
    "'''\n",
    "\n",
    "def starPrint(num):\n",
    "    for i in range(1, num + 1):\n",
    "        print('*'*i)\n",
    "starPrint(5)"
   ]
  },
  {
   "cell_type": "code",
   "execution_count": 108,
   "id": "4532f728",
   "metadata": {},
   "outputs": [
    {
     "name": "stdout",
     "output_type": "stream",
     "text": [
      "9 X 1 = 9\n",
      "9 X 2 = 18\n",
      "9 X 3 = 27\n",
      "9 X 4 = 36\n",
      "9 X 5 = 45\n",
      "9 X 6 = 54\n",
      "9 X 7 = 63\n",
      "9 X 8 = 72\n",
      "9 X 9 = 81\n"
     ]
    }
   ],
   "source": [
    "# 12\n",
    "# 인자값을 받아서 출력하는 구구단 함수를 정의한 후\n",
    "# 호출하여 출력하여라\n",
    "'''\n",
    "def gugu(n):\n",
    "    ?\n",
    "\n",
    "gugu(9)\n",
    "\n",
    "출력 >>\n",
    "9 X 1 = 9\n",
    "9 X 2 = 18\n",
    "9 X 3 = 27\n",
    "9 X 4 = 36\n",
    "9 X 5 = 45\n",
    "9 X 6 = 54\n",
    "9 X 7 = 63\n",
    "9 X 8 = 72\n",
    "9 X 9 = 81\n",
    "\n",
    "'''\n",
    "\n",
    "def gugu(n):\n",
    "    for i in range(1, n + 1):\n",
    "        print(f'{n} X {i} = {n*i}')\n",
    "\n",
    "gugu(9)"
   ]
  },
  {
   "cell_type": "code",
   "execution_count": 128,
   "id": "b7d75387",
   "metadata": {},
   "outputs": [
    {
     "name": "stdout",
     "output_type": "stream",
     "text": [
      "   오늘의 메뉴\n",
      "1 :  라면\n",
      "2 :  빙수\n",
      "   오늘의 메뉴\n",
      "1 :  모밀\n",
      "2 :  탕수육\n",
      "3 :  육계장\n"
     ]
    }
   ],
   "source": [
    "# 13:\n",
    "# 리스트를 호출하면 각각의\n",
    "# 아이템이 다음과 같이 출력되도록 함수를 정의하여라\n",
    "'''\n",
    "# printList(['라면', '빙수'])\n",
    "\n",
    "   오늘의 메뉴   \n",
    "1  :  라면\n",
    "2  :  빙수\n",
    "\n",
    "# printList(['모밀', '탕수육', '육계장'])\n",
    "   오늘의 메뉴   \n",
    "1  :  모밀\n",
    "2  :  탕수육\n",
    "3  :  육계장\n",
    "'''\n",
    "\n",
    "def printList(*args):\n",
    "    print(f'   오늘의 메뉴')\n",
    "    menu = args[0]\n",
    "    for i in range(0, len(menu)):\n",
    "        print(f'{i+1} :  {menu[i]}')\n",
    "        \n",
    "printList(['라면', '빙수'])\n",
    "printList(['모밀', '탕수육', '육계장'])"
   ]
  },
  {
   "cell_type": "code",
   "execution_count": 131,
   "id": "e8eb5c48",
   "metadata": {},
   "outputs": [
    {
     "name": "stdout",
     "output_type": "stream",
     "text": [
      "최소값은? 20\n",
      "최소값은? 1\n",
      "최대값은? 100\n",
      "최대값은? 500\n"
     ]
    }
   ],
   "source": [
    "# 14\n",
    "# 첫번째 인자의 값이 'min'이면 다음 인자의 숫자 중\n",
    "# 최대값을 출력하고\n",
    "# 첫번째 인자의 값이 'max'이면 다음 인자의 숫자중\n",
    "# 최소값을 출력하여라\n",
    "# 이 때 전달하는 숫자의 갯수는 가변으로 한다.\n",
    "\n",
    "'''\n",
    "min_max_number('min', 100, 20, 40)\n",
    "min_max_number('min', 100, 20, 40, 500, 1)\n",
    "min_max_number('max', 100, 20, 40)\n",
    "min_max_number('max', 100, 20, 40, 500, 1)\n",
    "\n",
    "# 결과 \n",
    "최소값은?  20\n",
    "최소값은?  1\n",
    "최대값은?  100\n",
    "최대값은?  500\n",
    "\n",
    "'''\n",
    "def min_max_number(minmax, *args):\n",
    "    number = []\n",
    "    if minmax == 'min':\n",
    "        for i in args:\n",
    "            number.append(i)\n",
    "        print(f'최소값은? {min(number)}')\n",
    "    elif minmax == 'max':\n",
    "        for i in args:\n",
    "            number.append(i)\n",
    "        print(f'최대값은? {max(number)}')\n",
    "        \n",
    "min_max_number('min', 100, 20, 40)\n",
    "min_max_number('min', 100, 20, 40, 500, 1)\n",
    "min_max_number('max', 100, 20, 40)\n",
    "min_max_number('max', 100, 20, 40, 500, 1)       "
   ]
  },
  {
   "cell_type": "code",
   "execution_count": 15,
   "id": "dfced1bc",
   "metadata": {},
   "outputs": [
    {
     "name": "stdout",
     "output_type": "stream",
     "text": [
      "최소값은?  20\n",
      "최소값은?  1\n",
      "최대값은?  100\n",
      "최대값은?  500\n"
     ]
    }
   ],
   "source": [
    "def min_max_number(choice, *args):\n",
    "    if choice == \"min\":\n",
    "        temp = args[0]\n",
    "        for i in range(0, len(args)):\n",
    "            if temp>args[i]:\n",
    "                temp = args[i]\n",
    "        return print('최소값은? ', temp)\n",
    "    elif choice == \"max\":\n",
    "        temp = args[0]\n",
    "        for i in range(0, len(args)):\n",
    "            if temp < args[i]:\n",
    "                temp = args[i]\n",
    "        return print('최대값은? ', temp)\n",
    "    else:\n",
    "        return print('잘못된 입력값')\n",
    "    \n",
    "min_max_number('min', 100, 20, 40)\n",
    "min_max_number('min', 100, 20, 40, 500, 1)\n",
    "min_max_number('max', 100, 20, 40)\n",
    "min_max_number('max', 100, 20, 40, 500, 1)       "
   ]
  },
  {
   "cell_type": "code",
   "execution_count": 136,
   "id": "4c7b7717",
   "metadata": {},
   "outputs": [
    {
     "name": "stdout",
     "output_type": "stream",
     "text": [
      "{'a': 'apple', 'b': 'banana', 'n': 'nano'}\n",
      "a : apple\n",
      "b : banana\n",
      "n : nano\n",
      "{'b': 'banana', 'n': 'nano', 's': 'soup', 'd': 'dress', 'q': 'quit'}\n",
      "b : banana\n",
      "n : nano\n",
      "s : soup\n",
      "d : dress\n",
      "q : quit\n"
     ]
    }
   ],
   "source": [
    "# 퀴즈 15\n",
    "# **kwargs 인자 가변 함수를 이용하여\n",
    "# 함수 호출시 결과값이 다음과 같이 딕셔너리 형태로\n",
    "# 출력되도록 하여라\n",
    "'''\n",
    "# 함수 호출 \n",
    "dictDefine(a='apple', b='banana', n='nano')\n",
    "dictDefine(b='banana', n='nano', s='soup', d='dress', q='quit')\n",
    "\n",
    "결과1 >>>\n",
    "\n",
    "{'a': 'apple', 'b': 'banana', 'n': 'nano'}\n",
    "a : apple\n",
    "b : banana\n",
    "n : nano\n",
    "\n",
    "결과2 >>>\n",
    "{'b': 'banana', 'n': 'nano', 's': 'soup', 'd': 'dress', 'q': 'quit'}\n",
    "b : banana\n",
    "n : nano\n",
    "s : soup\n",
    "d : dress\n",
    "q : quit\n",
    "\n",
    "'''\n",
    "\n",
    "def dictDefine(**kwargs):\n",
    "    print(f'{kwargs}')\n",
    "    for key in kwargs:\n",
    "        print(f'{key} : {kwargs[key]}')\n",
    "        \n",
    "dictDefine(a='apple', b='banana', n='nano')\n",
    "dictDefine(b='banana', n='nano', s='soup', d='dress', q='quit')"
   ]
  },
  {
   "cell_type": "code",
   "execution_count": 16,
   "id": "879a02c1",
   "metadata": {},
   "outputs": [
    {
     "name": "stdout",
     "output_type": "stream",
     "text": [
      "\n",
      "\n",
      "\n",
      "{'a': 'apple', 'b': 'banana', 'n': 'nano'}\n",
      "a : apple\n",
      "b : banana\n",
      "n : nano\n",
      "\n",
      "\n",
      "\n",
      "{'b': 'banana', 'n': 'nano', 's': 'soup', 'd': 'dress', 'q': 'quit'}\n",
      "b : banana\n",
      "n : nano\n",
      "s : soup\n",
      "d : dress\n",
      "q : quit\n"
     ]
    }
   ],
   "source": [
    "def dictDefine(**kwargs):\n",
    "    print('\\n'*2)\n",
    "    print(kwargs)\n",
    "    for key in kwargs:\n",
    "        print(key, ':', kwargs[key])\n",
    "\n",
    "dictDefine(a='apple', b='banana', n='nano')\n",
    "dictDefine(b='banana', n='nano', s='soup', d='dress', q='quit')"
   ]
  },
  {
   "cell_type": "code",
   "execution_count": 141,
   "id": "90845bf5",
   "metadata": {},
   "outputs": [
    {
     "data": {
      "text/plain": [
       "'홍**'"
      ]
     },
     "execution_count": 141,
     "metadata": {},
     "output_type": "execute_result"
    }
   ],
   "source": [
    "# 16\n",
    "# 첫글자를 제외한 나머지 글자를 '*'로 표시하는\n",
    "# 람다함수를 정의하여라. 입력되는 문자열은 3글자로 한다.\n",
    "# 변수 = lambda 인자:명령문\n",
    "\n",
    "'''\n",
    "# 함수 호출 \n",
    "# f1('홍길동')\n",
    "# f1('김철수')\n",
    "\n",
    "결과: >>\n",
    "홍**\n",
    "김**\n",
    "'''\n",
    "# f1 = lambda txt:print(txt[0]+'**')\n",
    "\n",
    "f1 = lambda name: name[0]+'**'\n",
    "f1('홍길동')\n",
    "# f1('김철수')"
   ]
  },
  {
   "cell_type": "code",
   "execution_count": 146,
   "id": "b1195318",
   "metadata": {},
   "outputs": [
    {
     "data": {
      "text/plain": [
       "'국어:100, 영어:80, 수학:90, 총점:270, 평균:90.00'"
      ]
     },
     "execution_count": 146,
     "metadata": {},
     "output_type": "execute_result"
    }
   ],
   "source": [
    "# 17\n",
    "# 국어,영어,수학 3과목의 합과 평균을 구하는\n",
    "# 람다 함수를 정의하여라\n",
    "'''\n",
    "# 람다 호출 \n",
    "# f2(100,80,90)\n",
    "\n",
    "결과 >>\n",
    "국어:100, 영어:80, 수학:90 , 총점:270, 평균90.00\n",
    "'''\n",
    "\n",
    "f2 = lambda kor, eng, mat: f'국어:{kor}, 영어:{eng}, 수학:{mat}, 총점:{sum([kor, eng, mat])}, 평균:{sum([kor, eng, mat])/len([kor, eng, mat]):.2f}'\n",
    "f2(100,80,90)"
   ]
  },
  {
   "cell_type": "code",
   "execution_count": null,
   "id": "b88c4d87",
   "metadata": {},
   "outputs": [],
   "source": []
  }
 ],
 "metadata": {
  "kernelspec": {
   "display_name": "Python 3 (ipykernel)",
   "language": "python",
   "name": "python3"
  },
  "language_info": {
   "codemirror_mode": {
    "name": "ipython",
    "version": 3
   },
   "file_extension": ".py",
   "mimetype": "text/x-python",
   "name": "python",
   "nbconvert_exporter": "python",
   "pygments_lexer": "ipython3",
   "version": "3.10.1"
  }
 },
 "nbformat": 4,
 "nbformat_minor": 5
}
