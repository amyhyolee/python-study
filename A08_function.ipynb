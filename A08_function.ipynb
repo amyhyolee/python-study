{
 "cells": [
  {
   "cell_type": "markdown",
   "id": "f31ace72",
   "metadata": {},
   "source": [
    "# 함수 (Functions)\n",
    "## 2022.01.21"
   ]
  },
  {
   "cell_type": "markdown",
   "id": "1c10be42",
   "metadata": {},
   "source": [
    "### 함수란?\n",
    "- 함수(function) : 재사용 가능한 프로그램, 명령 덩어리\n",
    "- 함수(function)의 종류 : 내장함수, 사용자 정의 함수\n",
    "- 함수를 사용하는 이유는 사용하기 편하게 하기 위해서. 코드의 재사용"
   ]
  },
  {
   "cell_type": "markdown",
   "id": "b210fe30",
   "metadata": {},
   "source": [
    "### 파이썬 함수의 구조\n",
    "- 함수 정의\n",
    "```python\n",
    "def 함수명(입력 인수): # (인자1, 인자2...)\n",
    "    <수행할 문장1> \n",
    "    <수행할 문장2> \n",
    "    ...\n",
    "```\n",
    "\n",
    "- 함수 호출\n",
    "```python\n",
    "함수명(입력 인수)\n",
    "```"
   ]
  },
  {
   "cell_type": "markdown",
   "id": "2c8dc3bf",
   "metadata": {},
   "source": [
    "- 함수의 종류\n",
    "|   |Parameter 없음| Parameter 존재|\n",
    "|---|---|---|\n",
    "|반환 값 없음|함수내의 수행문만 수행| 인자를 사용, 수행문만 수행|\n",
    "|반환 값 존재| 인자없이, 수행문 수행 후 결과값 반환| 인자를 사용하여 수행문 수행 후 결과값 반환|"
   ]
  },
  {
   "cell_type": "code",
   "execution_count": 3,
   "id": "84297be6",
   "metadata": {},
   "outputs": [
    {
     "name": "stdout",
     "output_type": "stream",
     "text": [
      "Hello world\n",
      "Hello world\n",
      "Hello world\n"
     ]
    }
   ],
   "source": [
    "# 함수 정의 1\n",
    "# 인자도 없고 return문도 없음\n",
    "\n",
    "# 특정 메세지를 3번출력하는 함수 정의\n",
    "def helloWorld():\n",
    "    for i in range(3):\n",
    "        print('Hello world')\n",
    "\n",
    "# 함수호출\n",
    "helloWorld()"
   ]
  },
  {
   "cell_type": "code",
   "execution_count": 7,
   "id": "b5e55bae",
   "metadata": {},
   "outputs": [
    {
     "name": "stdout",
     "output_type": "stream",
     "text": [
      "Hello Java를 4 번 출력하는 함수 호출\n",
      "Hello Java\n",
      "Hello Java\n",
      "Hello Java\n",
      "Hello Java\n",
      "====================\n"
     ]
    }
   ],
   "source": [
    "# 함수 정의 2\n",
    "# 인자가 있다. return이 없음\n",
    "'''\n",
    "def 함수명(인자1,인자2..):\n",
    "    인자가 있는 명령문\n",
    "'''\n",
    "# 호출\n",
    "# 함수명(값1, 값2...)\n",
    "\n",
    "# 특정 메세지와 n 번 출력하는 함수 정의\n",
    "def helloWorld2(msg, n):\n",
    "    print(f'{msg}를 {n} 번 출력하는 함수 호출')\n",
    "    for i in range(n):\n",
    "        print(msg)\n",
    "    print('='*20)\n",
    "\n",
    "# 함수호출 \n",
    "# TypeError\n",
    "# helloWorld2()\n",
    "helloWorld2('Hello Java', 4)"
   ]
  },
  {
   "cell_type": "code",
   "execution_count": 8,
   "id": "889ea2cf",
   "metadata": {},
   "outputs": [
    {
     "name": "stdout",
     "output_type": "stream",
     "text": [
      "['hello World => 1', 'hello World => 2', 'hello World => 3', 'hello World => 4', 'hello World => 5', 'hello World => 6', 'hello World => 7', 'hello World => 8', 'hello World => 9', 'hello World => 10']\n"
     ]
    }
   ],
   "source": [
    "# 함수 정의 3\n",
    "# 인자가 없다. return이 있다\n",
    "# return 문은 함수를 탈출하는 용도로도 사용.\n",
    "# return 문 아래의 명령은 실행이 되지 않는다.\n",
    "'''\n",
    "def 함수명():\n",
    "    명령문...\n",
    "    return 결과값/수식/명령문\n",
    "'''\n",
    "# 호출\n",
    "# 함수명()\n",
    "\n",
    "# 문자+숫자 => 리스트형태로 저장\n",
    "def helloWorld3():\n",
    "    result = []\n",
    "    for i in range(1, 11):\n",
    "        result.append(f'hello World => {i}')\n",
    "    return result\n",
    "\n",
    "# 함수호출\n",
    "print(helloWorld3())"
   ]
  },
  {
   "cell_type": "code",
   "execution_count": 9,
   "id": "77d89f54",
   "metadata": {},
   "outputs": [
    {
     "name": "stdout",
     "output_type": "stream",
     "text": [
      "환영합니다 ... 홍길동 고객님\n",
      "환영합니다 ... 고길동 고객님\n"
     ]
    }
   ],
   "source": [
    "# 함수 정의 4\n",
    "# 인자가 있다. return이 있다\n",
    "'''\n",
    "def 함수명(인자1, 인자2...):\n",
    "    인자에 관련된 명령문...\n",
    "    return 결과값/수식/명령문\n",
    "'''\n",
    "# 호출\n",
    "# 함수명(값1, 값2...)\n",
    "\n",
    "# 이름을 입력받아서 인사말 메세지 출력하기 \n",
    "def wecome(userName):\n",
    "    return f'환영합니다 ... {userName} 고객님'\n",
    "\n",
    "print(wecome('홍길동'))\n",
    "print(wecome('고길동'))"
   ]
  },
  {
   "cell_type": "code",
   "execution_count": 11,
   "id": "960af70b",
   "metadata": {},
   "outputs": [
    {
     "name": "stdout",
     "output_type": "stream",
     "text": [
      "(134, 66)\n",
      " 두수의 합은? 134 두수의 차는? 66\n"
     ]
    }
   ],
   "source": [
    "# 함수 정의 5\n",
    "# 인자가 있다. return 값이 다중인 경우\n",
    "# 다중 return 값인 경우 자료형은 튜플\n",
    "# (결과값1, 결과값2...)\n",
    "# 각각의 결과값은 인덱싱 으로 접근할 수 있다.\n",
    "'''\n",
    "def 함수명(인자1, 인자2...):\n",
    "    인자에 관련된 명령문...\n",
    "    return 결과값1, 결과값2 ....\n",
    "'''\n",
    "# 호출\n",
    "# 함수명(값1, 값2...)\n",
    "\n",
    "# 두개의 인자를 전달한 후 합과 차의 결과를 리턴한다.\n",
    "def add_differ(x, y):\n",
    "    return x+y, x-y\n",
    "\n",
    "print(add_differ(100, 34)) # (134, 66)\n",
    "print(f' 두수의 합은? {add_differ(100, 34)[0]} 두수의 차는? {add_differ(100, 34)[1]}')"
   ]
  },
  {
   "cell_type": "markdown",
   "id": "6a0b68d7",
   "metadata": {},
   "source": [
    "### 파라미터 초기값\n",
    "- 입력 인수에 초기값 미리 설정하기\n",
    "    - 초기화 하고자 하는 인수는 마지막에 설정하자\n",
    "\n",
    "```python\n",
    "def 함수명(인자1=값1, 인자2=값2):\n",
    "    인자에 관련된 명령문...\n",
    "    return 값/변수/수식/명령문\n",
    "\n",
    "```\n",
    "\n",
    "```python\n",
    "def 함수명(인자1, 인자2=값2):\n",
    "    인자에 관련된 명령문...\n",
    "    return 값/변수/수식/명령문\n",
    "```"
   ]
  },
  {
   "cell_type": "code",
   "execution_count": 13,
   "id": "3732bf5e",
   "metadata": {},
   "outputs": [
    {
     "name": "stdout",
     "output_type": "stream",
     "text": [
      "0 + 0 + 0 = 0\n",
      "10 + 0 + 0 = 10\n",
      "10 + 20 + 0 = 30\n",
      "10 + 20 + 30 = 60\n"
     ]
    }
   ],
   "source": [
    "# 함수 정의 6\n",
    "# 인자의 초기값 설정 (모든 인자의 초기값이 있는 경우)\n",
    "\n",
    "# 세수의 합을 구하는 함수 정의 \n",
    "# 인자로 세개의 숫자는 전달. 초기값은 0 \n",
    "def add_num(x=0, y=0, z=0):\n",
    "    return f'{x} + {y} + {z} = {x+y+z}'\n",
    "\n",
    "print(add_num())\n",
    "print(add_num(10))\n",
    "print(add_num(10, 20))\n",
    "print(add_num(10, 20, 30))"
   ]
  },
  {
   "cell_type": "code",
   "execution_count": 15,
   "id": "9baa3e00",
   "metadata": {},
   "outputs": [
    {
     "name": "stdout",
     "output_type": "stream",
     "text": [
      "4 X 5 X 6 = 120\n",
      "4 X 5 X 1 = 20\n",
      "4 X 1 X 1 = 4\n"
     ]
    }
   ],
   "source": [
    "# 함수 정의 7\n",
    "# 인자의 초기값 설정 (인자의 일부만 초기값이 있는 경우)\n",
    "# 주의 사항은 마지막 인자부터 초기값이 있어야 한다.\n",
    "\n",
    "# 세수의 곱을 리턴한다.\n",
    "def multy_num(x, y=1, z=1):\n",
    "    return f'{x} X {y} X {z} = {x*y*z}'\n",
    "\n",
    "print(multy_num(4, 5, 6))\n",
    "print(multy_num(4, 5))\n",
    "print(multy_num(4))\n",
    "# TypeError: multy_num() missing 1 required positional argument: 'x'\n",
    "# print(multy_num())"
   ]
  },
  {
   "cell_type": "markdown",
   "id": "bc25f2ea",
   "metadata": {},
   "source": [
    "### 가변 인자 함수\n",
    "- 가변 입력 값 *args\n",
    "    - 가변인자(Variable-length)란 개수가 정해지지 않은 변수를 함수의 파라미터로 사용\n",
    "    - Asterisk(*) 기호를 사용하여 함수의 파라미터를 표시한다.\n",
    "    - 가변 인자는 tuple 형태로 저장된다.\n",
    "    - 일반 파라미터와 함께 사용할 경우에는 *args는 마지막에 위치해야 한다.\n",
    "\n",
    "```python\n",
    "def 함수명(*args):\n",
    "    args에 관련된 명령문...\n",
    "    return 값/변수/수식/명령문\n",
    "```\n",
    "\n",
    "```python\n",
    "def 함수명(인자, *args):\n",
    "    인자와 args를 이용한 명령문...\n",
    "    return 값/변수/수식/명령문\n",
    "```"
   ]
  },
  {
   "cell_type": "code",
   "execution_count": 23,
   "id": "e08c33ac",
   "metadata": {},
   "outputs": [
    {
     "name": "stdout",
     "output_type": "stream",
     "text": [
      "학생이 없습니다.\n",
      "홍길동 님 안녕하세요\n",
      "고길동 둘리 님 안녕하세요\n",
      "고길동 둘리 마이콜 님 안녕하세요\n"
     ]
    }
   ],
   "source": [
    "# 함수 정의 8\n",
    "# 가변인자인 경우 : 인자의 갯수가 정해지지 않는 경우\n",
    "# *args => arguments\n",
    "\n",
    "# n명의 학생의 이름을 입력받은 후 출력한다.\n",
    "# 가변인자 *args, return X\n",
    "\n",
    "def message(*args):\n",
    "    # print(args, type(args))\n",
    "    if args: #빈 튜플이 아니라면\n",
    "        for item in args:\n",
    "            print(item, end=' ')\n",
    "        print('님 안녕하세요')\n",
    "    else:\n",
    "        print('학생이 없습니다.')\n",
    "        \n",
    "message()\n",
    "message('홍길동')\n",
    "message('고길동', '둘리')\n",
    "message('고길동', '둘리', '마이콜')"
   ]
  },
  {
   "cell_type": "code",
   "execution_count": 42,
   "id": "94c386cc",
   "metadata": {},
   "outputs": [
    {
     "name": "stdout",
     "output_type": "stream",
     "text": [
      "인자값이 없다\n",
      "1 + 2 = 3\n",
      "4 + 5 + 6 = 15\n",
      "4 + 5 + 6 + 10 + 50 = 75\n"
     ]
    }
   ],
   "source": [
    "# 퀴즈. n개의 숫자의 합을 구하는 가변함수를 정의하여라\n",
    "# *args 이용 \n",
    "'''\n",
    "sumNumber() => 인자값이 없다 \n",
    "sumNumber(1,2) => 1+2=?\n",
    "sumNumber(4,5,6) => 4+5+6=?\n",
    "sumNumber(4,5,6,10,50) => 4+5+6+10+50=?\n",
    "'''\n",
    "def sumNumber(*args):\n",
    "    if len(args) == 0:\n",
    "        print('인자값이 없다')\n",
    "    else :\n",
    "        for num in args:\n",
    "            if num == args[len(args)-1]:\n",
    "                print(f'{num}', end = \" \")\n",
    "            else:\n",
    "                print(f'{num}', end = \" + \")\n",
    "        print(f'= {sum(args)}')\n",
    "        \n",
    "sumNumber()\n",
    "sumNumber(1,2) \n",
    "sumNumber(4,5,6)\n",
    "sumNumber(4,5,6,10,50)"
   ]
  },
  {
   "cell_type": "code",
   "execution_count": null,
   "id": "88a16d8c",
   "metadata": {},
   "outputs": [],
   "source": [
    "def sumNumber(*args):\n",
    "    total = 0 # 가변인자의 누적합 변수\n",
    "    if args: # 길이가 0이 아니라면\n",
    "        for num in args:\n",
    "            total += num\n",
    "        # print(f'{args} = {total}')\n",
    "        # 가변인자를 문자열리스트로 변환\n",
    "        txt = [str(i) for i in args] # ['10', '20'...]\n",
    "        print(f'{\" + \".join(txt)} = {total}')\n",
    "    else :\n",
    "        print('인자값이 없다')\n",
    "        \n",
    "def sumNumber(*args):\n",
    "    if args: # 길이가 0이 아니라면\n",
    "        # 가변인자를 문자열리스트로 변환\n",
    "        txt = [str(i) for i in args] # ['10', '20'...]\n",
    "        # sum(튜플/리스트) 총합을 반환하는 내장함수\n",
    "        print(f'{\" + \".join(txt)} = {sum(args)}')\n",
    "    else :\n",
    "        print('인자값이 없다')"
   ]
  },
  {
   "cell_type": "code",
   "execution_count": 44,
   "id": "e1e80d74",
   "metadata": {},
   "outputs": [
    {
     "name": "stdout",
     "output_type": "stream",
     "text": [
      "\n",
      "학생명 => 김철수\n",
      "과목 점수가 없다\n",
      "\n",
      "학생명 => 박철수\n",
      "학생 점수 => (50, 80) \n",
      "\n",
      "학생명 => 고철수\n",
      "학생 점수 => (50, 80, 90, 100) \n",
      "\n",
      "학생명 => 왕철수\n",
      "학생 점수 => (50, 80, 90, 100, 44, 78) \n"
     ]
    }
   ],
   "source": [
    "# 함수 정의 9\n",
    "# 일반인자랑 가변인자랑 함께 있는 경우\n",
    "# 주의 사항: 일반 인자는 앞쪽으로 배치. 가변 인자 *args는 뒷편에 배치\n",
    "\n",
    "# 학생이름, 점수(가변인자)\n",
    "def scorePrint1(stdName, *args):\n",
    "    print(f'\\n학생명 => {stdName}' )\n",
    "    if args:\n",
    "        print(f'학생 점수 => {args} ')\n",
    "    else:\n",
    "        print('과목 점수가 없다')\n",
    "\n",
    "\n",
    "scorePrint1('김철수')\n",
    "scorePrint1('박철수', 50, 80)\n",
    "scorePrint1('고철수', 50, 80, 90, 100)\n",
    "scorePrint1('왕철수', 50, 80, 90, 100, 44, 78)"
   ]
  },
  {
   "cell_type": "code",
   "execution_count": 46,
   "id": "993a1173",
   "metadata": {},
   "outputs": [
    {
     "name": "stdout",
     "output_type": "stream",
     "text": [
      "계산결과 = 곱 : 600\n",
      "계산결과 = 합 : 100\n",
      "계산 오류\n",
      "계산 대상이 없다\n"
     ]
    }
   ],
   "source": [
    "# 계산기호인자 값에 따라서 뒤의 가변인자값을 계산하여라\n",
    "\n",
    "def calChoice(choice, *args) :\n",
    "    if len(args) == 0:\n",
    "        print('계산 대상이 없다')\n",
    "    elif choice == '+':\n",
    "        print(f'계산결과 = 합 : {sum(args)}')\n",
    "    elif choice == '*':\n",
    "        result = 1\n",
    "        for num in args:\n",
    "            result *= num\n",
    "        print(f'계산결과 = 곱 : {result}')\n",
    "    else:\n",
    "        print('계산 오류')\n",
    "\n",
    "calChoice('*', 20,30)\n",
    "calChoice('+', 20,30,50)\n",
    "calChoice('-', 20,30,50)\n",
    "calChoice('+')"
   ]
  },
  {
   "cell_type": "markdown",
   "id": "c16b3d45",
   "metadata": {},
   "source": [
    "### 딕셔너리 가변인자 **kwargs\n",
    "- 가변인자는 `키=값`\n",
    "- 결과 데이터형이 딕셔너리\n",
    "- kwargs = Keyword Arguments\n",
    "```python\n",
    "def 함수명(**kwargs):\n",
    "    kwargs를 명령문...\n",
    "    return 값/변수/수식/명령문\n",
    "```\n",
    "\n",
    "```python\n",
    "    # 호출\n",
    "    함수명(키1=값1)\n",
    "    함수명(키1=값1, 키2=값3 ...)\n",
    "```\n",
    "\n",
    "- 초기값이 있는 딕셔너리 가변인자 `**kwargs`\n",
    "\n",
    "```python\n",
    "    def 함수명(**kwargs):\n",
    "        # 초기값 지정\n",
    "        kwargs[키값] = 값\n",
    "        kwargs를 명령문...\n",
    "        return 값/변수/수식/명령문\n",
    "```"
   ]
  },
  {
   "cell_type": "code",
   "execution_count": 47,
   "id": "1ee629af",
   "metadata": {},
   "outputs": [
    {
     "name": "stdout",
     "output_type": "stream",
     "text": [
      "{} <class 'dict'>\n",
      "{'key1': 'python'} <class 'dict'>\n",
      "{'key1': 'python', 'key2': 'JAVA', 'key3': 'MariaDB'} <class 'dict'>\n"
     ]
    }
   ],
   "source": [
    "# 함수 정의 10\n",
    "# **kwargs를 이용해서 함수 정의 후 호출\n",
    "\n",
    "def printDict(**kwargs):\n",
    "    print(kwargs, type(kwargs))\n",
    "\n",
    "printDict()\n",
    "printDict(key1='python')\n",
    "printDict(key1='python', key2='JAVA', key3='MariaDB')"
   ]
  },
  {
   "cell_type": "code",
   "execution_count": 48,
   "id": "0fd3c75b",
   "metadata": {},
   "outputs": [
    {
     "name": "stdout",
     "output_type": "stream",
     "text": [
      "dict1 = {'a': 'apart', 'c': 'cat'}\n",
      "dict2 = {'d': 'dress', 'x': 'xlay', 'a': 'apart', 'c': 'cat'}\n"
     ]
    }
   ],
   "source": [
    "# 딕셔너리 생성 함수 정의\n",
    "# **kwargs 이용, return\n",
    "def makeDict(**kwargs):\n",
    "    return kwargs\n",
    "\n",
    "dict1 = makeDict(a='apart', c='cat')\n",
    "dict2 = makeDict(d='dress', x='xlay', a='apart', c='cat')\n",
    "print(f'dict1 = {dict1}')\n",
    "print(f'dict2 = {dict2}')"
   ]
  },
  {
   "cell_type": "code",
   "execution_count": 49,
   "id": "7847d0a1",
   "metadata": {},
   "outputs": [
    {
     "name": "stdout",
     "output_type": "stream",
     "text": [
      "student1 = {'name': '이승기', 'age': 27, 'gender': '남', 'nationality': '한국'}\n",
      "student2 = {'name': '이세영', 'age': 22, 'gender': '여', 'nationality': '한국'}\n"
     ]
    }
   ],
   "source": [
    "# 함수 정의 11\n",
    "# 초기값이 있는 딕셔너리 가변인자 **kwargs\n",
    "# 가변인자는 키=값\n",
    "# 결과 데이터형이 딕셔너리\n",
    "\n",
    "# 학생 정보를 딕셔너리를 이용해서 구조화\n",
    "# 국가의 초기값을 한국\n",
    "\n",
    "def makeStudent1(**kwargs):\n",
    "    # 딕셔너리 초기값 지정\n",
    "    kwargs['nationality'] = '한국'\n",
    "    return kwargs\n",
    "\n",
    "student1 = makeStudent1(name='이승기', age=27, gender='남')\n",
    "student2 = makeStudent1(name='이세영', age=22, gender='여')\n",
    "print(f'student1 = {student1}')\n",
    "print(f'student2 = {student2}')"
   ]
  },
  {
   "cell_type": "code",
   "execution_count": 51,
   "id": "94f5b611",
   "metadata": {},
   "outputs": [
    {
     "name": "stdout",
     "output_type": "stream",
     "text": [
      "student4 = {'name': '이세영', 'age': 22, 'gender': '여', 'nationality': '한국'}\n",
      "student5 = {'name': '마리아', 'age': 27, 'gender': '여', 'nationality': '스페인'}\n"
     ]
    }
   ],
   "source": [
    "# 딕셔너리 초기값은 무시되고 전달되는 값으로 교체되도록 함수 정의\n",
    "def makeStudent2(**kwargs):\n",
    "    # kwargs에 전달되는 키와 값이 없다면 딕셔너리 초기값 지정\n",
    "    if 'nationality' not in kwargs:\n",
    "        kwargs['nationality'] = '한국'\n",
    "    return kwargs\n",
    "\n",
    "student4 = makeStudent2(name='이세영', age=22, gender='여')\n",
    "student5 = makeStudent2(name='마리아', age=27, gender='여', nationality='스페인')\n",
    "print(f'student4 = {student4}')\n",
    "print(f'student5 = {student5}')"
   ]
  },
  {
   "cell_type": "markdown",
   "id": "be6e988a",
   "metadata": {},
   "source": [
    "### 람다 함수\n",
    "- 런타임에 생성해서 사용할 수 있는 익명 함수\n",
    "- 쓰고 버리는 일시적인 함수\n",
    "- 보통 한줄로 간결하게 함수를 만들어 사용할때 사용한다.\n",
    "- `def` 를 사용할 수 없는 곳에서 사용한다.\n",
    "- 형식: `lambda 인자리스트: 표현식`\n",
    "\n",
    "\n",
    "```python\n",
    "```"
   ]
  },
  {
   "cell_type": "code",
   "execution_count": 52,
   "id": "d27c16bb",
   "metadata": {},
   "outputs": [
    {
     "name": "stdout",
     "output_type": "stream",
     "text": [
      "은지원님 안녕하세요\n",
      "이민호님 안녕하세요\n"
     ]
    }
   ],
   "source": [
    "# 메세지를 출력하는 람다함수 정의 \n",
    "f1 = lambda userName:(userName + '님 안녕하세요')\n",
    "\n",
    "# 함수 호출 \n",
    "print(f1('은지원'))\n",
    "print(f1('이민호'))"
   ]
  },
  {
   "cell_type": "code",
   "execution_count": 53,
   "id": "a5c47414",
   "metadata": {},
   "outputs": [
    {
     "name": "stdout",
     "output_type": "stream",
     "text": [
      "10 + 20 + 30 = 60\n",
      "67 + 22 + 34 = 123\n"
     ]
    }
   ],
   "source": [
    "# 3수의 합을 출력\n",
    "# 일반함수\n",
    "# def ff2(x, y, z):\n",
    "#     return f'{x} + {y} + {z} = {x+y+z}'\n",
    "\n",
    "f2 = lambda x,y,z:f'{x} + {y} + {z} = {x+y+z}'\n",
    "print(f2(10, 20, 30))\n",
    "print(f2(67, 22, 34))"
   ]
  },
  {
   "cell_type": "markdown",
   "id": "839208a6",
   "metadata": {},
   "source": [
    "### 함수의 변수 영역\n",
    "- 스코프(Scope)\n",
    "    - 전역변수(문서 전체의 공통변수)\n",
    "    - 지역변수(함수내부에만 유효한 변수)\n",
    "\n",
    " - 함수내에서 지역변수를 전역변수로 정의\n",
    "    - `global 변수명`"
   ]
  },
  {
   "cell_type": "code",
   "execution_count": 61,
   "id": "4043b888",
   "metadata": {},
   "outputs": [
    {
     "name": "stdout",
     "output_type": "stream",
     "text": [
      "==============================\n",
      " 함수밖의 x = 100\n",
      " 함수밖의 y = 200\n",
      "==============================\n",
      " 함수안의 x = 300\n",
      " 함수안의 y = 400\n",
      "==============================\n",
      " 함수안의 x = 500\n",
      " 함수안의 y = 800\n",
      "==============================\n",
      " 함수밖의 x = 110\n",
      " 함수밖의 y = 810\n"
     ]
    }
   ],
   "source": [
    "x = 100\n",
    "y = 200\n",
    "\n",
    "print('='*30)\n",
    "print(f' 함수밖의 x = {x}')\n",
    "print(f' 함수밖의 y = {y}')\n",
    "print('='*30)\n",
    "\n",
    "def scopeTest():\n",
    "    x = 300\n",
    "    y = 400\n",
    "    print(f' 함수안의 x = {x}')\n",
    "    print(f' 함수안의 y = {y}')\n",
    "\n",
    "scopeTest()\n",
    "\n",
    "def scopeTest2():\n",
    "    # 전역 변수 선언\n",
    "    global y #  # 밖의 y 값이 할당된다 (200 함수 )\n",
    "    x = 500\n",
    "    y = 800\n",
    "    print(f' 함수안의 x = {x}')\n",
    "    print(f' 함수안의 y = {y}')\n",
    "\n",
    "print('='*30)\n",
    "scopeTest2()\n",
    "\n",
    "print('='*30)\n",
    "x += 10\n",
    "y += 10\n",
    "print(f' 함수밖의 x = {x}')\n",
    "print(f' 함수밖의 y = {y}')"
   ]
  },
  {
   "cell_type": "markdown",
   "id": "a2ce944e",
   "metadata": {},
   "source": [
    "### 내장 함수\n",
    "- 파이썬의 내장 함수는 import 하지 않고 즉시 사용 가능한 함수들이다.\n",
    "\n",
    "\n",
    "- 입출력 관련 함수\n",
    "    \n",
    "    | 함수명 | 기능 |\n",
    "    |:---|:---|\n",
    "    |`print(x)`|객체를 문자열로 표시한다.|\n",
    "    |`input([prompt])`|사용자 입력을 문자열로 반환한다.|\n",
    "    |`help([x])`|x에 대한 도움말을 출력한다.|\n",
    "    |`globals()`|전역 변수의 리스트를 반환한다.|\n",
    "    |`locals()` 혹은 `vars()` `vars(obj)`|지역 변수의 리스트를 반환한다. `__dict__` 어트리뷰트를 반환한다. (객체의 내부 변수가 저장 된 딕셔너리)|\n",
    "    |`del(x)` 혹은 `del x`|객체를 변수 공간에서 삭제한다.|\n",
    "    |`eval(expr)`|값을 구한다.|\n",
    "    |`exec(obj)`|파이썬 명령을 실행시킨다.|\n",
    "    |`open(filename[,mode]))`|파일을 연다|\n",
    "    \n",
    "\n",
    "   "
   ]
  },
  {
   "cell_type": "markdown",
   "id": "01824bac",
   "metadata": {},
   "source": [
    "- 기본 자료형의 생성과 변환 함수\n",
    "    | 함수명 | 기능 |\n",
    "    |:---|:---|\n",
    "    |`object()`|새로운 object (모든 객체의 base)를 생성한다.|\n",
    "    |`bool(obj)`|객체의 진리값을 반환한다.|\n",
    "    |`int(obj)`|문자열 형태의 숫자나 실수를 정수로 변환한다.|\n",
    "    |`float(obj)`|문자열 형태의 숫자나 정수를 실수로 변환한다.|\n",
    "    |`complex(re [, img])`|문자열이나 주어진 숫자로 복소수를 생성한다.|\n",
    "    "
   ]
  },
  {
   "cell_type": "markdown",
   "id": "98014718",
   "metadata": {},
   "source": [
    "- 기본 자료형의 정보를 얻는 함수\n",
    "    | 함수명 | 기능 |\n",
    "    |:---|:---|\n",
    "    |`type(obj)`|객체의 형을 반환한다.|\n",
    "    |`dir(obj)`|객체가 가진 함수와 변수들을 리스트 형태로 반환한다.|\n",
    "    |`repr(obj) ascii(obj)`|`evla()`함수로 다시 객체를 복원할 수 있는 문자열 생성 `repr()`과 유사하나 non-ascii 문자는 escape한다.(?)|\n",
    "    |`id(obj)`|객체의 고유번호(int형)을 반환한다.|\n",
    "    |`hash(obj)`|객체의 해시값(int형)을 반환. (같은 값이면 해시도 같다.)|\n",
    "    |`chr(num) ord(str)`|ASCII 값을 문자로 반환 한 문자의 ASCII 값을 반환|\n",
    "    |`isinstance(obj, className)`|객체가 클래스의 인스턴스인지를 판단한다.|\n",
    "    |`issubclass(class, classinfo)`|class가 classinfo 의 서브클래스일때 True 반환|"
   ]
  },
  {
   "cell_type": "markdown",
   "id": "cba50daa",
   "metadata": {},
   "source": [
    "-  열거형의 정보를 얻는 함수\n",
    "    | 함수명 | 기능 |\n",
    "    |:---|:---|\n",
    "    |`len(seq)`|시퀀스형을 받아서 그 길이를 반환한다.|\n",
    "    |`iter(obj [,sentinel])` <br> `next(iterator)`|객체의 이터레이터(iterator)를 반환한다. <br> 이터레이터의 현재 요소를 반환하고 포인터를 하나 넘긴다.|\n",
    "    |`enumerate(iterable, start=0)`|이터러블에서 enumerate 형을 반환한다. <br> 입력값으로 시퀀스자료형(리스트, 튜플, 문자열)을 입력을 받는다.|\n",
    "    |`sorted(iterable[,key][,reverse])`|정렬된 *리스트*를 반환|\n",
    "    |`reversed(seq)`|역순으로 된 *iterator*를 반환한다.|\n",
    "    |`filter(func, iterable)`|iterable의 각 요소 중 func()의 반환값이 참인 것만을 묶어서 이터레이터 로 반환|\n",
    "    |`map(func, iterable)`|iterable의 각 요소를 func()의 반환값으로 매핑해서 이터레이터로 반환.|\n",
    "    \n",
    ">  iterable:반복가능한 자료형 (문자열, 리스트, 튜플, 딕셔너리, 집합)"
   ]
  },
  {
   "cell_type": "markdown",
   "id": "71f40439",
   "metadata": {},
   "source": [
    "- 산술/논리 연산에 관련된 함수\n",
    "    | 함수명 | 기능 |\n",
    "    |:---|:---|\n",
    "    |`hex(n)` <br> `oct(n)` <br> `bin(n)`|정수 n의 16진수 값을 구해서 ‘문자열’로 반환한다. <br> 정수 n의 8진수 값을 구해서 ‘문자열’로 반환한다. <br> 정수 n의 2진수 값을 구해서 ‘문자열’로 반환한다.|\n",
    "|`abs(n)`|절대값을 구한다. 복소수의 경우 크기를 구한다.|\n",
    "|`pow(x,y[,z])`|거듭제곱을 구한다. pow(x,y)은 x\\*\\*y 와 같다.|\n",
    "|`divmod(a,b)`|a를 b로 나눈 (몫, 나머지)를 구한다. 튜플 반환.|\n",
    "|`all(iterable) any(iterable)`|iterable 의 모든 요소가 True 일 경우 True를 반환.  <br> iterable 의 하나 이상의 요소가 True 일 경우 True를 반환.|\n",
    "|`max(iterable) max(arg1, arg2, ...)`|최대값을 구한다.|\n",
    "|`min(iterable) min(arg1, arg2, ...)`|최소값을 구한다.|\n",
    "|`round()`|반올림을 한다.|"
   ]
  }
 ],
 "metadata": {
  "kernelspec": {
   "display_name": "Python 3 (ipykernel)",
   "language": "python",
   "name": "python3"
  },
  "language_info": {
   "codemirror_mode": {
    "name": "ipython",
    "version": 3
   },
   "file_extension": ".py",
   "mimetype": "text/x-python",
   "name": "python",
   "nbconvert_exporter": "python",
   "pygments_lexer": "ipython3",
   "version": "3.10.1"
  }
 },
 "nbformat": 4,
 "nbformat_minor": 5
}
