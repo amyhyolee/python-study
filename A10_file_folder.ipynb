{
 "cells": [
  {
   "cell_type": "markdown",
   "id": "55cf872e",
   "metadata": {},
   "source": [
    "# 파일입출력함수"
   ]
  },
  {
   "cell_type": "code",
   "execution_count": 1,
   "id": "ddf5d482",
   "metadata": {},
   "outputs": [],
   "source": [
    "# 파일, 폴더 관리에 관련된 테스트\n",
    "# os 모듈은 폴더 생성, 경로 변경, 파일 목록 보기, 파일 삭제 함수 제공\n",
    "import os"
   ]
  },
  {
   "cell_type": "markdown",
   "id": "91a3cf90",
   "metadata": {},
   "source": [
    "### 폴더 찾기\n",
    "- 작업폴더 경로 확인\n",
    "    - `os.getcwd()`\n",
    "- 작업폴더의 파일과 폴더 목록를 리스트로 표시\n",
    "    - `os.listdir(os.getcwd())`\n",
    "- 폴더가 있으면 폴더로 이동\n",
    "    - `os.chdir('폴더')`\n",
    "    - `os.chdir('홈/폴더/폴더2')` # 상위 폴더로 이동"
   ]
  },
  {
   "cell_type": "code",
   "execution_count": 2,
   "id": "7f99d0dd",
   "metadata": {},
   "outputs": [
    {
     "name": "stdout",
     "output_type": "stream",
     "text": [
      "/Users/hyojinlee/busanAI/python\n",
      "['A04_data_type_tuple.ipynb', 'exception_handling.ipynb', 'A02_python_basic_2.ipynb', '.DS_Store', 'B03_quiz3_control_statement.ipynb', 'A07_control_statement.ipynb', 'A05_data_type_dictionary.ipynb', 'B01_quiz1_basic_python.ipynb', 'A06_data_type_set.ipynb', 'A01_python_basic.ipynb', 'class.ipynb', 'file_folder.ipynb', '.ipynb_checkpoints', 'B04_quiz4.ipynb', 'B02_quiz2_data_type.ipynb', 'data', 'A03_data_type_list.ipynb', 'A08_function.ipynb', 'A09_datetime.ipynb']\n"
     ]
    }
   ],
   "source": [
    "# 현재 작업중인 파일을 기준으로 작업폴더의 목록 확인\n",
    "print(os.getcwd()) # /Users/hyojinlee/busanAI/python\n",
    "print(os.listdir(os.getcwd())) # 작업폴더의 파일과 폴더 목록를 리스트로 표시"
   ]
  },
  {
   "cell_type": "code",
   "execution_count": 3,
   "id": "9195a55a",
   "metadata": {},
   "outputs": [
    {
     "name": "stdout",
     "output_type": "stream",
     "text": [
      "/Users/hyojinlee/busanAI/python/data\n",
      "['Yesterday.txt', 'white_before.txt', 'black.txt', 'test1.txt', 'data_eng.txt', 'addr.csv', '2018.csv', 'data.csv', 'testPackage.py', 'population.csv', 'csv_test.csv', 'addr2.csv', 'traffic_2017.csv', 'white.txt', 'coding.txt', 'seoul.csv', 'data_kor.txt', 'color.txt', 'myList.txt', 'sample.txt']\n"
     ]
    }
   ],
   "source": [
    "# data 폴더안의 파일 목록 확인\n",
    "\n",
    "# data 폴더로 이동\n",
    "os.chdir('data')\n",
    "\n",
    "# 현재 폴더의 위치 확인\n",
    "print(os.getcwd()) # /Users/hyojinlee/busanAI/python/data\n",
    "print(os.listdir(os.getcwd()))"
   ]
  },
  {
   "cell_type": "code",
   "execution_count": 4,
   "id": "6651d978",
   "metadata": {},
   "outputs": [
    {
     "name": "stdout",
     "output_type": "stream",
     "text": [
      "/Users/hyojinlee/busanAI/python\n",
      "['A04_data_type_tuple.ipynb', 'exception_handling.ipynb', 'A02_python_basic_2.ipynb', '.DS_Store', 'B03_quiz3_control_statement.ipynb', 'A07_control_statement.ipynb', 'A05_data_type_dictionary.ipynb', 'B01_quiz1_basic_python.ipynb', 'A06_data_type_set.ipynb', 'A01_python_basic.ipynb', 'class.ipynb', 'file_folder.ipynb', '.ipynb_checkpoints', 'B04_quiz4.ipynb', 'B02_quiz2_data_type.ipynb', 'data', 'A03_data_type_list.ipynb', 'A08_function.ipynb', 'A09_datetime.ipynb']\n"
     ]
    }
   ],
   "source": [
    "# 상위 폴더로 이동\n",
    "os.chdir('/Users/hyojinlee/busanAI/python/')\n",
    "print(os.getcwd())\n",
    "print(os.listdir(os.getcwd()))"
   ]
  },
  {
   "cell_type": "markdown",
   "id": "e2e85c59",
   "metadata": {},
   "source": [
    "### 폴더 생성\n",
    "- 없다면 폴더 생성\n",
    "- 있다면 에러 발생\n",
    "\n",
    "- `os.mkdir('폴더이름')`"
   ]
  },
  {
   "cell_type": "code",
   "execution_count": 17,
   "id": "20567dac",
   "metadata": {},
   "outputs": [
    {
     "name": "stdout",
     "output_type": "stream",
     "text": [
      "['A04_data_type_tuple.ipynb', 'exception_handling.ipynb', 'A02_python_basic_2.ipynb', '.DS_Store', 'B03_quiz3_control_statement.ipynb', 'A07_control_statement.ipynb', 'A05_data_type_dictionary.ipynb', 'B01_quiz1_basic_python.ipynb', 'A06_data_type_set.ipynb', 'output', 'A01_python_basic.ipynb', 'class.ipynb', 'file_folder.ipynb', '.ipynb_checkpoints', 'B04_quiz4.ipynb', 'B02_quiz2_data_type.ipynb', 'data', 'A03_data_type_list.ipynb', 'A08_function.ipynb', 'A09_datetime.ipynb']\n"
     ]
    }
   ],
   "source": [
    "# 없다면 폴더 생성\n",
    "# 있다면 에러 발생\n",
    "# FileExistsError: [WinError 183] 파일이 이미 있으므로 만들 수 없습니다: 'output'\n",
    "# os.mkdir('output')\n",
    "print(os.listdir(os.getcwd()))"
   ]
  },
  {
   "cell_type": "markdown",
   "id": "886d1056",
   "metadata": {},
   "source": [
    "### 파일입출력\n",
    "```python\n",
    "파일변수  = open(파일경로, 'r'/'w'/'a', encoding='utf-8/cp949')\n",
    "파일변수.파일입출력함수(옵션)\n",
    "```"
   ]
  },
  {
   "cell_type": "markdown",
   "id": "ff709e45",
   "metadata": {},
   "source": [
    "### 파일읽기\n",
    "- 파일변수 생성\n",
    "    - ```python \n",
    "    파일변수  = open(파일경로, 'r', encoding='utf-8/cp949')\n",
    "    ```\n",
    "    - `파일변수.read()` : 파일전체 문자열 구조 =>  문자열\n",
    "    - `파일변수.readline()` : 파일에서 첫줄만 읽기 => 문자열\n",
    "    - `파일변수.readlines()` : 각행이 리스트 구조로 변경 => 리스트\n",
    "\n",
    "    - 파일이 없다면 FileNotFoundError"
   ]
  },
  {
   "cell_type": "code",
   "execution_count": 6,
   "id": "bfb7d5a8",
   "metadata": {},
   "outputs": [
    {
     "name": "stdout",
     "output_type": "stream",
     "text": [
      "<_io.TextIOWrapper name='/Users/hyojinlee/busanAI/python/data/Yesterday.txt' mode='r' encoding='UTF-8'> <class '_io.TextIOWrapper'>\n"
     ]
    }
   ],
   "source": [
    "# f = open('data/Yesterday.txt', 'r') # 상대경로 방식\n",
    "f = open('/Users/hyojinlee/busanAI/python/data/Yesterday.txt', 'r') # 절대경로 방식\n",
    "print(f, type(f))"
   ]
  },
  {
   "cell_type": "code",
   "execution_count": 7,
   "id": "7d84c427",
   "metadata": {},
   "outputs": [
    {
     "name": "stdout",
     "output_type": "stream",
     "text": [
      "read() 이용 ==============\n",
      "<class 'str'>\n",
      "Yesterday \n",
      "All my troubles seemed so far away\n",
      "Now it looks as though they're here to stay\n",
      "Oh, I beli\n"
     ]
    }
   ],
   "source": [
    "# 파일전체 문자열 구조 =>  문자열\n",
    "print('read() 이용 ==============')\n",
    "data1 = f.read()\n",
    "print(type(data1))  # <class 'str'>\n",
    "# print(data1)\n",
    "print(data1[:100])\n",
    "f.close()"
   ]
  },
  {
   "cell_type": "code",
   "execution_count": 8,
   "id": "bd914224",
   "metadata": {},
   "outputs": [
    {
     "name": "stdout",
     "output_type": "stream",
     "text": [
      "\n",
      "\n",
      " readline() 이용 ==============\n",
      "<class 'str'>\n",
      "Yesterday \n",
      "\n"
     ]
    }
   ],
   "source": [
    "# readline() : 파일에서 첫줄만 읽기 => 문자열\n",
    "print('\\n\\n readline() 이용 ==============')\n",
    "f = open('data/Yesterday.txt', 'r')\n",
    "data2 = f.readline()\n",
    "print(type(data2))  # <class 'str'>\n",
    "print(data2)\n",
    "f.close()"
   ]
  },
  {
   "cell_type": "code",
   "execution_count": 9,
   "id": "95d35e47",
   "metadata": {},
   "outputs": [
    {
     "name": "stdout",
     "output_type": "stream",
     "text": [
      "\n",
      "\n",
      " readlines() 이용 ==============\n",
      "<class 'list'>\n",
      " 전체 행수는? 30\n",
      "Yesterday \n",
      "\n",
      "All my troubles seemed so far away\n",
      "\n",
      "Now it looks as though they're here to stay\n",
      "\n",
      "Oh, I believe in yesterday\n",
      "\n",
      "\n",
      "\n",
      " 전체 행수는? 25\n",
      "['Yesterday', 'All my troubles seemed so far away', \"Now it looks as though they're here to stay\", 'Oh, I believe in yesterday', 'Suddenly', \"I'm not half the man I used to be\", \"There's a shadow hanging over me\", 'Oh, yesterday came suddenly', 'Why she had to go,', \"I don't know She wouldn't say\", 'I said something wrong', 'Now I long for yesterday', 'Yesterday', 'Love was such an easy game to play', 'Now I need a place to hide away', 'Oh, I believe in yesterday', 'Why she had to go,', \"I don't know She wouldn't say\", 'I said something wrong', 'Now I long for yesterday', 'Yesterday', 'Love was such an easy game to play', 'Now I need a place to hide away', 'Oh, I believe in yesterday', 'Mm mm mm mm mm mm mm mm.....']\n",
      "Yesterday\n",
      "All my troubles seemed so far away\n",
      "Now it looks as though they're here to stay\n",
      "Oh, I believe in yesterday\n",
      "Suddenly\n"
     ]
    }
   ],
   "source": [
    "# readlines() : 각행이 리스트 구조로 변경 => 리스트\n",
    "print('\\n\\n readlines() 이용 ==============')\n",
    "f = open('data/Yesterday.txt', 'r')\n",
    "data3 = f.readlines()\n",
    "print(type(data3))  # <class 'list'>\n",
    "print(f' 전체 행수는? {len(data3)}')\n",
    "for line in data3[:5]:\n",
    "    print(line)\n",
    "\n",
    "    \n",
    "# \\n 개행 및 빈줄 삭제하기\n",
    "# False 조건 : '', [], 0, {}\n",
    "data4 = []\n",
    "for line in data3:\n",
    "    temp = line.strip()\n",
    "    if temp:\n",
    "        data4.append(temp)\n",
    "\n",
    "print(f' 전체 행수는? {len(data4)}')\n",
    "# print(data3)\n",
    "print(data4)\n",
    "for line in data4[:5]:\n",
    "    print(line)\n",
    "\n",
    "f.close()"
   ]
  },
  {
   "cell_type": "code",
   "execution_count": 10,
   "id": "cb6a7883",
   "metadata": {},
   "outputs": [
    {
     "name": "stdout",
     "output_type": "stream",
     "text": [
      "656 <class 'str'>\n"
     ]
    }
   ],
   "source": [
    "# 문서는 몇개의 어구로 구성되어 있을까?\n",
    "# 단어별로 구성해서 리스트 구조로 변경\n",
    "# 문자열변수.split() => 공백기준으로 리스트로 변경\n",
    "f = open('data/Yesterday.txt', 'r')\n",
    "data5 = f.read()\n",
    "print(len(data5), type(data5)) # 656 <class 'str'>"
   ]
  },
  {
   "cell_type": "code",
   "execution_count": 11,
   "id": "d03dee22",
   "metadata": {},
   "outputs": [
    {
     "name": "stdout",
     "output_type": "stream",
     "text": [
      "134 <class 'list'>\n",
      "['Yesterday', 'All', 'my', 'troubles', 'seemed', 'so', 'far', 'away', 'Now', 'it', 'looks', 'as', 'though', \"they're\", 'here', 'to', 'stay', 'Oh,', 'I', 'believe', 'in', 'yesterday', 'Suddenly', \"I'm\", 'not', 'half', 'the', 'man', 'I', 'used', 'to', 'be', \"There's\", 'a', 'shadow', 'hanging', 'over', 'me', 'Oh,', 'yesterday', 'came', 'suddenly', 'Why', 'she', 'had', 'to', 'go,', 'I', \"don't\", 'know', 'She', \"wouldn't\", 'say', 'I', 'said', 'something', 'wrong', 'Now', 'I', 'long', 'for', 'yesterday', 'Yesterday', 'Love', 'was', 'such', 'an', 'easy', 'game', 'to', 'play', 'Now', 'I', 'need', 'a', 'place', 'to', 'hide', 'away', 'Oh,', 'I', 'believe', 'in', 'yesterday', 'Why', 'she', 'had', 'to', 'go,', 'I', \"don't\", 'know', 'She', \"wouldn't\", 'say', 'I', 'said', 'something', 'wrong', 'Now', 'I', 'long', 'for', 'yesterday', 'Yesterday', 'Love', 'was', 'such', 'an', 'easy', 'game', 'to', 'play', 'Now', 'I', 'need', 'a', 'place', 'to', 'hide', 'away', 'Oh,', 'I', 'believe', 'in', 'yesterday', 'Mm', 'mm', 'mm', 'mm', 'mm', 'mm', 'mm', 'mm.....']\n"
     ]
    }
   ],
   "source": [
    "# 리스트로 변환\n",
    "data6 = data5.split()\n",
    "print(len(data6), type(data6))  # 134 <class 'list'>\n",
    "print(data6)"
   ]
  },
  {
   "cell_type": "code",
   "execution_count": 12,
   "id": "3a3123ce",
   "metadata": {},
   "outputs": [
    {
     "name": "stdout",
     "output_type": "stream",
     "text": [
      "3 6\n"
     ]
    }
   ],
   "source": [
    "# 특정 단어는 몇번 나올까?\n",
    "print(data6.count('Yesterday'), data6.count('mm'))"
   ]
  },
  {
   "cell_type": "code",
   "execution_count": 13,
   "id": "8fa75af9",
   "metadata": {},
   "outputs": [
    {
     "name": "stdout",
     "output_type": "stream",
     "text": [
      "65 <class 'list'>\n",
      "['All', 'I', \"I'm\", 'Love', 'Mm', 'Now', 'Oh,', 'She', 'Suddenly', \"There's\", 'Why', 'Yesterday', 'a', 'an', 'as', 'away', 'be', 'believe', 'came', \"don't\", 'easy', 'far', 'for', 'game', 'go,', 'had', 'half', 'hanging', 'here', 'hide', 'in', 'it', 'know', 'long', 'looks', 'man', 'me', 'mm', 'mm.....', 'my', 'need', 'not', 'over', 'place', 'play', 'said', 'say', 'seemed', 'shadow', 'she', 'so', 'something', 'stay', 'such', 'suddenly', 'the', \"they're\", 'though', 'to', 'troubles', 'used', 'was', \"wouldn't\", 'wrong', 'yesterday']\n"
     ]
    }
   ],
   "source": [
    "# 리스트에서 단어의 중복 제거..\n",
    "data7 = list(set(data6))\n",
    "data7.sort()\n",
    "print(len(data7), type(data7))\n",
    "print(data7)\n",
    "\n",
    "f.close()"
   ]
  },
  {
   "cell_type": "markdown",
   "id": "64ceb0d7",
   "metadata": {},
   "source": [
    "### 파일 쓰기\n",
    "- 새로운 파일이 생성되면서 내용이 추가된다.\n",
    "- 기존에 파일이 있다면 덮어쓰기된다.\n",
    "- ```python\n",
    "파일변수 = open( 생성파일경로, 'w', encoding='cp949/utf-8')\n",
    "```\n",
    "- `파일변수.write(문자열)`\n",
    "- `파일변수.close()`"
   ]
  },
  {
   "cell_type": "code",
   "execution_count": 18,
   "id": "f59020e9",
   "metadata": {},
   "outputs": [
    {
     "name": "stdout",
     "output_type": "stream",
     "text": [
      "['test1.txt']\n"
     ]
    }
   ],
   "source": [
    "# output 폴더안에 파일 생성\n",
    "f = open('output/test1.txt', 'w')\n",
    "f.close()\n",
    "# output 폴더안에 파일이 생성되었는지 확인\n",
    "print(os.listdir('output')) # ['test1.txt']"
   ]
  },
  {
   "cell_type": "code",
   "execution_count": 19,
   "id": "cc3eaed7",
   "metadata": {},
   "outputs": [],
   "source": [
    "# 파일 생성후 내용 삽입하기\n",
    "f = open('output/test1.txt', 'w', encoding='utf-8')\n",
    "f.write('\\n애국가')\n",
    "f.write('\\n동해물가 백두산이')\n",
    "f.close()"
   ]
  },
  {
   "cell_type": "code",
   "execution_count": 20,
   "id": "66e97f72",
   "metadata": {},
   "outputs": [],
   "source": [
    "# for 문을 이용해서 파일 내용 추가하기\n",
    "f = open('output/test2.txt', 'w', encoding='utf-8')\n",
    "for i in range(10):\n",
    "    # f.write(i) # TypeError\n",
    "    f.write(f'\\n {i+1} 행입니다 ')\n",
    "f.close()"
   ]
  },
  {
   "cell_type": "code",
   "execution_count": 21,
   "id": "1331aa22",
   "metadata": {},
   "outputs": [],
   "source": [
    "# 리스트요소를 정의한 후\n",
    "# 리스트요소를 파일에 행단위로 저장한다.\n",
    "myFoodList = ['라면', '김치전', '모밀', '초밥', '샐러드']\n",
    "\n",
    "f = open('output/test3.txt', 'w', encoding='utf-8')\n",
    "f.write('\\n\\t\\t  오늘의 메뉴 \\n')\n",
    "for i in range(len(myFoodList)):\n",
    "    f.write(f' { i+1 } : {myFoodList[i]} \\n')\n",
    "f.close()"
   ]
  },
  {
   "cell_type": "code",
   "execution_count": 22,
   "id": "2ee26a20",
   "metadata": {},
   "outputs": [],
   "source": [
    "# 퀴즈 구구단 전체를 test4.txt 파일에 저장하여라.\n",
    "\n",
    "f = open('output/test4.txt', 'w', encoding='utf-8')\n",
    "f.write('\\n\\t\\t 구구단\\n')\n",
    "for i in range(1,10):\n",
    "    f.write('\\n\\t' + '='*10)\n",
    "    f.write(f'\\n\\t\\t{i}단\\n\\n')\n",
    "    for j in range(1,10):\n",
    "        f.write(f'\\t{i} X {j} = {i*j} \\n')\n",
    "f.close()"
   ]
  },
  {
   "cell_type": "markdown",
   "id": "c944f557",
   "metadata": {},
   "source": [
    "### 내용추가하기\n",
    "- 기존 파일에 내용이 추가된다.\n",
    "- ```python\n",
    "파일변수 = open( 생성파일경로, 'a', encoding='cp949/utf-8')\n",
    "```\n",
    "- `파일변수.write(문자열)`\n",
    "- `파일변수.close()`"
   ]
  },
  {
   "cell_type": "code",
   "execution_count": 23,
   "id": "c4a07a33",
   "metadata": {},
   "outputs": [],
   "source": [
    "# f = open('output/test5.txt', 'w', encoding='utf-8')\n",
    "# f.write('\\n\\t\\t  test5.txt \\n')\n",
    "# for i in range(1, 6):\n",
    "#     f.write(f' { i } : Hello world \\n')\n",
    "# f.close()\n",
    "\n",
    "# test5.txt 100 ~  내용 추가\n",
    "f = open('output/test5.txt', 'a', encoding='utf-8')\n",
    "f.write('\\n\\n\\t\\t  내용 추가 부분2 \\n')\n",
    "for i in range(600, 1001, 100):\n",
    "    f.write(f' { i } : Hello Python \\n')\n",
    "f.close()"
   ]
  },
  {
   "cell_type": "code",
   "execution_count": 24,
   "id": "e5c85e25",
   "metadata": {},
   "outputs": [
    {
     "name": "stdout",
     "output_type": "stream",
     "text": [
      "==============================\n",
      "['Yesterday \\n', 'All my troubles seemed so far away\\n', \"Now it looks as though they're here to stay\\n\", 'Oh, I believe in yesterday\\n', '\\n', 'Suddenly\\n', \"I'm not half the man I used to be\\n\", \"There's a shadow hanging over me\\n\", 'Oh, yesterday came suddenly\\n', '\\n', 'Why she had to go,\\n', \"I don't know She wouldn't say\\n\", 'I said something wrong\\n', 'Now I long for yesterday\\n', '\\n', 'Yesterday\\n', 'Love was such an easy game to play\\n', 'Now I need a place to hide away\\n', 'Oh, I believe in yesterday\\n', '\\n', 'Why she had to go,\\n', \"I don't know She wouldn't say\\n\", 'I said something wrong\\n', 'Now I long for yesterday\\n', '\\n', 'Yesterday\\n', 'Love was such an easy game to play\\n', 'Now I need a place to hide away\\n', 'Oh, I believe in yesterday\\n', 'Mm mm mm mm mm mm mm mm.....']\n",
      "['Yesterday \\n', 'All my troubles seemed so far away\\n', \"Now it looks as though they're here to stay\\n\", 'Oh, I believe in yesterday\\n', 'Suddenly\\n', \"I'm not half the man I used to be\\n\", \"There's a shadow hanging over me\\n\", 'Oh, yesterday came suddenly\\n', 'Why she had to go,\\n', \"I don't know She wouldn't say\\n\", 'I said something wrong\\n', 'Now I long for yesterday\\n', 'Yesterday\\n', 'Love was such an easy game to play\\n', 'Now I need a place to hide away\\n', 'Oh, I believe in yesterday\\n', 'Why she had to go,\\n', \"I don't know She wouldn't say\\n\", 'I said something wrong\\n', 'Now I long for yesterday\\n', 'Yesterday\\n', 'Love was such an easy game to play\\n', 'Now I need a place to hide away\\n', 'Oh, I believe in yesterday\\n', 'Mm mm mm mm mm mm mm mm.....']\n",
      "['Yesterday \\n', 'All my troubles seemed so far away\\n', \"Now it looks as though they're here to stay\\n\", 'Oh, I believe in yesterday\\n', 'Suddenly\\n', \"I'm not half the man I used to be\\n\", \"There's a shadow hanging over me\\n\", 'Oh, yesterday came suddenly\\n', 'Why she had to go,\\n', \"I don't know She wouldn't say\\n\", 'I said something wrong\\n', 'Now I long for yesterday\\n']\n"
     ]
    }
   ],
   "source": [
    "# 퀴즈 :\n",
    "# data/Yesterday.txt 파일에서 12줄만 (빈행 제외)\n",
    "# output/result_Yesterday.txt 파일에 저장하기\n",
    "# 작업 과정\n",
    "# 파일 읽기\n",
    "# 리스트 구조로 저장 (전처리 필요)\n",
    "# 슬라이싱 = 리스트변수[0:12]\n",
    "# 파일 쓰기\n",
    "print('='*30)\n",
    "f = open('data/Yesterday.txt', 'r', encoding='cp949')\n",
    "data = f.readlines()\n",
    "print(data)\n",
    "count = data.count('\\n') #\\n 갯수 확인\n",
    "for i in range(count):\n",
    "    data.remove('\\n')\n",
    "print(data)\n",
    "data_list = data[:12]\n",
    "print(data_list)\n",
    "f.close()\n",
    "\n",
    "f = open('output/result_Yesterday.txt', 'w', encoding='utf-8')\n",
    "for i in range(len(data_list)):\n",
    "    f.write(f' {i+1} : {data_list[i]}')\n",
    "f.close()\n"
   ]
  },
  {
   "cell_type": "markdown",
   "id": "f74c746f",
   "metadata": {},
   "source": [
    "### with 문 이용하기\n",
    "\n",
    "- 파일.close() 를 사용할 필요가 없다.\n",
    "```python\n",
    "with open(파일경로, 'a'/'w'/'r', encoding='uft-8/cp949') \n",
    "    as 파일변수:\n",
    "        명령문\n",
    "```"
   ]
  },
  {
   "cell_type": "markdown",
   "id": "7fb681e4",
   "metadata": {},
   "source": [
    "#### with 문을 이용한 파일 읽기"
   ]
  },
  {
   "cell_type": "code",
   "execution_count": 25,
   "id": "01bf6a55",
   "metadata": {},
   "outputs": [],
   "source": [
    "# 텍스트 데이타 전체\n",
    "with open('data/color.txt', 'r', encoding='utf-8') as f:\n",
    "    data1 = f.read()\n",
    "#     print(data1)"
   ]
  },
  {
   "cell_type": "code",
   "execution_count": 26,
   "id": "14724ab1",
   "metadata": {},
   "outputs": [
    {
     "name": "stdout",
     "output_type": "stream",
     "text": [
      "['GREEN을 좋아하는 사람\\n', '* 모범적 시민이며 사회의 기둥, 도덕적, 민주적인 견해를 가지고 있는 사람. 평판이 좋다.\\n', '* 사회적 관습과 예의 범절에 민감하다.\\n', '* 기품 있고 성실한 사람이 초록을 좋아한다.\\n', '* 관대하고 편견이 없다.\\n', '* 솔직하다.\\n', '* 남에게 곧잘 이용당하기 쉽다.\\n', '* 사교적이고 군집성이 있으나 농촌의 조용함과 평화쪽을 더 사랑한다.\\n', '* 남자는 나서기를 싫어하며 겸손하다.\\n', '* 차분하고 끈질긴 성격 세련된 취미를 가지고 있으며 예의도 바르다.\\n', '* 여자는 기품 있고 성실하다.\\n', '* 예의 바르고 딱딱해 보이지만 사교적이고 군집성이 있다.\\n', 'ORANGE를 좋아하는 사람\\n', '* 심성이 착하고, 다른 사람들과 함께 있기를 좋아하고, 귀가 엷고 충성심이 강하며 솔선 수범형.\\n', '* 인정이 많다. 유쾌한 성격.\\n', '* 주황을 좋아하는 사람들은 부러울 정도로 건강에 넘쳐 빈부, 총명함과 어리석음, 지위고하를  막론하고 어떤 사람과도 잘 어울리는 독특한 능력을 가진다.\\n', '* 사람들과도 금방 어울리고  친해지며 항상  미소를 잃지 않고 이해심이 빠르다.\\n', '* 사람이 좋아 보이며 사교적이고 혼자서 외톨이로 지내는 것을  싫어한다.\\n', '* 주황을 좋아하는 타입은 미혼인 채로 남아 있는 경우가 많다.  그래서 독신이 많다.\\n', '* 주황은 화려하고 요란한 사회적 행사를 즐기며  인기를 모으게 된다.\\n', '* 주황을 좋아하는 사람은 조직화하는 재능과 소질이 있다.  또 늘 에너지를 한 방향으로만 쏟아 부어 일을 완수하는 것을 목표로 한다.\\n', '* 디자인 센스가 있어서 신변을 깨끗이 정리하고 난잡한 것을  아주 싫어해 집이나 사무실을 깨끗이 정리해 놓는다.\\n', '* 남자- 좋은 아저씨타입 . 이야기를 잘한다. 원기 왕성하다.\\n', '* 여자-따뜻한 성격으로 누구와도 쉽게 어울리는 성격, 항상 미소가 넘친다. 사교적이다.\\n', 'BLUE를 좋아하는 사람\\n', '* 고집이 세다 굽힐 줄 모른다. 독선적이다. 늘 자신이 옳다고 생각한다.\\n', '* 자제심이 강하고 논리적이고 자기변호가 뛰어남.\\n', '* 신중하고 내성적, 보수적인 신념을 갖고 있으며 정열과 열정을 억제하며 신의가 투철사람이며 착실히 생활한다.\\n', '* 황당무계한 꿈을 꾸나, 실행하지는 않는다.\\n', '* 파랑을 좋아하는 사람이 그룹으로 일하는 직업을 선택한다면 빨강은 혼자서 대담하게 일하고  도전하는 것을 마다 않는다.\\n', '* 참을성이 있고 오기도 있기 때문에 대부분 일을 잘한다.\\n', '* 여자는 냉정하며 헌신적이고 생각이 깊다. 독자적인 성격.\\n', '* 남자는 뛰어난 경영능력이 있어 착수한 일을 반드시 성사시킨다.\\n', '* 인맥형성을 잘한다.\\n', '* 생각이 깊어 과감한 행동력을 발휘한다.\\n', '* 혈압이 낮다.\\n', 'RED를 좋아하는 사람\\n', '* 외향적, 적극적, 자신감 활동적, 직접적, 사교적, 개방적, 자유로이 느낀 대로 표현하고 행동한다\\n', '* 체력이 좋고, 생명력이 있고, 원기왕성하며, 야심적이다.\\n', '* 충동적, 자극적인 것을 원한다. 통상적으로 단조로운 일에는  금방 싫증을 낸다.\\n', '* 다소 변덕스러울 수가 있다. (감정의 기복이 심하다. )\\n', '* 낙전척이다. 야심적이다.강렬한 캐릭터의 행동파,  여자는 자존심이 강하다.\\n', '* 외견상 조용해 보이는 사람이라도 사실은 격심한 감정과 욕망을 감추고 있음.\\n', 'YELLOW를 좋아하는 사람\\n', '* 노란색은 심리적인 고민에 호소하기 때문에 정신적으로 불안정한 사람들에게 도움을 준다.\\n', '* 정신적인 모험가로 늘 새로운 것을 찾아내어 자기실현을  꾀하고 싶어한다.\\n', '* 다른 한편으로는 태양처럼 밝고 명랑한 개성을 가진 사람도 많다.\\n', '* 표정 또한 풍부하다.\\n', '* 뛰어난 상업적 두뇌가 있어 기업경영을 성공적으로 이끈다. 또한 강렬한 유머센스도 있다.\\n', '* 자유로운 사고방식이나 행동을 취하는 경우가 있다.\\n', '* 책임이 싫어서, 자신의 생각에만 얽매이거나 인습으로부터 탈피하고 싶을 때, 어려운 문제로 머리가 아플 때는 자기 주변의 물건을 노란 색으로 바꾸어 사용하면 효과적이다.\\n', '* 이상이 높다.\\n', '* 남자는 뛰어난 상업적 재능이 있으며 지성적, 유머 센스도 있고 밝은 성격의 사람. 천진난만해서 주위 사람들을 즐겁게 한다.\\n', '* 여자는 태양같이 밝은 성격. 이야기를 좋아하고,  풍부한 표현력이 있으며 사교적이고 강렬한 유머 센스도 있다. 건강하고 지식이 뛰어나다. 행동파.\\n', 'VIOLET을 좋아하는 사람\\n', '* 남자는 변덕이 많고 감수성이 풍부한 성격. 남들과는 다르고 싶다고 바란다.\\n', '* 개성이 강한 예술가. 이상론자, 권위를 갖추려 노력하며  높은 지위를 동경한다.\\n', '* 여자는 평범치 않는 천부적 재능이 있어 하찮은 국면을 주의 깊게 피해 다닌다.  신비한 매력이 있다.\\n', '* 일반적으로는 선한 마음을 갖고 있고 재치가 있고 사물들을  그냥 지나치지 않고 관찰하는 능력을  가지고 있다.\\n', '* 약간의 허영심과 예술적 창조성을 드러낸다.\\n', '* 복잡한 것을 즐기지만 격조 높은 것을 이해한다.']\n",
      "==================================================\n",
      "ORANGE를 좋아하는 사람\n",
      "* 심성이 착하고, 다른 사람들과 함께 있기를 좋아하고, 귀가 엷고 충성심이 강하며 솔선 수범형.\n",
      "* 인정이 많다. 유쾌한 성격.\n",
      "* 주황을 좋아하는 사람들은 부러울 정도로 건강에 넘쳐 빈부, 총명함과 어리석음, 지위고하를  막론하고 어떤 사람과도 잘 어울리는 독특한 능력을 가진다.\n",
      "* 사람들과도 금방 어울리고  친해지며 항상  미소를 잃지 않고 이해심이 빠르다.\n",
      "* 사람이 좋아 보이며 사교적이고 혼자서 외톨이로 지내는 것을  싫어한다.\n",
      "* 주황을 좋아하는 타입은 미혼인 채로 남아 있는 경우가 많다.  그래서 독신이 많다.\n",
      "* 주황은 화려하고 요란한 사회적 행사를 즐기며  인기를 모으게 된다.\n",
      "* 주황을 좋아하는 사람은 조직화하는 재능과 소질이 있다.  또 늘 에너지를 한 방향으로만 쏟아 부어 일을 완수하는 것을 목표로 한다.\n",
      "* 디자인 센스가 있어서 신변을 깨끗이 정리하고 난잡한 것을  아주 싫어해 집이나 사무실을 깨끗이 정리해 놓는다.\n",
      "* 남자- 좋은 아저씨타입 . 이야기를 잘한다. 원기 왕성하다.\n",
      "* 여자-따뜻한 성격으로 누구와도 쉽게 어울리는 성격, 항상 미소가 넘친다. 사교적이다.\n"
     ]
    }
   ],
   "source": [
    "# 텍스트데이타 => 리스트로 저장한 일부 행 출력하기\n",
    "with open('data/color.txt', 'r', encoding='utf-8') as f:\n",
    "    data2_list = f.readlines()\n",
    "    print(data2_list)\n",
    "print('='*50)\n",
    "for line in data2_list[12:24]:\n",
    "    print(line.strip())"
   ]
  },
  {
   "cell_type": "markdown",
   "id": "f4807506",
   "metadata": {},
   "source": [
    "#### with문을 이용한 파일쓰기"
   ]
  },
  {
   "cell_type": "code",
   "execution_count": 27,
   "id": "db6596ee",
   "metadata": {},
   "outputs": [
    {
     "name": "stdout",
     "output_type": "stream",
     "text": [
      "파일 쓰기가 완료되었습니다.\n"
     ]
    }
   ],
   "source": [
    "# with문을 이용한 파일쓰기\n",
    "# data2_list[12:24] 에는 ORANGE를 좋아하는 사람에 대한 글내용\n",
    "# output/orange.txt\n",
    "\n",
    "with open('output/orange.txt', 'w', encoding='utf-8') as f:\n",
    "    for line in data2_list[12:24]:\n",
    "        f.write(line)\n",
    "    print('파일 쓰기가 완료되었습니다.')"
   ]
  },
  {
   "cell_type": "markdown",
   "id": "4ce8724c",
   "metadata": {},
   "source": [
    "#### with문을 이용한 내용 추가"
   ]
  },
  {
   "cell_type": "code",
   "execution_count": 28,
   "id": "57eb7019",
   "metadata": {},
   "outputs": [
    {
     "name": "stdout",
     "output_type": "stream",
     "text": [
      "YELLOW를 좋아하는 사람\n",
      "* 노란색은 심리적인 고민에 호소하기 때문에 정신적으로 불안정한 사람들에게 도움을 준다.\n",
      "* 정신적인 모험가로 늘 새로운 것을 찾아내어 자기실현을  꾀하고 싶어한다.\n",
      "* 다른 한편으로는 태양처럼 밝고 명랑한 개성을 가진 사람도 많다.\n",
      "* 표정 또한 풍부하다.\n",
      "* 뛰어난 상업적 두뇌가 있어 기업경영을 성공적으로 이끈다. 또한 강렬한 유머센스도 있다.\n",
      "* 자유로운 사고방식이나 행동을 취하는 경우가 있다.\n",
      "* 책임이 싫어서, 자신의 생각에만 얽매이거나 인습으로부터 탈피하고 싶을 때, 어려운 문제로 머리가 아플 때는 자기 주변의 물건을 노란 색으로 바꾸어 사용하면 효과적이다.\n",
      "* 이상이 높다.\n",
      "* 남자는 뛰어난 상업적 재능이 있으며 지성적, 유머 센스도 있고 밝은 성격의 사람. 천진난만해서 주위 사람들을 즐겁게 한다.\n",
      "* 여자는 태양같이 밝은 성격. 이야기를 좋아하고,  풍부한 표현력이 있으며 사교적이고 강렬한 유머 센스도 있다. 건강하고 지식이 뛰어나다. 행동파.\n",
      "내용 추가가 완료되었습니다.\n"
     ]
    }
   ],
   "source": [
    "# with문을 이용한 내용 추가\n",
    "# orange.txt 파일에\n",
    "# color.txt 파일의 YELLOW를 좋아하는 사람 글내용을 추가\n",
    "\n",
    "# 삽입할 글 내용 확인\n",
    "for line in data2_list[43:54]:\n",
    "    print(line, end='')\n",
    "\n",
    "with open('output/orange.txt', 'a', encoding='utf-8') as f:\n",
    "    f.write('\\n\\n')\n",
    "    for line in data2_list[43:54]:\n",
    "        f.write(line)\n",
    "    print('내용 추가가 완료되었습니다.')"
   ]
  },
  {
   "cell_type": "markdown",
   "id": "555ce08f",
   "metadata": {},
   "source": [
    "#### Delete 구현\n",
    "\n",
    "- `파일변수.write('')` => 파일은 존재하고 안에 내용은 삭제\n",
    "- `os.remove(삭제파일경로)`"
   ]
  },
  {
   "cell_type": "code",
   "execution_count": 29,
   "id": "b1cae209",
   "metadata": {},
   "outputs": [
    {
     "name": "stdout",
     "output_type": "stream",
     "text": [
      "파일안의 글 내용을 모두 삭제하였습니다.\n"
     ]
    }
   ],
   "source": [
    "# Delete 구현 1\n",
    "# orange.txt 파일안의 글 내용 모두 삭제하기\n",
    "\n",
    "with open('output/orange.txt', 'w', encoding='utf-8') as f:\n",
    "    f.write('')\n",
    "    print('파일안의 글 내용을 모두 삭제하였습니다.')\n",
    "\n",
    "\n",
    "# Delete 구현 2 => 파일 삭제\n",
    "os.remove('output/orange.txt')"
   ]
  },
  {
   "cell_type": "code",
   "execution_count": 30,
   "id": "d3faf5b6",
   "metadata": {},
   "outputs": [
    {
     "name": "stdout",
     "output_type": "stream",
     "text": [
      "['test4.txt', 'test5.txt', 'test1.txt', 'test2.txt', 'test3.txt', 'result_Yesterday.txt']\n"
     ]
    }
   ],
   "source": [
    "# output 폴더안의 파일과 폴더 목록을 리스트로 표시\n",
    "print(os.listdir('output'))\n",
    "# orange.txt 파일 삭제\n",
    "# 만약 파일이 이미 삭제되었다면 FileNotFoundError\n",
    "# os.remove('output/orange.txt')"
   ]
  },
  {
   "cell_type": "code",
   "execution_count": 31,
   "id": "74a3a5b7",
   "metadata": {},
   "outputs": [
    {
     "name": "stdout",
     "output_type": "stream",
     "text": [
      "삭제되었나요? True\n"
     ]
    }
   ],
   "source": [
    "print(f'삭제되었나요? {\"orange.txt\" not in os.listdir(\"output\")}')"
   ]
  },
  {
   "cell_type": "code",
   "execution_count": 32,
   "id": "8f0dc25c",
   "metadata": {},
   "outputs": [
    {
     "name": "stdout",
     "output_type": "stream",
     "text": [
      "['test4.txt', 'test5.txt', 'test1.txt', 'test2.txt', 'test3.txt', 'result_Yesterday.txt']\n",
      "파일이 삭제되었습니다.\n",
      "['test4.txt', 'test5.txt', 'test1.txt', 'test2.txt', 'test3.txt']\n"
     ]
    }
   ],
   "source": [
    "# result_Yesterday.txt 파일이 있다면 삭제. 없다면 메세지 처리\n",
    "filePath = 'result_Yesterday.txt'\n",
    "print(os.listdir(\"output\"))\n",
    "\n",
    "if filePath in os.listdir(\"output\"):\n",
    "    os.remove('output/'+ filePath)\n",
    "    print('파일이 삭제되었습니다.')\n",
    "else:\n",
    "    print('파일이 존재하지 않습니다.')\n",
    "    \n",
    "print(os.listdir(\"output\"))\n",
    "\n",
    "\n"
   ]
  },
  {
   "cell_type": "code",
   "execution_count": null,
   "id": "c7af0143",
   "metadata": {},
   "outputs": [],
   "source": []
  }
 ],
 "metadata": {
  "kernelspec": {
   "display_name": "Python 3 (ipykernel)",
   "language": "python",
   "name": "python3"
  },
  "language_info": {
   "codemirror_mode": {
    "name": "ipython",
    "version": 3
   },
   "file_extension": ".py",
   "mimetype": "text/x-python",
   "name": "python",
   "nbconvert_exporter": "python",
   "pygments_lexer": "ipython3",
   "version": "3.10.1"
  }
 },
 "nbformat": 4,
 "nbformat_minor": 5
}
