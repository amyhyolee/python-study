{
 "cells": [
  {
   "cell_type": "markdown",
   "id": "8800c081",
   "metadata": {},
   "source": [
    "# 제어문 공부\n",
    "\n",
    "# 2022.01.20"
   ]
  },
  {
   "cell_type": "markdown",
   "id": "d2caebcc",
   "metadata": {},
   "source": [
    "**퀴즈1**\n",
    "\n",
    "> 입력받은 데이터에 따라 양수, 음수, 숫자가 아니다 형태로 출력하세요.\n",
    ">\n",
    "> 조건 :\n",
    ">\n",
    "> 입력받은 데이타가 0인 경우에는 메세지를 출력하지 않는다.\n",
    "> \n",
    "> 입력값에 공백이 있는 경우 공백은 삭제한다. - 문자열변수.strip() : 좌우공백 삭제\n",
    "\n",
    "```python\n",
    "데이타를 입력하세요...파이썬\n",
    "숫자가 아니다\n",
    "\n",
    "데이타를 입력하세요...- world\n",
    "숫자가 아니다\n",
    "\n",
    "데이타를 입력하세요...-90\n",
    "음수\n",
    "\n",
    "데이타를 입력하세요...9000\n",
    "양수\n",
    "```"
   ]
  },
  {
   "cell_type": "code",
   "execution_count": 40,
   "id": "59817965",
   "metadata": {},
   "outputs": [
    {
     "name": "stdout",
     "output_type": "stream",
     "text": [
      "데이타를 입력하세요...-0\n",
      "음수\n"
     ]
    }
   ],
   "source": [
    "myNumber = input('데이타를 입력하세요...').strip()\n",
    "# myNumber = myNumber.replace(\" \", \"\")\n",
    "\n",
    "if myNumber[0]=='-' and myNumber[1:].isdigit():\n",
    "    print('음수')\n",
    "elif myNumber == '0':\n",
    "    pass\n",
    "elif myNumber.isdigit():\n",
    "    print('양수')\n",
    "else:\n",
    "    print('숫자가 아니다')\n"
   ]
  },
  {
   "cell_type": "markdown",
   "id": "881b9243",
   "metadata": {},
   "source": [
    "**퀴즈2**\n",
    "\n",
    "> bmi 값에 따라 다음과 같은 메세지를 출력하세요\n",
    ">\n",
    "> 키를 입력해주세요... 단위 cm...175\n",
    ">\n",
    "> 체중을 입력해주세요... 단위 kg...67\n",
    "> \n",
    "> bmi = 21.8776\n",
    ">\n",
    "> 정상\n",
    "\n",
    "```python\n",
    "bmi 공식\n",
    "k = 키(입력값) 단위 cm\n",
    "w = 체중(입력값)\n",
    "bmi = 체중(kg)/키(m)의제곱, 키의 단위는 미터(m)\n",
    "\n",
    "bmi 값에 따라 출력되는 메세지\n",
    "고도 비만 : 35 보다 클 경우\n",
    "중등도 비만  : 30 - 35 미만\n",
    "경도 비만 : 25 - 30 미만\n",
    "과체중 : 23 - 25 미만\n",
    "정상 : 18.5 - 23 미만\n",
    "저체중 : 18.5 미만\n",
    "```"
   ]
  },
  {
   "cell_type": "code",
   "execution_count": 42,
   "id": "a63506dc",
   "metadata": {},
   "outputs": [
    {
     "name": "stdout",
     "output_type": "stream",
     "text": [
      "키를 입력해주세요... 단위 cm...153\n",
      "체중을 입력해주세요... 단위 kg...43\n",
      "bmi =  18.369003374770386\n",
      "bmi = 18.369003\n",
      "bmi = 18.37\n",
      "bmi = 18.37\n",
      "bmi = 18.3690\n",
      "저체중\n"
     ]
    }
   ],
   "source": [
    "t = int(input('키를 입력해주세요... 단위 cm...'))\n",
    "w = int(input('체중을 입력해주세요... 단위 kg...'))\n",
    "# 미터로 변경\n",
    "t2 = t/100\n",
    "bmi = w/(t2*t2)\n",
    "bmi = w/(t2**2)\n",
    "\n",
    "print( 'bmi = ', bmi)\n",
    "# 소수점 자리수 표시하기\n",
    "# xx.xx : 4.2f => 전체자리수.소수점자리수\n",
    "#              => 전체자리수 생략가능 .소수점자리수\n",
    "# 12.56789 : 4.2f\n",
    "\n",
    "# bmi =  24.221453287197235\n",
    "print( 'bmi = %f' % bmi)\n",
    "# bmi =  24.22\n",
    "print( 'bmi = %4.2f' % bmi)\n",
    "# bmi =  24.22\n",
    "print( 'bmi = %.2f' % bmi)\n",
    "# bmi =  24.2214\n",
    "print( 'bmi = %.4f' % bmi)\n",
    "#\n",
    "if bmi >= 35 :\n",
    "    print('고도 비만')\n",
    "if 30 <= bmi < 35 :\n",
    "    print('중등도 비만')\n",
    "if 25 <= bmi < 30 :\n",
    "    print('경도 비만')\n",
    "if 23 <= bmi < 25 :\n",
    "    print('중등도 비만')\n",
    "if 18.5 <= bmi < 23 :\n",
    "    print('정상')\n",
    "if bmi < 18.5 :\n",
    "    print('저체중')\n"
   ]
  },
  {
   "cell_type": "markdown",
   "id": "bb5d875b",
   "metadata": {},
   "source": [
    "**퀴즈3**\n",
    "\n",
    "> 입력받은 나이에 따라 메세지를 출력하세요.\n",
    ">\n",
    "> 당신의 나이를 입력해주세요 ... 12\n",
    "> \n",
    "> 당신은 초등학생 입니다.\n",
    "\n",
    "```python\n",
    " age > 19 : 성인\n",
    " 17 <= age <= 19 : 고등학생\n",
    " 14 <= age < 17 : 중학생\n",
    " 8 <= age < 14 : 초등학생\n",
    " age < 8  : 유치원생 또는 영유아\n",
    "```"
   ]
  },
  {
   "cell_type": "code",
   "execution_count": 31,
   "id": "f3cb3596",
   "metadata": {},
   "outputs": [
    {
     "name": "stdout",
     "output_type": "stream",
     "text": [
      "당신의 나이를 입력해주세요 4\n",
      "당신은 유치원생 또는 영유아 입니다.\n"
     ]
    }
   ],
   "source": [
    "age = int(input('당신의 나이를 입력해주세요 '))\n",
    "\n",
    "if age > 19 :\n",
    "    quiz3 = '성인'\n",
    "    print(f'당신은 {quiz3} 입니다.')\n",
    "elif 17 <= age <= 19 :\n",
    "    quiz3 = '고등학생'\n",
    "    print(f'당신은 {quiz3} 입니다.')\n",
    "elif 14 <= age <= 17 :\n",
    "    quiz3 = '중학생'\n",
    "    print(f'당신은 {quiz3} 입니다.')\n",
    "elif 8 <= age <= 14 :\n",
    "    quiz3 = '초등학생'\n",
    "    print(f'당신은 {quiz3} 입니다.')\n",
    "elif age < 8 :\n",
    "    quiz3 = '유치원생 또는 영유아'\n",
    "    print(f'당신은 {quiz3} 입니다.')\n"
   ]
  },
  {
   "cell_type": "markdown",
   "id": "b1e4f8d4",
   "metadata": {},
   "source": [
    "**퀴즈4**\n",
    "\n",
    "> 학점을 입력받아서 다음과 같은 메세지를 출력하세요\n",
    "> \n",
    "> 학점 입력> 4.5\n",
    "> \n",
    "> score = 4.5   : 교수님의 사랑\n",
    "\n",
    "```python\n",
    "score = float(input(\"학점 입력> \"))\n",
    "if ~ elif ~ else 문 이용하여 메세지 출력\n",
    "\n",
    "4.2 <= score <= 4.5 : 교수님의 사랑\n",
    "3.5 <= score < 4.2 : 현 체제의 수호자\n",
    "2.8 <= score < 3.5 : 일반인\n",
    "2.3 <= score < 2.8  : 일탈을 꿈꾸는 소시민\n",
    "2.3 미만 : 시대를 앞서가는 혁명의 씨앗\n",
    "```\n"
   ]
  },
  {
   "cell_type": "code",
   "execution_count": 44,
   "id": "64e6a0c5",
   "metadata": {},
   "outputs": [
    {
     "name": "stdout",
     "output_type": "stream",
     "text": [
      "학점 입력: 3.7\n",
      "score = 3.7 : 현 체제의 수호자\n"
     ]
    }
   ],
   "source": [
    "score = float(input(\"학점 입력: \"))\n",
    "if 4.2 <= score <= 4.5 :\n",
    "    print(f'score = {score} : 교수님의 사랑')\n",
    "elif 3.5 <= score < 4.2 :\n",
    "    print(f'score = {score} : 현 체제의 수호자')\n",
    "elif 2.8 <= score < 3.5 :\n",
    "    print(f'score = {score} : 일반인')\n",
    "elif 2.3 <= score < 2.8 :\n",
    "    print(f'score = {score} : 일탈을 꿈꾸는 소시민')\n",
    "elif 2.3 > score :\n",
    "    print(f'score = {score} : 시대를 앞서가는 혁명의 씨앗')\n",
    "else:\n",
    "    print('입력 값이 올바르지 않습니다.')"
   ]
  },
  {
   "cell_type": "markdown",
   "id": "15542d26",
   "metadata": {},
   "source": [
    "**퀴즈5**\n",
    "\n",
    "> 세 개의 숫자를 입력받아 리스트로 구성하고 가장 큰 수를 출력하세요.\n",
    "\n",
    "```python\n",
    "첫번째 숫자 입력 => 100\n",
    "두번째 숫자 입력 => 59\n",
    "세번째 숫자 입력 => 70\n",
    "numList = [100, 59, 70]\n",
    "가장 큰 수는 100 입니다.\n",
    "\n",
    "첫번째 숫자 입력 => 50\n",
    "두번째 숫자 입력 => 70\n",
    "세번째 숫자 입력 => 90\n",
    "numList = [50, 70, 90]\n",
    "가장 큰 수는 90 입니다.\n",
    "```"
   ]
  },
  {
   "cell_type": "code",
   "execution_count": 47,
   "id": "f00a4901",
   "metadata": {},
   "outputs": [
    {
     "ename": "KeyboardInterrupt",
     "evalue": "Interrupted by user",
     "output_type": "error",
     "traceback": [
      "\u001b[0;31m---------------------------------------------------------------------------\u001b[0m",
      "\u001b[0;31mKeyboardInterrupt\u001b[0m                         Traceback (most recent call last)",
      "Input \u001b[0;32mIn [47]\u001b[0m, in \u001b[0;36m<module>\u001b[0;34m\u001b[0m\n\u001b[1;32m      1\u001b[0m numList \u001b[38;5;241m=\u001b[39m []\n\u001b[0;32m----> 2\u001b[0m numList\u001b[38;5;241m.\u001b[39mappend(\u001b[38;5;28mint\u001b[39m(\u001b[38;5;28;43minput\u001b[39;49m\u001b[43m(\u001b[49m\u001b[38;5;124;43m'\u001b[39;49m\u001b[38;5;124;43m첫번째 숫자 입력 => \u001b[39;49m\u001b[38;5;124;43m'\u001b[39;49m\u001b[43m)\u001b[49m))\n\u001b[1;32m      3\u001b[0m numList\u001b[38;5;241m.\u001b[39mappend(\u001b[38;5;28mint\u001b[39m(\u001b[38;5;28minput\u001b[39m(\u001b[38;5;124m'\u001b[39m\u001b[38;5;124m두번째 숫자 입력 => \u001b[39m\u001b[38;5;124m'\u001b[39m)))\n\u001b[1;32m      4\u001b[0m numList\u001b[38;5;241m.\u001b[39mappend(\u001b[38;5;28mint\u001b[39m(\u001b[38;5;28minput\u001b[39m(\u001b[38;5;124m'\u001b[39m\u001b[38;5;124m세번째 숫자 입력 => \u001b[39m\u001b[38;5;124m'\u001b[39m)))\n",
      "File \u001b[0;32m/Library/Frameworks/Python.framework/Versions/3.10/lib/python3.10/site-packages/ipykernel/kernelbase.py:1044\u001b[0m, in \u001b[0;36mKernel.raw_input\u001b[0;34m(self, prompt)\u001b[0m\n\u001b[1;32m   1040\u001b[0m \u001b[38;5;28;01mif\u001b[39;00m \u001b[38;5;129;01mnot\u001b[39;00m \u001b[38;5;28mself\u001b[39m\u001b[38;5;241m.\u001b[39m_allow_stdin:\n\u001b[1;32m   1041\u001b[0m     \u001b[38;5;28;01mraise\u001b[39;00m StdinNotImplementedError(\n\u001b[1;32m   1042\u001b[0m         \u001b[38;5;124m\"\u001b[39m\u001b[38;5;124mraw_input was called, but this frontend does not support input requests.\u001b[39m\u001b[38;5;124m\"\u001b[39m\n\u001b[1;32m   1043\u001b[0m     )\n\u001b[0;32m-> 1044\u001b[0m \u001b[38;5;28;01mreturn\u001b[39;00m \u001b[38;5;28;43mself\u001b[39;49m\u001b[38;5;241;43m.\u001b[39;49m\u001b[43m_input_request\u001b[49m\u001b[43m(\u001b[49m\n\u001b[1;32m   1045\u001b[0m \u001b[43m    \u001b[49m\u001b[38;5;28;43mstr\u001b[39;49m\u001b[43m(\u001b[49m\u001b[43mprompt\u001b[49m\u001b[43m)\u001b[49m\u001b[43m,\u001b[49m\n\u001b[1;32m   1046\u001b[0m \u001b[43m    \u001b[49m\u001b[38;5;28;43mself\u001b[39;49m\u001b[38;5;241;43m.\u001b[39;49m\u001b[43m_parent_ident\u001b[49m\u001b[43m[\u001b[49m\u001b[38;5;124;43m\"\u001b[39;49m\u001b[38;5;124;43mshell\u001b[39;49m\u001b[38;5;124;43m\"\u001b[39;49m\u001b[43m]\u001b[49m\u001b[43m,\u001b[49m\n\u001b[1;32m   1047\u001b[0m \u001b[43m    \u001b[49m\u001b[38;5;28;43mself\u001b[39;49m\u001b[38;5;241;43m.\u001b[39;49m\u001b[43mget_parent\u001b[49m\u001b[43m(\u001b[49m\u001b[38;5;124;43m\"\u001b[39;49m\u001b[38;5;124;43mshell\u001b[39;49m\u001b[38;5;124;43m\"\u001b[39;49m\u001b[43m)\u001b[49m\u001b[43m,\u001b[49m\n\u001b[1;32m   1048\u001b[0m \u001b[43m    \u001b[49m\u001b[43mpassword\u001b[49m\u001b[38;5;241;43m=\u001b[39;49m\u001b[38;5;28;43;01mFalse\u001b[39;49;00m\u001b[43m,\u001b[49m\n\u001b[1;32m   1049\u001b[0m \u001b[43m\u001b[49m\u001b[43m)\u001b[49m\n",
      "File \u001b[0;32m/Library/Frameworks/Python.framework/Versions/3.10/lib/python3.10/site-packages/ipykernel/kernelbase.py:1089\u001b[0m, in \u001b[0;36mKernel._input_request\u001b[0;34m(self, prompt, ident, parent, password)\u001b[0m\n\u001b[1;32m   1086\u001b[0m             \u001b[38;5;28;01mbreak\u001b[39;00m\n\u001b[1;32m   1087\u001b[0m \u001b[38;5;28;01mexcept\u001b[39;00m \u001b[38;5;167;01mKeyboardInterrupt\u001b[39;00m:\n\u001b[1;32m   1088\u001b[0m     \u001b[38;5;66;03m# re-raise KeyboardInterrupt, to truncate traceback\u001b[39;00m\n\u001b[0;32m-> 1089\u001b[0m     \u001b[38;5;28;01mraise\u001b[39;00m \u001b[38;5;167;01mKeyboardInterrupt\u001b[39;00m(\u001b[38;5;124m\"\u001b[39m\u001b[38;5;124mInterrupted by user\u001b[39m\u001b[38;5;124m\"\u001b[39m) \u001b[38;5;28;01mfrom\u001b[39;00m \u001b[38;5;28mNone\u001b[39m\n\u001b[1;32m   1090\u001b[0m \u001b[38;5;28;01mexcept\u001b[39;00m \u001b[38;5;167;01mException\u001b[39;00m:\n\u001b[1;32m   1091\u001b[0m     \u001b[38;5;28mself\u001b[39m\u001b[38;5;241m.\u001b[39mlog\u001b[38;5;241m.\u001b[39mwarning(\u001b[38;5;124m\"\u001b[39m\u001b[38;5;124mInvalid Message:\u001b[39m\u001b[38;5;124m\"\u001b[39m, exc_info\u001b[38;5;241m=\u001b[39m\u001b[38;5;28;01mTrue\u001b[39;00m)\n",
      "\u001b[0;31mKeyboardInterrupt\u001b[0m: Interrupted by user"
     ]
    }
   ],
   "source": [
    "numList = []\n",
    "numList.append(int(input('첫번째 숫자 입력 => ')))\n",
    "numList.append(int(input('두번째 숫자 입력 => ')))\n",
    "numList.append(int(input('세번째 숫자 입력 => ')))\n",
    "\n",
    "result = numList[0]\n",
    "\n",
    "if result < numList[1]:\n",
    "    result = numList[1]\n",
    "    if result < numList[2]:\n",
    "        result = numList[2]\n",
    "else:\n",
    "    if result < numList[2]:\n",
    "        result = numList[2]\n",
    "\n",
    "print(f'numList = {numList}')\n",
    "print(f'가장 큰 수는 {result} 입니다.')"
   ]
  },
  {
   "cell_type": "markdown",
   "id": "1060379c",
   "metadata": {},
   "source": [
    "**퀴즈6**\n",
    "\n",
    "> 가장 큰 수와 가장 작은 수를 출력하고 리스트에서 삭제한 후 출력하세요\n",
    "```python\n",
    "Before =  [100, 200, 50, -30, 999, 10, -30]\n",
    "최대값은? 999\n",
    "최솟값은? -30\n",
    "Result =  [100, 200, 10, 50]\n",
    "```"
   ]
  },
  {
   "cell_type": "code",
   "execution_count": 50,
   "id": "306b5e46",
   "metadata": {},
   "outputs": [
    {
     "name": "stdout",
     "output_type": "stream",
     "text": [
      "Before =  [100, 200, 50, -30, 999, 10, -30]\n",
      "최대값은? 999\n",
      "최솟값은? -30\n",
      "Result =  [100, 200, 10, 50]\n"
     ]
    }
   ],
   "source": [
    "myNumList2 = [100, 200, 50, -30, 999, 10, -30]\n",
    "print('Before = ',myNumList2)\n",
    "myNumList2 = list(set(myNumList2)) # 같은 수 빼주기\n",
    "\n",
    "cnt = 0\n",
    "target1 = myNumList2[0]\n",
    "target2 = myNumList2[0]\n",
    "while cnt < len(myNumList2) :\n",
    "    if target1 < myNumList2[cnt]:\n",
    "        target1 = myNumList2[cnt]\n",
    "    if target2 > myNumList2[cnt]:\n",
    "        target2 = myNumList2[cnt]\n",
    "    cnt += 1\n",
    "\n",
    "print('최대값은?', target1)\n",
    "print('최솟값은?', target2)\n",
    "\n",
    "myNumList2.remove(target1)\n",
    "myNumList2.remove(target2)\n",
    "\n",
    "print('Result = ', myNumList2)"
   ]
  },
  {
   "cell_type": "markdown",
   "id": "192a0b13",
   "metadata": {},
   "source": [
    "**퀴즈 7**\n",
    "> 아래 리스트 항목 중에서 5글자 이상의 단어만 출력하세요.\n",
    ">\n",
    "> 제어문과 len() 이용\n",
    ">\n",
    "> `qList2 = [\"nice\", \"study\", \"python\", \"anaconda\", \"!\"]`"
   ]
  },
  {
   "cell_type": "code",
   "execution_count": 64,
   "id": "a0c4f2ca",
   "metadata": {},
   "outputs": [
    {
     "name": "stdout",
     "output_type": "stream",
     "text": [
      "['study', 'python', 'anaconda']\n"
     ]
    }
   ],
   "source": [
    "qList2 = [\"nice\", \"study\", \"python\", \"anaconda\", \"!\"]\n",
    "ans = []\n",
    "for word in qList2:\n",
    "    if len(word) >= 5:\n",
    "        ans.append(word)\n",
    "print(ans)"
   ]
  },
  {
   "cell_type": "markdown",
   "id": "e6cdb624",
   "metadata": {},
   "source": [
    "**퀴즈8**\n",
    "> 다음과 같은 wordList 에서 첫 글자만 추출하여 keyList 리스트를 만들고\n",
    ">\n",
    "> 두개의 리스트 조합으로 다음과 같은 딕셔너리를 만들어 출력하세요. (for, 문자열인덱싱)\n",
    ">\n",
    "> `wordList = ['nice', 'study', 'python', 'anaconda', 'mySQL']`\n",
    ">\n",
    "> `keyList = ['n', 's', 'p', 'a', 'm']`\n",
    ">\n",
    "> Result => \n",
    ">\n",
    "> `dictList = {'n': 'nice', 's': 'study', 'p': 'python', 'a': 'anaconda', 'm': 'mySQL'}`\n"
   ]
  },
  {
   "cell_type": "code",
   "execution_count": 98,
   "id": "daa769d0",
   "metadata": {},
   "outputs": [],
   "source": [
    "wordList = ['nice', 'study', 'python', 'anaconda', 'mySQL']"
   ]
  },
  {
   "cell_type": "code",
   "execution_count": 137,
   "id": "bb6b7a1f",
   "metadata": {},
   "outputs": [
    {
     "name": "stdout",
     "output_type": "stream",
     "text": [
      "dictList = {'n': 'nice', 's': 'study', 'p': 'python', 'a': 'anaconda', 'm': 'mySQL'}\n"
     ]
    }
   ],
   "source": [
    "keyList = []\n",
    "dictList = {}\n",
    "cnt = 0\n",
    "\n",
    "for i in wordList:\n",
    "    firstLetter = i[0]\n",
    "    keyList.append(firstLetter)\n",
    "    \n",
    "# for j in keyList:\n",
    "#     dictList[j] = wordList[cnt]\n",
    "#     cnt += 1\n",
    "# print(f'dictList = {dictList}')\n",
    "\n",
    "for j in range(0, len(wordList)):\n",
    "    dictList[keyList[j]] = wordList[j]\n",
    "print(f'dictList = {dictList}')"
   ]
  },
  {
   "cell_type": "code",
   "execution_count": null,
   "id": "c3cb1ef3",
   "metadata": {},
   "outputs": [],
   "source": []
  }
 ],
 "metadata": {
  "kernelspec": {
   "display_name": "Python 3 (ipykernel)",
   "language": "python",
   "name": "python3"
  },
  "language_info": {
   "codemirror_mode": {
    "name": "ipython",
    "version": 3
   },
   "file_extension": ".py",
   "mimetype": "text/x-python",
   "name": "python",
   "nbconvert_exporter": "python",
   "pygments_lexer": "ipython3",
   "version": "3.10.1"
  }
 },
 "nbformat": 4,
 "nbformat_minor": 5
}
