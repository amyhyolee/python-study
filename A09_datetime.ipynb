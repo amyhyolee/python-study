{
 "cells": [
  {
   "cell_type": "markdown",
   "id": "13d57a38",
   "metadata": {},
   "source": [
    "# 시계열 (time, datetime)\n",
    "## 2022.01.24"
   ]
  },
  {
   "cell_type": "markdown",
   "id": "01c0f936",
   "metadata": {},
   "source": [
    "- 기본형 => 숫자(int, float), 논리형(True, False), 문자열\n",
    "\n",
    "- 집합형 => 리스트`[]`, 딕셔너리`{}`, 튜플`()`, 집합`{}`\n",
    "\n",
    "- 넘파이 자료형 => ndarray(배열, 행렬..) 선형대수 => 외부모듈\n",
    "\n",
    "- 판다스 자료형 => 시리즈, 데이타프레임  => 외부모듈\n",
    "\n",
    "- 시계열형 => datetime, time 모듈을 임포트해서 사용"
   ]
  },
  {
   "cell_type": "markdown",
   "id": "4e28bc29",
   "metadata": {},
   "source": [
    "### datetime 모듈 이용하기\n",
    "```\n",
    "시간변수 = datetime.datetime.now()\n",
    "시간변수.year\n",
    "시간변수.month\n",
    "시간변수.day\n",
    "시간변수.hour\n",
    "```"
   ]
  },
  {
   "cell_type": "markdown",
   "id": "8d6f47a7",
   "metadata": {},
   "source": [
    "### 시간과 관련된 모듈 임포트"
   ]
  },
  {
   "cell_type": "code",
   "execution_count": 2,
   "id": "71688072",
   "metadata": {},
   "outputs": [],
   "source": [
    "# 시간과 관련된 모듈 임포트\n",
    "import datetime"
   ]
  },
  {
   "cell_type": "code",
   "execution_count": 3,
   "id": "16bf0726",
   "metadata": {},
   "outputs": [
    {
     "name": "stdout",
     "output_type": "stream",
     "text": [
      "['MAXYEAR', 'MINYEAR', '__all__', '__builtins__', '__cached__', '__doc__', '__file__', '__loader__', '__name__', '__package__', '__spec__', 'date', 'datetime', 'datetime_CAPI', 'sys', 'time', 'timedelta', 'timezone', 'tzinfo']\n",
      "['__add__', '__class__', '__delattr__', '__dir__', '__doc__', '__eq__', '__format__', '__ge__', '__getattribute__', '__gt__', '__hash__', '__init__', '__init_subclass__', '__le__', '__lt__', '__ne__', '__new__', '__radd__', '__reduce__', '__reduce_ex__', '__repr__', '__rsub__', '__setattr__', '__sizeof__', '__str__', '__sub__', '__subclasshook__', 'ctime', 'day', 'fromisocalendar', 'fromisoformat', 'fromordinal', 'fromtimestamp', 'isocalendar', 'isoformat', 'isoweekday', 'max', 'min', 'month', 'replace', 'resolution', 'strftime', 'timetuple', 'today', 'toordinal', 'weekday', 'year']\n",
      "['__class__', '__delattr__', '__dir__', '__doc__', '__eq__', '__format__', '__ge__', '__getattribute__', '__gt__', '__hash__', '__init__', '__init_subclass__', '__le__', '__lt__', '__ne__', '__new__', '__reduce__', '__reduce_ex__', '__repr__', '__setattr__', '__sizeof__', '__str__', '__subclasshook__', 'dst', 'fold', 'fromisoformat', 'hour', 'isoformat', 'max', 'microsecond', 'min', 'minute', 'replace', 'resolution', 'second', 'strftime', 'tzinfo', 'tzname', 'utcoffset']\n",
      "['__add__', '__class__', '__delattr__', '__dir__', '__doc__', '__eq__', '__format__', '__ge__', '__getattribute__', '__gt__', '__hash__', '__init__', '__init_subclass__', '__le__', '__lt__', '__ne__', '__new__', '__radd__', '__reduce__', '__reduce_ex__', '__repr__', '__rsub__', '__setattr__', '__sizeof__', '__str__', '__sub__', '__subclasshook__', 'astimezone', 'combine', 'ctime', 'date', 'day', 'dst', 'fold', 'fromisocalendar', 'fromisoformat', 'fromordinal', 'fromtimestamp', 'hour', 'isocalendar', 'isoformat', 'isoweekday', 'max', 'microsecond', 'min', 'minute', 'month', 'now', 'replace', 'resolution', 'second', 'strftime', 'strptime', 'time', 'timestamp', 'timetuple', 'timetz', 'today', 'toordinal', 'tzinfo', 'tzname', 'utcfromtimestamp', 'utcnow', 'utcoffset', 'utctimetuple', 'weekday', 'year']\n"
     ]
    }
   ],
   "source": [
    "# 모듈에 대한 속성과 메서드 정보 출력 => 리스트\n",
    "print(dir(datetime))\n",
    "print(dir(datetime.date))\n",
    "print(dir(datetime.time))\n",
    "print(dir(datetime.datetime))"
   ]
  },
  {
   "cell_type": "code",
   "execution_count": 4,
   "id": "3168bd03",
   "metadata": {},
   "outputs": [
    {
     "name": "stdout",
     "output_type": "stream",
     "text": [
      " 오후 14 시 50 분 55 초\n"
     ]
    }
   ],
   "source": [
    "# 퀴즈1 : if문과 datetime 모듈 이용\n",
    "# 현재 시간을 아래와 같이 오전과 오후로 분리해서 출력한다.\n",
    "# 현재 시간은 오후 5시 ? 분입니다.\n",
    "\n",
    "def timePrint():\n",
    "    now = datetime.datetime.now()\n",
    "    if now.hour > 12:\n",
    "        print(f' 오후 {now.hour} 시 {now.minute} 분 {now.second} 초')\n",
    "    else:\n",
    "        print(f' 오전 {now.hour} 시 {now.minute} 분 {now.second} 초')\n",
    "\n",
    "timePrint()"
   ]
  },
  {
   "cell_type": "code",
   "execution_count": 7,
   "id": "ab217896",
   "metadata": {},
   "outputs": [
    {
     "name": "stdout",
     "output_type": "stream",
     "text": [
      "1월은 겨울입니다!\n",
      "1월은 겨울입니다\n"
     ]
    }
   ],
   "source": [
    "# 퀴즈2 : if문과 datetime 모듈 이용\n",
    "# 현재 달을 추출 now.month\n",
    "# 달에 따라 봄, 여름, 가을 ,겨울 메세지 출력\n",
    "# 12, 1,2 : 겨울\n",
    "# 3~5 : 봄\n",
    "# 6~8 : 여름\n",
    "# 9~11 : 가을\n",
    "# 출력은 아래와 같이한다.\n",
    "# ?월은 ?입니다.\n",
    "\n",
    "def printMonth():\n",
    "    now = datetime.datetime.now()\n",
    "    # 봄\n",
    "    if 3 <= now.month <= 5:\n",
    "        print(\"{}월은 봄입니다!\".format(now.month))\n",
    "    # 여름 구분\n",
    "    elif 6 <= now.month <= 8:\n",
    "        print(\"{}월은 여름입니다!\".format(now.month))\n",
    "    # 가을 구분\n",
    "    elif 9 <= now.month <= 11:\n",
    "        print(\"{}월은 가을입니다!\".format(now.month))\n",
    "    # 겨울 구분\n",
    "    else:\n",
    "        print(\"{}월은 겨울입니다!\".format(now.month))\n",
    "printMonth()\n",
    "\n",
    "def printMonth2():\n",
    "    now = datetime.datetime.now()\n",
    "    if now.month in (12,1,2):\n",
    "        print(f'{now.month}월은 겨울입니다')\n",
    "    elif now.month in (3,4,5):\n",
    "        print(f'{now.month}월은 봄입니다')\n",
    "    elif now.month in (6,7,8):\n",
    "        print(f'{now.month}월은 여름입니다')\n",
    "    else:\n",
    "        print(f'{now.month}월은 가을입니다')\n",
    "\n",
    "printMonth2()"
   ]
  },
  {
   "cell_type": "markdown",
   "id": "9bb3d269",
   "metadata": {},
   "source": [
    "### 요일 찍기"
   ]
  },
  {
   "cell_type": "code",
   "execution_count": 8,
   "id": "ca9fabb8",
   "metadata": {},
   "outputs": [
    {
     "name": "stdout",
     "output_type": "stream",
     "text": [
      "==============================\n",
      "2022-01-25 14:51:26.576691 <class 'datetime.datetime'> 1\n",
      "2022-01-25 14:51:26.576765 <class 'datetime.datetime'> 1\n",
      " 오늘은 1요일입니다.\n",
      " 오늘은 화요일입니다.\n"
     ]
    }
   ],
   "source": [
    "# 요일 찍기\n",
    "# datetime.datetime.now().weekday()\n",
    "# datetime.datetime.today().weekday()\n",
    "# 요일은 (월요일)0 ~ 6(일요일)\n",
    "now = datetime.datetime.now()\n",
    "today = datetime.datetime.today()\n",
    "print('='*30)\n",
    "print(now, type(now), now.weekday()) # 0\n",
    "print(today, type(today), today.weekday()) #0\n",
    "\n",
    "dayList = ['월', '화', '수', '목', '금', '토', '일']\n",
    "print(f' 오늘은 {today.weekday()}요일입니다.')\n",
    "print(f' 오늘은 {dayList[today.weekday()]}요일입니다.')\n"
   ]
  },
  {
   "cell_type": "markdown",
   "id": "b43a9ae4",
   "metadata": {},
   "source": [
    "### 특정 날짜를 시계열 데이타로 변환하기"
   ]
  },
  {
   "cell_type": "code",
   "execution_count": 10,
   "id": "f76f1615",
   "metadata": {},
   "outputs": [
    {
     "name": "stdout",
     "output_type": "stream",
     "text": [
      "2022-12-25 01:20:00 <class 'datetime.datetime'>\n",
      "2022 년 12월 25일은 일요일입니다.\n",
      "1995 년 5월 3일은 수요일입니다.\n"
     ]
    }
   ],
   "source": [
    "# datetime.datetime(년,월,일,시,분,초)\n",
    "dDay = datetime.datetime(2022, 12, 25, 1, 20)\n",
    "print(dDay, type(dDay)) # 2022-12-25 00:00:00 <class 'datetime.datetime'>\n",
    "\n",
    "# 2022년 12월 25일은 무슨요일일까?\n",
    "print(f'{dDay.year} 년 {dDay.month}월 {dDay.day}일은 {dayList[dDay.weekday()]}요일입니다.')\n",
    "\n",
    "# 나는 무슨 요일에 태어났을까?\n",
    "dDay = datetime.datetime(1995, 5, 3)\n",
    "print(f'{dDay.year} 년 {dDay.month}월 {dDay.day}일은 {dayList[dDay.weekday()]}요일입니다.')"
   ]
  },
  {
   "cell_type": "markdown",
   "id": "bb092fc9",
   "metadata": {},
   "source": [
    "### 시계열 데이타 끼리의 연산"
   ]
  },
  {
   "cell_type": "code",
   "execution_count": 14,
   "id": "0bd648f7",
   "metadata": {},
   "outputs": [
    {
     "name": "stdout",
     "output_type": "stream",
     "text": [
      "2022-12-31 00:00:00 2022-01-01 00:00:00\n",
      "364 days, 0:00:00\n"
     ]
    }
   ],
   "source": [
    "# 시계열 데이타 끼리의 연산\n",
    "dDay1 = datetime.datetime(2022, 12, 31)\n",
    "dDay2 = datetime.datetime(2022, 1, 1)\n",
    "print(dDay1, dDay2)\n",
    "print(dDay1 - dDay2) # 364 days, 0:00:00\n",
    "# print(dDay1 + dDay2) # 364 days, 0:00:00 TypeError: unsupported"
   ]
  },
  {
   "cell_type": "markdown",
   "id": "9bf5bc09",
   "metadata": {},
   "source": [
    "### time 모듈 이용하기"
   ]
  },
  {
   "cell_type": "code",
   "execution_count": 16,
   "id": "85fb7e83",
   "metadata": {},
   "outputs": [],
   "source": [
    "# time 모듈 임포트\n",
    "import time"
   ]
  },
  {
   "cell_type": "code",
   "execution_count": 17,
   "id": "5fdbcc04",
   "metadata": {},
   "outputs": [
    {
     "name": "stdout",
     "output_type": "stream",
     "text": [
      "['CLOCK_MONOTONIC', 'CLOCK_MONOTONIC_RAW', 'CLOCK_PROCESS_CPUTIME_ID', 'CLOCK_REALTIME', 'CLOCK_THREAD_CPUTIME_ID', 'CLOCK_UPTIME_RAW', '_STRUCT_TM_ITEMS', '__doc__', '__loader__', '__name__', '__package__', '__spec__', 'altzone', 'asctime', 'clock_getres', 'clock_gettime', 'clock_gettime_ns', 'clock_settime', 'clock_settime_ns', 'ctime', 'daylight', 'get_clock_info', 'gmtime', 'localtime', 'mktime', 'monotonic', 'monotonic_ns', 'perf_counter', 'perf_counter_ns', 'process_time', 'process_time_ns', 'sleep', 'strftime', 'strptime', 'struct_time', 'thread_time', 'thread_time_ns', 'time', 'time_ns', 'timezone', 'tzname', 'tzset']\n",
      "['__add__', '__class__', '__class_getitem__', '__contains__', '__delattr__', '__dir__', '__doc__', '__eq__', '__format__', '__ge__', '__getattribute__', '__getitem__', '__getnewargs__', '__gt__', '__hash__', '__init__', '__init_subclass__', '__iter__', '__le__', '__len__', '__lt__', '__match_args__', '__mul__', '__ne__', '__new__', '__reduce__', '__reduce_ex__', '__repr__', '__rmul__', '__setattr__', '__sizeof__', '__str__', '__subclasshook__', 'count', 'index', 'n_fields', 'n_sequence_fields', 'n_unnamed_fields', 'tm_gmtoff', 'tm_hour', 'tm_isdst', 'tm_mday', 'tm_min', 'tm_mon', 'tm_sec', 'tm_wday', 'tm_yday', 'tm_year', 'tm_zone']\n",
      "1643090005.651099 <class 'float'>\n",
      "time.struct_time(tm_year=2022, tm_mon=1, tm_mday=25, tm_hour=14, tm_min=53, tm_sec=25, tm_wday=1, tm_yday=25, tm_isdst=0) <class 'time.struct_time'>\n",
      "2022 년 1 월 25 일  화 요일\n"
     ]
    }
   ],
   "source": [
    "# time.time()\n",
    "# : 현재 시간을 실수 형태로 리턴한다.\n",
    "\n",
    "# time.localtime(time.time())\n",
    "# : time.time()의 값을 년도, 월, 일, 시, 분, 초로 변경\n",
    "# : <class 'time.struct_time'>\n",
    "\n",
    "print(dir(time))\n",
    "print(dir(time.struct_time))\n",
    "print(time.time(), type(time.time())) # 1642991784.4692876 <class 'float'>\n",
    "print(time.localtime(), type(time.localtime()))\n",
    "# time.struct_time(tm_year=2022, tm_mon=1, tm_mday=24, tm_hour=11, tm_min=36, tm_sec=24, tm_wday=0, tm_yday=24, tm_isdst=0)\n",
    "# <class 'time.struct_time'>\n",
    "\n",
    "now = time.localtime()\n",
    "dayList = ['월', '화', '수', '목', '금', '토', '일']\n",
    "print(f'{now.tm_year} 년 {now.tm_mon} 월 {now.tm_mday} 일  {dayList[now.tm_wday]} 요일')"
   ]
  },
  {
   "cell_type": "markdown",
   "id": "c425c46b",
   "metadata": {},
   "source": [
    "### 리스트 자료형 변경후 출력"
   ]
  },
  {
   "cell_type": "code",
   "execution_count": 18,
   "id": "4aa3df5d",
   "metadata": {},
   "outputs": [
    {
     "name": "stdout",
     "output_type": "stream",
     "text": [
      "[2022, 1, 25, 14, 53, 25, 1, 25, 0]\n",
      "2022\n",
      "1\n",
      "25\n",
      "14\n",
      "53\n",
      "25\n",
      "1\n",
      "25\n",
      "0\n",
      "2022\n",
      "1\n",
      "25\n",
      "14\n",
      "53\n",
      "25\n",
      "1\n",
      "25\n",
      "0\n",
      "==================================================\n",
      "2022 / 1 / 25 / "
     ]
    }
   ],
   "source": [
    "print(list(now)) # [2022, 1, 24, 11, 46, 15, 0, 24, 0]\n",
    "for i in list(now):\n",
    "    print(i)\n",
    "\n",
    "for i in list(now):\n",
    "    print(i)\n",
    "\n",
    "print('='*50)\n",
    "for i in list(now)[:3]:\n",
    "    print(i, end=' / ')\n"
   ]
  },
  {
   "cell_type": "markdown",
   "id": "985e51ca",
   "metadata": {},
   "source": [
    "### 여러가지 출력 포맷 이용하기\n",
    "- time.strftime('포맷코드1 포맷코드2', time.localtime(time.time()))\n",
    "\n",
    "- 문자열로 반환\n",
    "    - 출력할 형식 포맷코드\n",
    "        - %a / %A  : 요일\n",
    "        - %b / %B  :  달\n",
    "        - %c : 날짜와 시간\n",
    "        - %d : 날(day)\n",
    "        - %H :24시간 기준의 시간\n",
    "        - %I :12시간 기준의 시간\n",
    "        - %j :1년중 누적 날짜 표시\n",
    "        - %x : 지역 기반 날짜 출력 => 01/24/22\n",
    "        - %X : 지역 기반 시간 출력\n",
    "        - %w : 숫자로된 요일 출력. 0은 일요일\n",
    "        - %Y : 년도 출력\n",
    "        - %Z : 시간대 출력\n",
    "        - %p : AM/PM"
   ]
  },
  {
   "cell_type": "markdown",
   "id": "992ec3b1",
   "metadata": {},
   "source": [
    "- 지연후에 명령문 실행\n",
    "    - time.sleep(지연시간단위는초)\n",
    "    ```python\n",
    "    for i in range(5):\n",
    "        time.sleep(5)\n",
    "        print(i)\n",
    "    ```"
   ]
  },
  {
   "cell_type": "code",
   "execution_count": 19,
   "id": "a1852786",
   "metadata": {},
   "outputs": [
    {
     "name": "stdout",
     "output_type": "stream",
     "text": [
      " 오늘 => time.struct_time(tm_year=2022, tm_mon=1, tm_mday=25, tm_hour=14, tm_min=55, tm_sec=9, tm_wday=1, tm_yday=25, tm_isdst=0)\n",
      " 오늘 => 01/25/22\n",
      " 오늘 => 14:55:09\n",
      " 오늘 => 2022 Jan 25 Tue\n",
      " 오늘 => 2022 January 25 Tuesday\n",
      " 오늘 => PM 02\n",
      " 오늘 => Tue Jan 25 14:55:09 2022\n",
      " 1년을 기준으로 025 번째 날\n",
      "<class 'str'>\n",
      "올해 남은 날은? 340\n"
     ]
    }
   ],
   "source": [
    "now = time.localtime()\n",
    "print(f' 오늘 => {now}')\n",
    "print(f' 오늘 => {time.strftime(\"%x\", now)}')\n",
    "print(f' 오늘 => {time.strftime(\"%X\", now)}')\n",
    "print(f' 오늘 => {time.strftime(\"%Y %b %d %a\", now)}')\n",
    "print(f' 오늘 => {time.strftime(\"%Y %B %d %A\", now)}')\n",
    "print(f' 오늘 => {time.strftime(\"%p %I\", now)}')\n",
    "print(f' 오늘 => {time.strftime(\"%c\", now)}')\n",
    "print(f' 1년을 기준으로 {time.strftime(\"%j\", now)} 번째 날')\n",
    "print(type(time.strftime(\"%j\", now))) # <class 'str'>\n",
    "print('올해 남은 날은?', 365 - int(time.strftime(\"%j\", now)))"
   ]
  },
  {
   "cell_type": "markdown",
   "id": "d4560147",
   "metadata": {},
   "source": [
    "### time 모듈을 이용해서 시계열데이타로 형변환\n",
    "\n",
    "- `time.strptime(날짜문자열, 포맷)`\n",
    "- `time.strptime('년-월-일', '%Y-%m-%d')`\n",
    "- `datetime.datetime(년, 월, 일)`"
   ]
  },
  {
   "cell_type": "code",
   "execution_count": 21,
   "id": "f190e1a3",
   "metadata": {},
   "outputs": [
    {
     "name": "stdout",
     "output_type": "stream",
     "text": [
      "time.struct_time(tm_year=2022, tm_mon=12, tm_mday=25, tm_hour=0, tm_min=0, tm_sec=0, tm_wday=6, tm_yday=359, tm_isdst=-1) <class 'time.struct_time'>\n"
     ]
    }
   ],
   "source": [
    "myDate = time.strptime('2022-12-25', '%Y-%m-%d')\n",
    "print(myDate, type(myDate))"
   ]
  },
  {
   "cell_type": "code",
   "execution_count": 22,
   "id": "71c1f98e",
   "metadata": {},
   "outputs": [
    {
     "name": "stdout",
     "output_type": "stream",
     "text": [
      " 2022 년 12월 25일은 일요일입니다.\n"
     ]
    }
   ],
   "source": [
    "# 2022년 12월 25일은 무슨요일일까?\n",
    "dayList = ['월', '화', '수', '목', '금', '토', '일']\n",
    "print(f' {myDate.tm_year} 년 {myDate.tm_mon}월 {myDate.tm_mday}일은 {dayList[myDate.tm_wday]}요일입니다.')"
   ]
  },
  {
   "cell_type": "code",
   "execution_count": 23,
   "id": "e2eeb92c",
   "metadata": {},
   "outputs": [
    {
     "name": "stdout",
     "output_type": "stream",
     "text": [
      " 오늘 : 2022-01-25 \n",
      " 수료일 : 2022-04-29 \n",
      " 94 days, 0:00:00 일 남았습니다. \n",
      " 94 일 남았습니다. \n",
      "==================================================\n",
      " 오늘 : 2022-1-25 \n",
      " 수료일 : 2022-4-29 \n",
      " 1년을 기준으로 119 번째 날\n",
      " 1년을 기준으로 025 번째 날\n",
      "<class 'int'>\n",
      "119 25 94\n",
      " 94 일 남았습니다. \n"
     ]
    }
   ],
   "source": [
    "# 퀴즈 특정 날짜를 기준으로 몇일이 남았는지 출력하여라\n",
    "# 오늘 : ????-??-??\n",
    "# 수료일 2022-04-29 ...\n",
    "# ? 일 남았습니다.\n",
    "\n",
    "now = datetime.datetime.now()\n",
    "dDay = datetime.datetime(2022, 4, 29)\n",
    "print(f' 오늘 : {now.date()} ')\n",
    "print(f' 수료일 : {dDay.date()} ')\n",
    "print(f' {(dDay.date()-now.date())} 일 남았습니다. ')\n",
    "print(f' {str(dDay.date()-now.date())[:2]} 일 남았습니다. ')\n",
    "\n",
    "print('='*50)\n",
    "now2 = time.localtime()\n",
    "dDay2 = time.strptime('2022-04-29', '%Y-%m-%d')\n",
    "\n",
    "# print(f' 오늘 : {now2} ')\n",
    "print(f' 오늘 : {now2.tm_year}-{now2.tm_mon}-{now2.tm_mday} ')\n",
    "print(f' 수료일 : {dDay2.tm_year}-{dDay2.tm_mon}-{dDay2.tm_mday} ')\n",
    "print(f' 1년을 기준으로 {time.strftime(\"%j\", dDay2)} 번째 날')\n",
    "print(f' 1년을 기준으로 {time.strftime(\"%j\", now2)} 번째 날')\n",
    "print(type(int(time.strftime(\"%j\", dDay2))))\n",
    "m = int(time.strftime(\"%j\", dDay2))\n",
    "n = int(time.strftime(\"%j\", now2))\n",
    "print(m, n, m-n)\n",
    "print(f' {m-n} 일 남았습니다. ')\n"
   ]
  },
  {
   "cell_type": "code",
   "execution_count": null,
   "id": "f3e0bbf2",
   "metadata": {},
   "outputs": [],
   "source": []
  }
 ],
 "metadata": {
  "kernelspec": {
   "display_name": "Python 3 (ipykernel)",
   "language": "python",
   "name": "python3"
  },
  "language_info": {
   "codemirror_mode": {
    "name": "ipython",
    "version": 3
   },
   "file_extension": ".py",
   "mimetype": "text/x-python",
   "name": "python",
   "nbconvert_exporter": "python",
   "pygments_lexer": "ipython3",
   "version": "3.10.1"
  }
 },
 "nbformat": 4,
 "nbformat_minor": 5
}
