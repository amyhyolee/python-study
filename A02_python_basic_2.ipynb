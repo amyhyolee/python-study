{
 "cells": [
  {
   "cell_type": "markdown",
   "id": "f1f529ca",
   "metadata": {},
   "source": [
    "# 파이썬 기초 공부 2\n",
    "## 2022.01.19"
   ]
  },
  {
   "cell_type": "markdown",
   "id": "5ae3b6d4",
   "metadata": {},
   "source": [
    "### A. 연산자\n",
    "\n",
    "1. 산술 연산자\n",
    "\n",
    "|연산기호|뜻|예시|결과|\n",
    "|---|---|---|---|\n",
    "|+|더하기|1+1|2|\n",
    "|-|빼기|1-1|0|\n",
    "| * |곱하기| 1*2 | 2 |\n",
    "| / |나누기| 5/2 | 2.5 |\n",
    "| ** |제곱| 2**3 | 8 |\n",
    "| // |정수로 나누었을 때의 몫| 7//4 | 1 (나눗셈의 몫) |\n",
    "| % |정수로 나누었을 때의 나머지| 7%4 | 3 (나눗셈의 나머지) |\n",
    "| () | 다른 계산보다 괄호 안을 먼저 계산| 7*(3+4) | 14 |"
   ]
  },
  {
   "cell_type": "code",
   "execution_count": 1,
   "id": "83a01f38",
   "metadata": {},
   "outputs": [
    {
     "name": "stdout",
     "output_type": "stream",
     "text": [
      "77 / 3 = 25.666666666666668\n",
      "77 // 3 = 25\n",
      "77 % 3 = 2\n",
      "2 ** 3 = 8\n"
     ]
    }
   ],
   "source": [
    "# 산술연산자\n",
    "x = 77\n",
    "y = 3\n",
    "print(x, '/', y , '=', x/y )\n",
    "print(x, '//', y , '=', x//y )\n",
    "print(x, '%', y , '=', x%y )\n",
    "print(2, '**', y , '=', 2**y )"
   ]
  },
  {
   "cell_type": "markdown",
   "id": "4d3cf750",
   "metadata": {},
   "source": [
    "2. 대입 연산자\n",
    "|연산자|사용 예|설명|\n",
    "|---|---|---|\n",
    "|+=|a+=2|a=a+2과 동일|\n",
    "|-=|a-=2|a=a-2과 동일|\n",
    "|*=|a*=2|a=a*2과 동일|\n",
    "|/=|a/=2|a=a/2과 동일|\n",
    "|//=|a//=2|a=a//2과 동일|\n",
    "|%=|a%=2|a=a%2과 동일|\n",
    "|**=|a**=2|a=a**2과 동일|"
   ]
  },
  {
   "cell_type": "code",
   "execution_count": 2,
   "id": "1847f10a",
   "metadata": {},
   "outputs": [
    {
     "name": "stdout",
     "output_type": "stream",
     "text": [
      "n =  10\n",
      "n =  13\n",
      "n =  8\n"
     ]
    }
   ],
   "source": [
    "# 대입 연산자\n",
    "n = 10\n",
    "print('n = ', n) # 10\n",
    "n += 3\n",
    "print('n = ', n) # 13\n",
    "n -= 5\n",
    "print('n = ', n)  # 8"
   ]
  },
  {
   "cell_type": "markdown",
   "id": "53f88683",
   "metadata": {},
   "source": [
    "3. 관계 연산자\n",
    "    - 어떤 것이 크거나 작거나 같은지 비교하는 것 (참은 True로, 거짓은 False로 표시)\n",
    "    - 반복문, 조건문에 주로 사용\n",
    "    \n",
    "|연산자|의미|설명|\n",
    "|---|---|---|\n",
    "|==|같다|두 값이 동일하면 참|\n",
    "|!=|같지 않다|두 값이 다르면 참|\n",
    "|>|크다|왼쪽이 크면 참|\n",
    "|<|작다|왼쪽이 작으면 참|\n",
    "|>=|크거나 같다|왼쪽이 크거나 같으면 참|\n",
    "|<=|작거나 같다|왼쪽이 작거나 같으면 참|"
   ]
  },
  {
   "cell_type": "code",
   "execution_count": 3,
   "id": "9175cedb",
   "metadata": {},
   "outputs": [
    {
     "name": "stdout",
     "output_type": "stream",
     "text": [
      "True\n",
      "False\n",
      "False\n"
     ]
    }
   ],
   "source": [
    "# 관계 연산자\n",
    "print(100 == 100) # True\n",
    "print(100 != 100) # False\n",
    "print(100 >= 110) # False"
   ]
  },
  {
   "cell_type": "markdown",
   "id": "83c812b5",
   "metadata": {},
   "source": [
    "4. 논리 연산자\n",
    "    - 조건이 참인지 거짓인지 판단할 때 사용하는 연산자\n",
    "    - 조건문에 주로 사용\n",
    "    \n",
    "|연산자|의미|설명|사용 예|\n",
    "|---|---|---|---|\n",
    "|and(논리곱)|~이고, 그리고|둘 다 참이어야 참|(a > 100) and (a < 200)|\n",
    "|or(논리합)|~이거나, 또는|둘 중 하나만 참이어도 참|(a == 100) or (a == 200)|\n",
    "|not(논리부정)|~아니다, 부정|참이면 거짓, 거짓이면 참|not(a<100)|"
   ]
  },
  {
   "cell_type": "code",
   "execution_count": 4,
   "id": "ed48bfb0",
   "metadata": {},
   "outputs": [
    {
     "name": "stdout",
     "output_type": "stream",
     "text": [
      "===================\n",
      "True\n",
      "False\n",
      "True\n",
      "False\n",
      "True\n",
      "======\n",
      "True\n",
      "False\n"
     ]
    }
   ],
   "source": [
    "# 논리 연산자\n",
    "# True and True => True\n",
    "# True and False => False\n",
    "# False or False => False\n",
    "# True or False => True\n",
    "# not(True) => False\n",
    "# not(False) => True\n",
    "\n",
    "user_id = 'python'\n",
    "user_pwd = 'abcd'\n",
    "user_age = 19\n",
    "print('===================')\n",
    "print((user_id == 'python') and (user_pwd=='abcd')) # True\n",
    "print((user_id == 'python') and (user_pwd=='1234abcd')) # False\n",
    "print((user_age > 20) or (user_pwd=='abcd')) # True\n",
    "print((user_id != 'python') or (user_pwd == '가나다라'))  # False\n",
    "print(not(user_age > 20))  # True\n",
    "\n",
    "\n",
    "# is, is not 연산자\n",
    "# 값이 같은지 비교한다.\n",
    "# 결과값이 True/ False\n",
    "\n",
    "# print(user_id is not 'python') # SyntaxWarning user_id != 'python'\n",
    "# print(user_id is 'python') # SyntaxWarning  user_id == 'python'\n",
    "\n",
    "user1 = '영희'\n",
    "user2 = '철수'\n",
    "print('======')\n",
    "print(user1 is not user2) # True\n",
    "print(user1 is user2) # False"
   ]
  },
  {
   "cell_type": "markdown",
   "id": "8c69a71f",
   "metadata": {},
   "source": [
    "5. 연산자 우선 순위\n",
    "    - 여러 개의 연산자가 있을 경우 정해진 순서\n",
    "    \n",
    "|연산자|의미|설명|\n",
    "|---|---|---|\n",
    "|1|() [] {}|괄호, 리스트, 딕셔너리|\n",
    "|2|**|지수|\n",
    "|3|+ - ~|단항 연산자|\n",
    "|4|* / % //|산술 연산자|\n",
    "|5|+ -|산술 연산자|\n",
    "|6|<< >>|비트 시프트 연산자|\n",
    "|7|&|비트 논리곱|\n",
    "|8|^|비트 배타적 논리합|\n",
    "|9|\\||비트 논리합|\n",
    "|10|<> >= <=|관계 연산자|\n",
    "|11|== !=|동등 연산자|\n",
    "|12|=% =/ =// =- =+ =* =**|대입 연산자|\n",
    "|13|not|논리 연산자|\n",
    "|14|and|논리 연산자|\n",
    "|15|or|논리 연산자|\n",
    "|16|if ~ else|비교식|"
   ]
  },
  {
   "cell_type": "markdown",
   "id": "314719a3",
   "metadata": {},
   "source": [
    "### B. 문자열 연산자"
   ]
  },
  {
   "cell_type": "markdown",
   "id": "eca80eb4",
   "metadata": {},
   "source": [
    "- 문자열 더해서 연결하기 (Concatenation) : + 이용\n",
    "- 문자열 곱하기 : * 이용. 문자열의 반복"
   ]
  },
  {
   "cell_type": "code",
   "execution_count": 9,
   "id": "a1ab89c8",
   "metadata": {},
   "outputs": [
    {
     "name": "stdout",
     "output_type": "stream",
     "text": [
      "Python is fun!\n"
     ]
    },
    {
     "data": {
      "text/plain": [
       "'pythonpython'"
      ]
     },
     "execution_count": 9,
     "metadata": {},
     "output_type": "execute_result"
    }
   ],
   "source": [
    "head = \"Python\"\n",
    "tail = \" is fun!\"\n",
    "print(head + tail)\n",
    "\n",
    "a = \"python\"\n",
    "a * 2"
   ]
  },
  {
   "cell_type": "markdown",
   "id": "91584fd6",
   "metadata": {},
   "source": [
    "### C. 문자열 인덱싱\n",
    "- 인덱싱이란?  문자열의 위치를 숫자로 표시\n",
    "- 파이썬은 0부터 숫자를 센다.\n",
    "- 인덱싱의 마지막 위치는 -1\n",
    "- ```문자열변수[인덱스값]```"
   ]
  },
  {
   "cell_type": "code",
   "execution_count": 10,
   "id": "a486b759",
   "metadata": {},
   "outputs": [
    {
     "name": "stdout",
     "output_type": "stream",
     "text": [
      "가\n",
      "바\n",
      "하\n",
      "차\n"
     ]
    }
   ],
   "source": [
    "myTxt = '가나다라마바사아자차카타파하'\n",
    "print(myTxt[0])\n",
    "print(myTxt[5])\n",
    "print(myTxt[-1])\n",
    "print(myTxt[-5])"
   ]
  },
  {
   "cell_type": "code",
   "execution_count": 11,
   "id": "e5f243bc",
   "metadata": {},
   "outputs": [
    {
     "name": "stdout",
     "output_type": "stream",
     "text": [
      "가나다라마바사아자차카타파하\n",
      "전체길이는?  14\n"
     ]
    }
   ],
   "source": [
    "# 문자열 전체길이는?\n",
    "# len(문자열이나 문자열변수)\n",
    "print(myTxt)\n",
    "print('전체길이는? ', len(myTxt))"
   ]
  },
  {
   "cell_type": "markdown",
   "id": "b03672d1",
   "metadata": {},
   "source": [
    "### D. 문자열 슬라이싱\n",
    "\n",
    "- 문자열 슬라이싱이란?\n",
    "    - 문자열의 일부를 잘라서 표시\n",
    "- 문자열변수[start:end:step]\n",
    "- 문자열변수[start:end]\n",
    "- 문자열변수[start:]\n",
    "- 문자열변수[:end]\n",
    "- 문자열변수[::step]\n",
    "- start 부터 end-1 까지 step 수만큼 건너뛰기"
   ]
  },
  {
   "cell_type": "code",
   "execution_count": 12,
   "id": "92422239",
   "metadata": {},
   "outputs": [
    {
     "name": "stdout",
     "output_type": "stream",
     "text": [
      "==============================\n",
      "012\n",
      "012\n",
      "56789\n",
      "01234\n",
      "024\n",
      "02468\n",
      "5678\n",
      "9876543210\n",
      "\n"
     ]
    }
   ],
   "source": [
    "myTxt2 = '0123456789'\n",
    "print(myTxt2[0:3]) # 012\n",
    "print(myTxt2[:3]) # 012\n",
    "print(myTxt2[5:]) # 56789\n",
    "print(myTxt2[0:5]) # 01234\n",
    "print(myTxt2[0:5:2]) # 024\n",
    "print(myTxt2[::2]) # 02468\n",
    "print(myTxt2[-5:-1]) # 5678\n",
    "# step 값을 -1로 지정하면 역순\n",
    "print(myTxt2[::-1]) # 9876543210\n",
    "print(myTxt2[-1:-5])  # 값이 출력되지 않는다"
   ]
  },
  {
   "cell_type": "markdown",
   "id": "1dacea10",
   "metadata": {},
   "source": [
    "### E. 문자열 포맷팅\n",
    "\n",
    "- 문자열 포맷(Format) 이란?\n",
    "    - 문자열 내에 어떤 특정 값을 변화시키는 방법\n",
    "    \n",
    "1.  %서식 이용\n",
    "    - ```print(\"%style1 %style2” % (value1, vlue2) )```\n",
    "\n",
    "    |서식|값의 예|설명|\n",
    "    |---|---|---|\n",
    "    |%d, %x, %o|10, 100, 1234|정수(10진수, 16진수, 8진수)|\n",
    "    |%f|0.5, 1.0, 3.14|실수(소수점이 붙은 수)|\n",
    "    |%c|\"b\", \"한\"|한글자|\n",
    "    |%s|\"안녕\", \"abcdef\", \"a\"| 두글자 이상인 문자열|\n",
    "\n",
    "    - 소수점 표현\n",
    "        - ```print(“%전체자리수.소숫점자리f” % (value) )```\n",
    "        - ``` print(' 문자열 %자료형 ' % 변수)```\n",
    "        - ```print(' 문자열 %자료형1 %자료형2 ' % (변수1, 변수2))```"
   ]
  },
  {
   "cell_type": "code",
   "execution_count": 13,
   "id": "0a2ba332",
   "metadata": {},
   "outputs": [
    {
     "name": "stdout",
     "output_type": "stream",
     "text": [
      "학생명: 홍길동 나이: 17 수학점수: 98.7654321\n",
      "학생명 : 홍길동  나이 : 17    수학 점수 : 98.77 \n",
      "나이1 : 17   나이2 : 21   나이3:11 \n"
     ]
    }
   ],
   "source": [
    "userName = '홍길동'\n",
    "userAge = 17\n",
    "userScore = 98.7654321\n",
    "print('학생명:',userName, '나이:', userAge, '수학점수:',userScore)\n",
    "# %를 이용한 포맷팅 방식으로 출력\n",
    "print('학생명 : %s  나이 : %d    수학 점수 : %.2f ' % (userName, userAge, userScore))\n",
    "print('나이1 : %d   나이2 : %o   나이3:%x ' % (userAge, userAge, userAge))"
   ]
  },
  {
   "cell_type": "markdown",
   "id": "2146b34d",
   "metadata": {},
   "source": [
    "2. format 을 이용한 출력방식 ```{}.format() ```\n",
    "    - ```print(“{index1:style1} {index2:style2}”.format(value1, vlue2))```\n",
    "    - ```print(' 문자열1 {} {} 문자열2'.format(변수1, 변수2) )```\n",
    "    - ```print(' 문자열1 {숫자나 변수} {숫자나 변수} 문자열2'.format(변수1=값1, 변수2=값2) )```"
   ]
  },
  {
   "cell_type": "code",
   "execution_count": 14,
   "id": "77f713f4",
   "metadata": {},
   "outputs": [
    {
     "name": "stdout",
     "output_type": "stream",
     "text": [
      "학생명: 홍길동 나이: 17 수학점수: 98.7654321\n",
      "학생명 : 홍길동  나이 : 17    수학 점수 : 98.77 \n"
     ]
    }
   ],
   "source": [
    "print('학생명:',userName, '나이:', userAge, '수학점수:',userScore)\n",
    "print('학생명 : {0}  나이 : {1}    수학 점수 : {2:.2f} '.format(userName, userAge, userScore))\n"
   ]
  },
  {
   "cell_type": "markdown",
   "id": "e2f8b7be",
   "metadata": {},
   "source": [
    "3. f’ 문자열 포맷팅 : 3.6 이상 지원\n",
    "    - ```print(f’ {variable1} {variable2}’)```\n",
    "    - ```print(f' 문자열 {변수명이나 변수를이용한수식}) ```\n",
    "    \n",
    "    - f' 문자열 공백, 대체문자여백 지정\n",
    "        - ```f' 문자열 {변수명:>숫자} ' : 왼쪽여백생성```\n",
    "        - ```f' 문자열 {변수명:<숫자} ' : 오른쪽여백생성```\n",
    "        - ```f' 문자열 {변수명:^숫자} ' : 좌우여백생성```\n",
    "        - ```f' 문자열 {변수명:대체문자>숫자} ' : 왼쪽에 대체문자반복```\n",
    "        - ```f' 문자열 {변수명:대체문자<숫자} ' : 오른쪽에 대체문자반복```\n",
    "        - ```f' 문자열 {변수명:대체문자^숫자} ' : 좌우 대체문자 반복```\n",
    "    - f' 포맷팅 소수점 처리\n",
    "        - ```f' 문자열 {변수명:전체자릿수.소숫점이하자릿수f} '```"
   ]
  },
  {
   "cell_type": "code",
   "execution_count": 26,
   "id": "7308b988",
   "metadata": {},
   "outputs": [
    {
     "name": "stdout",
     "output_type": "stream",
     "text": [
      " *** Have a nice day ***\n",
      " ***                Have a nice day ***\n"
     ]
    }
   ],
   "source": [
    "message = 'Have a nice day'\n",
    "print(f' *** {message} ***')\n",
    "print(f' *** {message:>30} ***')"
   ]
  },
  {
   "cell_type": "code",
   "execution_count": 23,
   "id": "28776ef3",
   "metadata": {},
   "outputs": [
    {
     "name": "stdout",
     "output_type": "stream",
     "text": [
      "학생명: 홍길동 나이: 17 수학점수: 98.7654321\n",
      "학생명 :  홍길동  나이 : 17    수학 점수 : 98.77\n"
     ]
    }
   ],
   "source": [
    "print('학생명:', userName, '나이:', userAge, '수학점수:',userScore)\n",
    "print(f'학생명 :  {userName}  나이 : {userAge}    수학 점수 : {userScore:.2f}')"
   ]
  },
  {
   "cell_type": "markdown",
   "id": "dd92dd59",
   "metadata": {},
   "source": [
    "### F. 문자열 함수\n"
   ]
  },
  {
   "cell_type": "code",
   "execution_count": 34,
   "id": "611ac2a9",
   "metadata": {},
   "outputs": [],
   "source": [
    "# 샘플 문자열 만들기\n",
    "# http://www.lipsum.com 이용\n",
    "\n",
    "sample = '''\n",
    "Lorem Ipsum is simply dummy text of the printing and typesetting industry. \n",
    "Lorem Ipsum has been the industry's standard dummy text ever since the 1500s, \n",
    "when an unknown printer took a galley of type and scrambled it to make a type specimen book. \n",
    "It has survived not only five centuries, but also the leap into electronic typesetting, \n",
    "remaining essentially unchanged. \n",
    "It was popularised in the 1960s with the release of \n",
    "Letraset sheets containing Lorem Ipsum passages, and more recently \n",
    "with desktop publishing software like Aldus PageMaker including versions of Lorem Ipsum\n",
    "'''"
   ]
  },
  {
   "cell_type": "markdown",
   "id": "bbe38f3e",
   "metadata": {},
   "source": [
    "\n",
    "1. 문자열 개수 세기(count)\n",
    "    - ```문자열변수.count(string)```"
   ]
  },
  {
   "cell_type": "code",
   "execution_count": 30,
   "id": "96b53370",
   "metadata": {},
   "outputs": [
    {
     "name": "stdout",
     "output_type": "stream",
     "text": [
      "the 는 몇번 출력되는지? 6\n",
      "철수 는 몇번 출력되는지? 0\n"
     ]
    }
   ],
   "source": [
    "# 문자열변수.count(찾고자하는문자열)\n",
    "print('the 는 몇번 출력되는지?', sample.count('the'))\n",
    "print('철수 는 몇번 출력되는지?', sample.count('철수'))"
   ]
  },
  {
   "cell_type": "markdown",
   "id": "20302afb",
   "metadata": {},
   "source": [
    "2. 문자 위치 반환\n",
    "    - 위치 알려주기(find)\n",
    "        - ```문자열변수.find(string)```\n",
    "        - 문자가 처음 나온 위치 반환. 없다면 -1 반환\n",
    "\n",
    "    - 위치 알려주기(index)\n",
    "        - ```문자열변수.index(string)```\n",
    "        - 문자가 처음 나온 위치 반환. 없다면 오류발생"
   ]
  },
  {
   "cell_type": "code",
   "execution_count": 33,
   "id": "da3c1324",
   "metadata": {},
   "outputs": [
    {
     "name": "stdout",
     "output_type": "stream",
     "text": [
      "첫번째 t의 위치값은 29\n",
      "첫번째 가의 위치값은 -1\n",
      "첫번째 t의 위치값은 29\n"
     ]
    }
   ],
   "source": [
    "# 문자열변수.find(찾고자하는문자열)\n",
    "print('첫번째 t의 위치값은', sample.find('t')) # 29\n",
    "print('첫번째 가의 위치값은', sample.find('가'))  # -1\n",
    "\n",
    "# 문자열변수.index(찾고자하는문자열)\n",
    "print('첫번째 t의 위치값은', sample.index('t')) # 29\n",
    "# print('첫번째 가의 위치값은', sample.index('가'))\n",
    "# # ValueError: substring not found"
   ]
  },
  {
   "cell_type": "markdown",
   "id": "8a845a49",
   "metadata": {},
   "source": [
    "\n",
    "3. 문자열 조작 (1)\n",
    "    - 문자열 삽입(join)\n",
    "        - ```'연결문자'.join(문자열변수)```\n",
    "        - 문자열 각각에 a 변수의 문자 , 를 삽입한다.\n",
    "            ```python\n",
    "            a = \",\"\n",
    "            a.join('abcd')\n",
    "            ```\n",
    "    - 대문자를 소문자로 바꾸기 (lower)\n",
    "        - ```string.lower()```\n",
    "    - 소문자를 대문자로 바꾸기 (upper)\n",
    "        - ```string.upper()```\n",
    "    - 문자열 내 띄어쓰기 기준으로 각 단어의 첫글자는 대문자로, 나머지는 소문자로 변환\n",
    "        - ```string.title()```"
   ]
  },
  {
   "cell_type": "code",
   "execution_count": 40,
   "id": "7ae846c6",
   "metadata": {},
   "outputs": [
    {
     "name": "stdout",
     "output_type": "stream",
     "text": [
      "H*e*l*l*o*J*a*v*a\n",
      "H     e     l     l     o     J     a     v     a\n"
     ]
    }
   ],
   "source": [
    "print('*'.join('HelloJava'))\n",
    "print('     '.join('HelloJava'))"
   ]
  },
  {
   "cell_type": "code",
   "execution_count": 1,
   "id": "8a84cbde",
   "metadata": {},
   "outputs": [
    {
     "name": "stdout",
     "output_type": "stream",
     "text": [
      "글자를 입력해주세요.  sfdfsf\n",
      "==================================================\n",
      "입력글자는?  SFDFSF\n"
     ]
    },
    {
     "data": {
      "text/plain": [
       "'Happy Birthday To My Friend'"
      ]
     },
     "execution_count": 1,
     "metadata": {},
     "output_type": "execute_result"
    }
   ],
   "source": [
    "# answer = input('글자를 입력해주세요.  ')\n",
    "# print('='*50)\n",
    "# print(f'입력글자는?  {answer.upper()}')\n",
    "\n",
    "'happy birthday to my friend'.title()"
   ]
  },
  {
   "cell_type": "markdown",
   "id": "3a8dac09",
   "metadata": {},
   "source": [
    "4. 문자열 조작 (2)\n",
    "    - 양쪽 공백 지우기(strip)\n",
    "        - ```string.strip()```\n",
    "    - 왼쪽 공백 지우기(lstrip)\n",
    "        - ```string.lstrip()```\n",
    "    - 오른쪽 공백 지우기(rstrip)\n",
    "        - ```string.rstrip()```\n",
    "        \n",
    "    - 문자열 바꾸기(replace)\n",
    "        - ```문자열변수.replace(찾고자하는문자열, 교체문자열)```"
   ]
  },
  {
   "cell_type": "code",
   "execution_count": 44,
   "id": "ce4751da",
   "metadata": {
    "scrolled": true
   },
   "outputs": [
    {
     "name": "stdout",
     "output_type": "stream",
     "text": [
      "샘플 글자는?      Python       입니다.\n",
      "샘플 글자는?Python입니다.\n",
      "샘플 글자는?Python       입니다.\n",
      "샘플 글자는?      Python입니다.\n",
      "\n",
      "Lorem Ipsum was simply dummy text of the printing and typesetting industry. \n",
      "Lorem Ipsum has been the industry's standard dummy text ever since the 1500s, \n",
      "when an unknown printer took a galley of type and scrambled it to make a type specimen book. \n",
      "It has survived not only five centuries, but also the leap into electronic typesetting, \n",
      "remaining essentially unchanged. \n",
      "It was popularwased in the 1960s with the release of \n",
      "Letraset sheets containing Lorem Ipsum passages, and more recently \n",
      "with desktop publwashing software like Aldus PageMaker including versions of Lorem Ipsum\n",
      "\n"
     ]
    }
   ],
   "source": [
    "myWord = '      Python       '\n",
    "print(f'샘플 글자는?{myWord}입니다.')\n",
    "print(f'샘플 글자는?{myWord.strip()}입니다.')\n",
    "print(f'샘플 글자는?{myWord.lstrip()}입니다.')\n",
    "print(f'샘플 글자는?{myWord.rstrip()}입니다.')\n",
    "\n",
    "\n",
    "# 문자열 교체하기\n",
    "print(sample.replace('is', 'was'))"
   ]
  },
  {
   "cell_type": "markdown",
   "id": "575ab6c8",
   "metadata": {},
   "source": [
    "5. 문자열 자료형의 리스트화 - 리스트 구조로 변경하기\n",
    "    - 문자열 나누기(split)\n",
    "        - ```문자열변수.split())```\n",
    "        - ```문자열변수.split(구분자)```"
   ]
  },
  {
   "cell_type": "code",
   "execution_count": 46,
   "id": "21b35d2f",
   "metadata": {},
   "outputs": [
    {
     "name": "stdout",
     "output_type": "stream",
     "text": [
      "['튀김', '순대', '오뎅']\n",
      "['튀김:순대:오뎅']\n",
      "['튀김', '순대', '오뎅']\n"
     ]
    }
   ],
   "source": [
    "myFood1 = '튀김 순대 오뎅'\n",
    "myFood2 = '튀김:순대:오뎅'\n",
    "print(myFood1.split()) # ['튀김', '순대', '오뎅']\n",
    "print(myFood2.split()) # ['튀김:순대:오뎅']\n",
    "print(myFood2.split(':')) # ['튀김', '순대', '오뎅']"
   ]
  },
  {
   "cell_type": "code",
   "execution_count": null,
   "id": "732ea279",
   "metadata": {},
   "outputs": [],
   "source": []
  }
 ],
 "metadata": {
  "kernelspec": {
   "display_name": "Python 3 (ipykernel)",
   "language": "python",
   "name": "python3"
  },
  "language_info": {
   "codemirror_mode": {
    "name": "ipython",
    "version": 3
   },
   "file_extension": ".py",
   "mimetype": "text/x-python",
   "name": "python",
   "nbconvert_exporter": "python",
   "pygments_lexer": "ipython3",
   "version": "3.10.1"
  }
 },
 "nbformat": 4,
 "nbformat_minor": 5
}
