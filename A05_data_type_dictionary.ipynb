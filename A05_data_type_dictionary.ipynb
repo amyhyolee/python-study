{
 "cells": [
  {
   "cell_type": "markdown",
   "id": "f24d1152",
   "metadata": {},
   "source": [
    "# 자료형 : Dictionary (딕셔너리)\n",
    "## 2022.01.20"
   ]
  },
  {
   "cell_type": "markdown",
   "id": "a4d9dd0e",
   "metadata": {},
   "source": [
    "### 자료형의 종류\n",
    "- 기본 자료형 - 문자열, 정수, 실수, 불린형\n",
    "- 집합형 자료형=콜렉션 : 여러개의 구성요소로 조직화\n",
    "    - : 리스트 [ ], 튜플 ( ), 딕셔너리 { }, 집합{ }\n",
    "- CRUD : Create Read Update Delete"
   ]
  },
  {
   "cell_type": "markdown",
   "id": "910d47a2",
   "metadata": {},
   "source": [
    "### C. Dictionary (딕셔너리)\n",
    "\n",
    "- 특징\n",
    "    - 딕셔너리는 중괄호 { }로 묶어 생성\n",
    "    - 연관 배열(Associative array) 또는 해시(Hash)\n",
    "    - 단어 그대로 해석하면 사전이라는 뜻\n",
    "    - Key를 통해 Value를 얻는다\n",
    "        - 키(Key)와 값(Value)의 쌍으로 구성\n",
    "\n",
    "- 딕셔너리 생성 :\n",
    "    - ```딕셔너리변수 = {키1:값1, 키2:값2,...}``` \n",
    "    - 키값은 문자형, 숫자형 둘다 가능\n",
    "    - 빈 딕셔너리 생성 후 값 추가\n",
    "        - 빈 리스트: ```딕셔너리변수 = {}```\n",
    "    - 딕셔너리 요소 추가\n",
    "        - `딕셔너리변수[키값] = 값`\n",
    "\n",
    "- 딕셔너리 요소 조회 : 키인덱싱\n",
    "    - `딕셔너리변수[키값] => 해당요소의 값 표시`\n",
    "\n",
    "- 주의할점\n",
    "    - 딕셔너리에는 순서가 없어 생성한 순서대로 딕셔너리가 구성되어 있다는 보장 없음\n",
    "    - 키 값이 같은 경우 마지막 아이템만 유지된다.\n",
    "    - 키값으로 리스트는 쓸 수 없다.\n",
    "\n",
    "-  키와 값을 반대로\n",
    "    - 키와 값은 사용자가 지정하는 것이지 규정은 없음\n",
    "    - 주의할 점 : 딕셔너리에는 순서가 없어 생성한 순서대로 딕셔너리가 구성되어 있다는 보장 없음"
   ]
  },
  {
   "cell_type": "code",
   "execution_count": 2,
   "id": "f010d75b",
   "metadata": {},
   "outputs": [
    {
     "name": "stdout",
     "output_type": "stream",
     "text": [
      "dict1 = {'a': 'apple', 'b': 'banana', 'c': 'cat'}, type=<class 'dict'>\n",
      "dict2 = {}, type = <class 'dict'>, length = 0\n",
      "dict2 = {100: '일백', 200: '이백'}, type = <class 'dict'>, length = 2\n",
      "dict2 = {100: '일백', 200: '200 이백'}, type = <class 'dict'>, length = 2\n"
     ]
    }
   ],
   "source": [
    "dict1 = {'a':'apple', 'b':'banana', 'c':'cat'}\n",
    "print(f'dict1 = {dict1}, type={type(dict1)}')\n",
    "\n",
    "dict2 = {}\n",
    "print(f'dict2 = {dict2}, type = {type(dict2)}, length = {len(dict2)}')\n",
    "dict2[100] = '일백'\n",
    "dict2[200] = '이백'\n",
    "print(f'dict2 = {dict2}, type = {type(dict2)}, length = {len(dict2)}')\n",
    "dict2[200] = '200 이백'\n",
    "print(f'dict2 = {dict2}, type = {type(dict2)}, length = {len(dict2)}')\n",
    "\n",
    "\n",
    "# 딕셔너리 요소 조회 : 키인덱싱\n",
    "# 딕셔너리변수[키값] => 해당요소의 값 표시\n",
    "print(dict2[100])\n",
    "\n",
    "# 숫자인덱싱은 가능할까? X\n",
    "# KeyError: 0\n",
    "# print(dict2[0])\n",
    "# TypeError: unhashable type: 'slice' 슬라이싱 불가능 \n",
    "# print(dict2[0:2])"
   ]
  },
  {
   "cell_type": "markdown",
   "id": "3e8cfbf0",
   "metadata": {},
   "source": [
    "- 딕셔너리 요소 조회 : **키인덱싱**\n",
    "    - `딕셔너리변수[키값]` => 해당요소의 값 표시\n",
    "    \n",
    "- 딕셔너리 **인덱싱** & **슬라이싱**\n",
    "    - `KeyError: `\n",
    "    - `TypeError: unhashable type: 'slice' 슬라이싱 불가능 `\n"
   ]
  },
  {
   "cell_type": "code",
   "execution_count": 4,
   "id": "78ee7ef8",
   "metadata": {},
   "outputs": [
    {
     "name": "stdout",
     "output_type": "stream",
     "text": [
      "일백\n"
     ]
    }
   ],
   "source": [
    "# 키인덱싱\n",
    "\n",
    "print(dict2[100])"
   ]
  },
  {
   "cell_type": "markdown",
   "id": "a62c3caa",
   "metadata": {},
   "source": [
    "- 딕셔너리 중복키는 가능할까요?\n",
    "    - 값은 같아도 되지만 키값이 중복되면 마지막 키값만 유효하다"
   ]
  },
  {
   "cell_type": "code",
   "execution_count": 5,
   "id": "74e759ad",
   "metadata": {},
   "outputs": [
    {
     "name": "stdout",
     "output_type": "stream",
     "text": [
      "dict3 = {'a': 'apart', 'b': 'banana', 'c': 'cat'}, type = <class 'dict'>, length = 3\n"
     ]
    }
   ],
   "source": [
    "dict3 = {'a':'apple', 'b':'banana', 'c':'cat', 'a':'apart'}\n",
    "print(f'dict3 = {dict3}, type = {type(dict3)}, length = {len(dict3)}')"
   ]
  },
  {
   "cell_type": "markdown",
   "id": "380160c1",
   "metadata": {},
   "source": [
    "- 딕셔너리 요소 삭제\n",
    "    - `딕셔너리변수.clear()`\n",
    "    - `딕셔너리변수.pop(키값)`\n",
    "        - 키가 없는 경우에는 디폴트값으로 대체 : `pop(키 [,디폴트값])`\n",
    "    - `del 딕셔너리변수`\n",
    "    - `del 딕셔너리변수[키값]`\n",
    "\n",
    "- 딕셔너리 함수\n",
    "    - `딕셔너리변수.values()` : 값 만 표시\n",
    "    - `딕셔너리변수.keys()` : 키값만 표시\n",
    "    - `딕셔너리변수.items()` : 튜플스타일로 표시 (키, 값)"
   ]
  },
  {
   "cell_type": "markdown",
   "id": "27ee8b4f",
   "metadata": {},
   "source": [
    "- Key로 Value얻기(get)\n",
    "    - `딕셔너리변수.get(Key값)` => Value값"
   ]
  },
  {
   "cell_type": "code",
   "execution_count": 6,
   "id": "e788f1f4",
   "metadata": {},
   "outputs": [
    {
     "name": "stdout",
     "output_type": "stream",
     "text": [
      "sports = {'축구': '박지성', '야구': '강정호', '체조': '손연제'}, length = 3\n",
      "sports = {'축구': '박지성', '야구': '강정호', '체조': '손연제', '피겨': '김연아'}, length = 4\n",
      "sports = {'축구': '박지성', '체조': '손연제', '피겨': '김연아'}, length = 3\n",
      "sports = {'체조': '손연제', '피겨': '김연아'}, length = 2\n"
     ]
    }
   ],
   "source": [
    "sports = {\"축구\":\"박지성\", \"야구\":\"강정호\", \"체조\":\"손연제\"}\n",
    "\n",
    "print(f'sports = {sports}, length = {len(sports)}')\n",
    "sports['피겨'] = '김연아'\n",
    "print(f'sports = {sports}, length = {len(sports)}')\n",
    "sports.pop('야구')\n",
    "print(f'sports = {sports}, length = {len(sports)}')\n",
    "del sports['축구']\n",
    "print(f'sports = {sports}, length = {len(sports)}')"
   ]
  },
  {
   "cell_type": "code",
   "execution_count": 9,
   "id": "be257ace",
   "metadata": {},
   "outputs": [
    {
     "name": "stdout",
     "output_type": "stream",
     "text": [
      "sports2 = {'축구': '박지성', '야구': '강정호', '체조': '손연제', '피겨': '김연아', '씨름': '강호동'}, length = 5\n",
      "dict_values(['박지성', '강정호', '손연제', '김연아', '강호동']) ['박지성', '강정호', '손연제', '김연아', '강호동']\n",
      "dict_keys(['축구', '야구', '체조', '피겨', '씨름']) ['축구', '야구', '체조', '피겨', '씨름']\n",
      "dict_items([('축구', '박지성'), ('야구', '강정호'), ('체조', '손연제'), ('피겨', '김연아'), ('씨름', '강호동')]) [('축구', '박지성'), ('야구', '강정호'), ('체조', '손연제'), ('피겨', '김연아'), ('씨름', '강호동')]\n"
     ]
    }
   ],
   "source": [
    "sports2 = {\"축구\":\"박지성\", \"야구\":\"강정호\", \"체조\":\"손연제\", '피겨':'김연아', '씨름':'강호동'}\n",
    "\n",
    "print(f'sports2 = {sports2}, length = {len(sports2)}')\n",
    "print(sports2.values(), list(sports2.values()))\n",
    "print(sports2.keys(), list(sports2.keys()))\n",
    "print(sports2.items(), list(sports2.items()))"
   ]
  },
  {
   "cell_type": "code",
   "execution_count": 15,
   "id": "df42cc7e",
   "metadata": {},
   "outputs": [
    {
     "name": "stdout",
     "output_type": "stream",
     "text": [
      "pey\n",
      "0119993323\n"
     ]
    }
   ],
   "source": [
    "# get\n",
    "a = {'name':'pey', 'phone':'0119993323', 'birth': '1118'}\n",
    "print(a.get('name'))\n",
    "print(a.get('phone'))"
   ]
  },
  {
   "cell_type": "markdown",
   "id": "81ff9977",
   "metadata": {},
   "source": [
    "- 해당 Key가 딕셔너리 안에 있는지 조사하기(in) \n",
    "    - `Key in dictName`"
   ]
  },
  {
   "cell_type": "code",
   "execution_count": 24,
   "id": "70f7f00e",
   "metadata": {},
   "outputs": [
    {
     "name": "stdout",
     "output_type": "stream",
     "text": [
      "True\n",
      "False\n"
     ]
    }
   ],
   "source": [
    "a = {'name':'pey', 'phone':'0119993323', 'birth': '1118'}\n",
    "\n",
    "print('name' in a)\n",
    "print('email' in a)"
   ]
  },
  {
   "cell_type": "markdown",
   "id": "49d5b448",
   "metadata": {},
   "source": [
    "- 데이터형 변환\n",
    "    - 리스트 => 딕셔너리(인덱싱숫자가 키값이 된다)\n",
    "        - 리스트 => enumerate(리스트,문자열,튜플) => `dict(enumerate(리스트,문자열,튜플))`\n",
    "    - `dict(리스트변수)` => *cannot convert dictionary update sequence element #0 to a sequence*\n",
    "    - `enumerate(리스트,문자열,튜플)` : 리스트,문자열,튜플 같은 자료형을 enumerate 객체로 반환\n",
    "    - enumerate 객체의 요소는 딕셔너리 스타일. 키값은 숫자로 표시\n",
    "    \n",
    "    - 딕셔너리 => 문자열\n",
    "        - `str(딕셔너리변수)` => {...}\n",
    "        - `구분자.join(딕셔너리변수)` => 키값으로 생성된 문자열"
   ]
  },
  {
   "cell_type": "code",
   "execution_count": 10,
   "id": "60214eaf",
   "metadata": {},
   "outputs": [
    {
     "name": "stdout",
     "output_type": "stream",
     "text": [
      "[100, 200, 300, 400] <class 'list'>\n",
      "<enumerate object at 0x118ae3700> <class 'enumerate'>\n",
      "{0: 100, 1: 200, 2: 300, 3: 400} <class 'dict'>\n"
     ]
    }
   ],
   "source": [
    "list_x = [100, 200, 300, 400]\n",
    "temp = enumerate(list_x) # 리스트 => enumerate object\n",
    "dict_x = dict(temp) # enumerate object => 딕셔너리 \n",
    "print(list_x, type(list_x))\n",
    "print(temp, type(temp))\n",
    "print(dict_x , type(dict_x))"
   ]
  },
  {
   "cell_type": "code",
   "execution_count": 11,
   "id": "adb5c405",
   "metadata": {},
   "outputs": [
    {
     "name": "stdout",
     "output_type": "stream",
     "text": [
      "('축구', '야구', '체조', '피겨', '씨름') <class 'tuple'>\n",
      "{0: '축구', 1: '야구', 2: '체조', 3: '피겨', 4: '씨름'} <class 'dict'>\n"
     ]
    }
   ],
   "source": [
    "# 튜플 => 딕셔너리\n",
    "tuple_x = ('축구', '야구', '체조', '피겨', '씨름')\n",
    "dict_xx = dict(enumerate(tuple_x))\n",
    "print(tuple_x, type(tuple_x))\n",
    "print(dict_xx , type(dict_xx))"
   ]
  },
  {
   "cell_type": "code",
   "execution_count": 14,
   "id": "2b80bf83",
   "metadata": {},
   "outputs": [
    {
     "name": "stdout",
     "output_type": "stream",
     "text": [
      "abcdefg <class 'str'>\n",
      "{0: 'a', 1: 'b', 2: 'c', 3: 'd', 4: 'e', 5: 'f', 6: 'g'} <class 'dict'>\n"
     ]
    }
   ],
   "source": [
    "# 문자열 => 딕셔너리\n",
    "txt_x = 'abcdefg'\n",
    "dict_xxx = dict(enumerate(txt_x))\n",
    "print(txt_x, type(txt_x))\n",
    "print(dict_xxx , type(dict_xxx))"
   ]
  },
  {
   "cell_type": "markdown",
   "id": "41133333",
   "metadata": {},
   "source": [
    "### 퀴즈\n",
    "- 딕셔너리 => 키만문자열\n",
    "- 딕셔너리 => 값만문자열\n",
    "```python\n",
    "dict_y = {'a': 'apart', 's': 'say', 'd': 'drama', 'c': 'camera', 'y': 'yes'}\n",
    "```"
   ]
  },
  {
   "cell_type": "code",
   "execution_count": 23,
   "id": "5578979b",
   "metadata": {},
   "outputs": [
    {
     "name": "stdout",
     "output_type": "stream",
     "text": [
      "{'a': 'apart', 's': 'say', 'd': 'drama', 'c': 'camera', 'y': 'yes'} <class 'dict'>\n",
      "['a', 's', 'd', 'c', 'y'] <class 'list'>\n",
      "a,s,d,c,y <class 'str'>\n",
      "apart,say,drama,camera,yes <class 'str'>\n"
     ]
    }
   ],
   "source": [
    "dict_y = {'a': 'apart', 's': 'say', 'd': 'drama', 'c': 'camera', 'y': 'yes'}\n",
    "txt_y1 = ','.join(dict_y)\n",
    "txt_y2 = ','.join(list(dict_y.values()))\n",
    "\n",
    "print(dict_y , type(dict_y))\n",
    "print(list(dict_y) , type(list(dict_y)))\n",
    "print(txt_y1 , type(txt_y1))"
   ]
  }
 ],
 "metadata": {
  "kernelspec": {
   "display_name": "Python 3 (ipykernel)",
   "language": "python",
   "name": "python3"
  },
  "language_info": {
   "codemirror_mode": {
    "name": "ipython",
    "version": 3
   },
   "file_extension": ".py",
   "mimetype": "text/x-python",
   "name": "python",
   "nbconvert_exporter": "python",
   "pygments_lexer": "ipython3",
   "version": "3.10.1"
  }
 },
 "nbformat": 4,
 "nbformat_minor": 5
}
