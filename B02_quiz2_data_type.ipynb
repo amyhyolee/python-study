{
 "cells": [
  {
   "cell_type": "markdown",
   "id": "2fd497c6",
   "metadata": {},
   "source": [
    "# 데이터 타입 퀴즈\n",
    "## 2022.01.20"
   ]
  },
  {
   "cell_type": "markdown",
   "id": "a62f4e01",
   "metadata": {},
   "source": [
    "**퀴즈 1:**\n",
    "\n",
    "> a, b, c, d, e를 저장하는 튜플을 정의하고\n",
    ">\n",
    "> 첫 번째 튜플값과 마지막 튜플값을 출력하여라."
   ]
  },
  {
   "cell_type": "code",
   "execution_count": 57,
   "id": "6c4154c7",
   "metadata": {},
   "outputs": [
    {
     "name": "stdout",
     "output_type": "stream",
     "text": [
      "a\n",
      "e\n"
     ]
    }
   ],
   "source": [
    "quiz1 = ('a', 'b', 'c', 'd', 'e')\n",
    "\n",
    "print(quiz1[0])\n",
    "print(quiz1[-1])"
   ]
  },
  {
   "cell_type": "markdown",
   "id": "dcc0d70e",
   "metadata": {},
   "source": [
    "**퀴즈 2:**\n",
    "\n",
    "> 다음 리스트에서 \"Apple\" 항목만 삭제하여라. : `[\"Banana\", \"Apple\", \"Orange\"]`"
   ]
  },
  {
   "cell_type": "code",
   "execution_count": 58,
   "id": "d2e00f74",
   "metadata": {},
   "outputs": [
    {
     "name": "stdout",
     "output_type": "stream",
     "text": [
      "['Banana', 'Orange']\n"
     ]
    }
   ],
   "source": [
    "quiz2 = [\"Banana\", \"Apple\", \"Orange\"]\n",
    "quiz2.remove(\"Apple\")\n",
    "print(quiz2)"
   ]
  },
  {
   "cell_type": "markdown",
   "id": "bf9c00de",
   "metadata": {},
   "source": [
    "**퀴즈 3:**\n",
    "\n",
    "> 다음 튜플 데이터를 리스트 데이터로 변환한 후에 'fun-coding0' 데이터를 첫번째에 추가하고, 다시 튜플 데이터로 변환하여라.\n",
    ">\n",
    "> `tupledata = ('fun-coding1', 'fun-coding2', 'fun-coding3')`\n"
   ]
  },
  {
   "cell_type": "code",
   "execution_count": 59,
   "id": "b2d3ca6d",
   "metadata": {},
   "outputs": [
    {
     "name": "stdout",
     "output_type": "stream",
     "text": [
      "('fun-coding0', 'fun-coding1', 'fun-coding2', 'fun-coding3')\n"
     ]
    }
   ],
   "source": [
    "tupledata = ('fun-coding1', 'fun-coding2', 'fun-coding3')\n",
    "temp = list(tupledata)\n",
    "temp.insert(0, 'fun-coding0')\n",
    "tupledata = tuple(temp)\n",
    "print(tupledata)"
   ]
  },
  {
   "cell_type": "markdown",
   "id": "68f3df73",
   "metadata": {},
   "source": [
    "**퀴즈 4:**\n",
    "\n",
    "> 다음 항목을 딕셔너리(dict)으로 선언하여라.\n",
    ">\n",
    "> `<성인 - 100000 , 청소년 - 70000 , 아동 - 30000>`\n"
   ]
  },
  {
   "cell_type": "code",
   "execution_count": 60,
   "id": "b6d74cbc",
   "metadata": {},
   "outputs": [
    {
     "name": "stdout",
     "output_type": "stream",
     "text": [
      "{'성인': 100000, '청소년': 70000, '아동': 30000} <class 'dict'>\n"
     ]
    }
   ],
   "source": [
    "quiz4 = {'성인': 100000 , '청소년': 70000, '아동': 30000}\n",
    "print(quiz4, type(quiz4))"
   ]
  },
  {
   "cell_type": "markdown",
   "id": "0ff06c73",
   "metadata": {},
   "source": [
    "**퀴즈 5:**\n",
    "\n",
    "> 4번 에서 선언한 dict 항목에 <소아 - 0> 항목을 추가하여라\n"
   ]
  },
  {
   "cell_type": "code",
   "execution_count": 61,
   "id": "098e219c",
   "metadata": {},
   "outputs": [
    {
     "name": "stdout",
     "output_type": "stream",
     "text": [
      "{'성인': 100000, '청소년': 70000, '아동': 30000, '소아': 0} <class 'dict'>\n"
     ]
    }
   ],
   "source": [
    "quiz4['소아'] = 0\n",
    "print(quiz4, type(quiz4))"
   ]
  },
  {
   "cell_type": "markdown",
   "id": "647897d6",
   "metadata": {},
   "source": [
    "**퀴즈 6:**\n",
    "\n",
    "> 5번의 딕셔너리(dict)에서 Key 항목만 리스트로 저장하여 정렬한 후 튜플로 변경하여라.\n",
    ">\n",
    "> 결과 => `('성인', '소아', '아동', '청소년')`\n"
   ]
  },
  {
   "cell_type": "code",
   "execution_count": 62,
   "id": "3b764787",
   "metadata": {},
   "outputs": [
    {
     "name": "stdout",
     "output_type": "stream",
     "text": [
      "['성인', '청소년', '아동', '소아']\n",
      "['성인', '소아', '아동', '청소년']\n",
      "결과 =>  ('성인', '소아', '아동', '청소년')\n"
     ]
    }
   ],
   "source": [
    "temp = list(quiz4.keys())\n",
    "print(temp)\n",
    "temp.sort()\n",
    "print(temp)\n",
    "print('결과 => ' , tuple(temp))"
   ]
  },
  {
   "cell_type": "markdown",
   "id": "b55135f7",
   "metadata": {},
   "source": [
    "**퀴즈 7:**\n",
    "\n",
    "> number_list에서 중복 숫자를 제거한 후 리스트를 만들어서 출력하여라.\n",
    ">\n",
    "> `number_list = [ 5, 1, 2, 2, 3,4, 5, 6, 7, 6, 7, 8, 9, 9, 10, 10 ]\n",
    "`"
   ]
  },
  {
   "cell_type": "code",
   "execution_count": 63,
   "id": "43962764",
   "metadata": {},
   "outputs": [
    {
     "name": "stdout",
     "output_type": "stream",
     "text": [
      "[1, 2, 3, 4, 5, 6, 7, 8, 9, 10] <class 'list'>\n"
     ]
    }
   ],
   "source": [
    "number_list = [ 5, 1, 2, 2, 3,4, 5, 6, 7, 6, 7, 8, 9, 9, 10, 10 ]\n",
    "quiz7 = set(number_list)\n",
    "quiz7 = list(quiz7)\n",
    "print(quiz7, type(quiz7))"
   ]
  },
  {
   "cell_type": "markdown",
   "id": "a5a8fb8b",
   "metadata": {},
   "source": [
    "\n",
    "**퀴즈 8:**\n",
    "\n",
    "> 두 집합의 중복 값으로 리스트를 생성하여라.\n",
    ">\n",
    "> ` set1 = { '쥬만치', '정글북', '타이타닉', '월E', 'ET' }`\n",
    "> `set2 = { '타이타닉', '아바타', '에일리언', '스타워즈', '쥬만치'}`"
   ]
  },
  {
   "cell_type": "code",
   "execution_count": 64,
   "id": "e006c15e",
   "metadata": {},
   "outputs": [
    {
     "name": "stdout",
     "output_type": "stream",
     "text": [
      "['타이타닉', '쥬만치']\n"
     ]
    }
   ],
   "source": [
    "set1 = { '쥬만치', '정글북', '타이타닉', '월E', 'ET' } \n",
    "set2 = { '타이타닉', '아바타', '에일리언', '스타워즈', '쥬만치'}\n",
    "quiz8 = list(set1 & set2)\n",
    "print(quiz8)"
   ]
  },
  {
   "cell_type": "markdown",
   "id": "be2d942b",
   "metadata": {},
   "source": [
    "\n",
    "**퀴즈 9:**\n",
    "\n",
    "> 8의 리스트를 다음과 같이 구분자 '/'를 이용한 문자열로 출력하여라.\n",
    "> \n",
    "> ` 아이템1 / 아이템2 / ....`\n"
   ]
  },
  {
   "cell_type": "code",
   "execution_count": 65,
   "id": "52bda309",
   "metadata": {},
   "outputs": [
    {
     "name": "stdout",
     "output_type": "stream",
     "text": [
      "타이타닉 / 쥬만치\n"
     ]
    }
   ],
   "source": [
    "quiz9 = ' / '.join(quiz8)\n",
    "print(quiz9)"
   ]
  },
  {
   "cell_type": "markdown",
   "id": "56985f60",
   "metadata": {},
   "source": [
    "\n",
    "**퀴즈 10:**\n",
    "\n",
    "> 빈 집합을 생성하고 값을 입력받아 집합의 원소를 삽입하여라. 집합 원소의 갯수는 5개로 한다.\n",
    "\n",
    "> mySet = set() <class 'set'>\n",
    "> \n",
    "> 첫번째 아이템 값 => 갈비탕\n",
    "> \n",
    "> 두번째 아이템 값 => 소머리국밥\n",
    "> \n",
    "> 세번째 아이템 값 => 삼계탕\n",
    "> \n",
    "> 네번째 아이템 값 => 순두부\n",
    "> \n",
    "> 다섯번째 아이템 값 => 김치찌게\n",
    "> \n",
    "> mySet = {'김치찌게', '소머리국밥', '갈비탕 ', '순두부', '삼계탕'} <class 'set'>\n"
   ]
  },
  {
   "cell_type": "code",
   "execution_count": 66,
   "id": "f6c57323",
   "metadata": {},
   "outputs": [
    {
     "name": "stdout",
     "output_type": "stream",
     "text": [
      "첫번째 아이템 값 => 갈비탕\n",
      "두번째 아이템 값 => 소머리국밥\n",
      "세번째 아이템 값 => 삼계탕\n",
      "네번째 아이템 값 => 순두부\n",
      "다섯번째 아이템 값 => 김치찌게\n",
      " mySet =  {'삼계탕', '소머리국밥', '순두부', '갈비탕', '김치찌게'} <class 'set'>\n"
     ]
    }
   ],
   "source": [
    "quiz10 = set()\n",
    "# print( ' quiz10 ', quiz10, type(quiz10))\n",
    "quiz10.add(input('첫번째 아이템 값 => '))\n",
    "quiz10.add(input('두번째 아이템 값 => '))\n",
    "quiz10.add(input('세번째 아이템 값 => '))\n",
    "quiz10.add(input('네번째 아이템 값 => '))\n",
    "quiz10.add(input('다섯번째 아이템 값 => '))\n",
    "print( ' mySet = ', quiz10, type(quiz10))"
   ]
  },
  {
   "cell_type": "markdown",
   "id": "7b943452",
   "metadata": {},
   "source": [
    "**퀴즈 11:**\n",
    "\n",
    "> 빈 10의 집합을 다음과 같은 딕셔너리 구조로 변환하여라.\n",
    ">\n",
    "> `mydict =  {0: '소머리국밥', 1: '갈비탕', 2: '순두부', 3: '김치찌게', 4: '삼계탕'} <class 'dict'>`"
   ]
  },
  {
   "cell_type": "code",
   "execution_count": 72,
   "id": "cedfcf78",
   "metadata": {},
   "outputs": [
    {
     "name": "stdout",
     "output_type": "stream",
     "text": [
      "{0: '삼계탕', 1: '소머리국밥', 2: '순두부', 3: '갈비탕', 4: '김치찌게'} <class 'dict'>\n"
     ]
    }
   ],
   "source": [
    "print(dict(enumerate(quiz10)), type(dict(enumerate(quiz10))))"
   ]
  },
  {
   "cell_type": "code",
   "execution_count": null,
   "id": "05c2b42d",
   "metadata": {},
   "outputs": [],
   "source": []
  }
 ],
 "metadata": {
  "kernelspec": {
   "display_name": "Python 3 (ipykernel)",
   "language": "python",
   "name": "python3"
  },
  "language_info": {
   "codemirror_mode": {
    "name": "ipython",
    "version": 3
   },
   "file_extension": ".py",
   "mimetype": "text/x-python",
   "name": "python",
   "nbconvert_exporter": "python",
   "pygments_lexer": "ipython3",
   "version": "3.10.1"
  }
 },
 "nbformat": 4,
 "nbformat_minor": 5
}
