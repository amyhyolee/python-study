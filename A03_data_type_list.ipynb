{
 "cells": [
  {
   "cell_type": "markdown",
   "id": "f24d1152",
   "metadata": {},
   "source": [
    "# 자료형 : List (데이터 타입)\n",
    "## 2022.01.19"
   ]
  },
  {
   "cell_type": "markdown",
   "id": "a4d9dd0e",
   "metadata": {},
   "source": [
    "### 자료형의 종류\n",
    "- 기본 자료형 - 문자열, 정수, 실수, 불린형\n",
    "- 집합형 자료형=콜렉션 : 여러개의 구성요소로 조직화\n",
    "    - : 리스트 [ ], 튜플 ( ), 딕셔너리 { }, 집합{ }\n",
    "- CRUD : Create Read Update Delete"
   ]
  },
  {
   "cell_type": "markdown",
   "id": "910d47a2",
   "metadata": {},
   "source": [
    "### A. List (리스트)\n",
    "\n",
    "- 특징\n",
    "    - 다수개의 데이터 값을 함께 저장하고 호출할 수 있는 컨테이너.\n",
    "    - 자바, 자바스크립트의 배열과는 다르게 서로 다른 데이터 형을 함께 사용할 수 있다\n",
    "- 기본 구조 :\n",
    "    - ```리스트명 = [요소1, 요소2, 요소3, ...]```\n",
    "    - 리스트명[index]를 이용하여 개별 요소에 접근\n",
    "    - 빈 리스트: ```list = []```"
   ]
  },
  {
   "cell_type": "code",
   "execution_count": null,
   "id": "f010d75b",
   "metadata": {},
   "outputs": [],
   "source": [
    "a = []\n",
    "b = [1, 2, 3]\n",
    "c = [1, 2, a, b]\n",
    "d = [1, 2, [a, b]]"
   ]
  },
  {
   "cell_type": "markdown",
   "id": "1f06cf31",
   "metadata": {},
   "source": [
    "- **리스트 생성하기**\n",
    "    - 1. 리스트안에 직접 값을 삽입하는 방식\n",
    "    - 2. 빈리스트를 생성하고  정의된 리스트에 새로운 값을 추가\n",
    "        - ```리스트변수.append(값)``` : 마지막에 아이템이 추가\n",
    "        - ```리스트변수.insert(삽입위치, 값)``` : 삽입 위치에 아이템이 추가"
   ]
  },
  {
   "cell_type": "code",
   "execution_count": 3,
   "id": "fb58f0bf",
   "metadata": {},
   "outputs": [
    {
     "name": "stdout",
     "output_type": "stream",
     "text": [
      "myList1 =  [1, 2, 3, 4, 5] <class 'list'> 5\n",
      "myList2 =  ['사과', '포도', '오렌지'] <class 'list'> 3\n",
      "myList3 =  [100, '사과', 300, '포도', '오렌지', True] <class 'list'> 6\n",
      "myList4 =  [] 길이는? 0\n",
      "myList4 =  ['JAVA', 'Python'] 길이는? 2\n",
      "myList4 =  ['Oracle', 'JAVA', 'Python'] 길이는? 3\n"
     ]
    }
   ],
   "source": [
    "# 리스트 생성1\n",
    "myList1 = [1, 2, 3, 4, 5]\n",
    "myList2 = ['사과', '포도', '오렌지']\n",
    "myList3 = [100, '사과', 300,  '포도', '오렌지', True]\n",
    "\n",
    "print('myList1 = ', myList1, type(myList1), len(myList1))\n",
    "print('myList2 = ', myList2, type(myList2), len(myList2))\n",
    "print('myList3 = ', myList3, type(myList3), len(myList3))\n",
    "\n",
    "# 리스트 생성2\n",
    "myList4 = []\n",
    "print('myList4 = ', myList4, '길이는?', len(myList4))\n",
    "myList4.append('JAVA')\n",
    "myList4.append('Python')\n",
    "print('myList4 = ', myList4, '길이는?', len(myList4))\n",
    "myList4.insert(0, 'Oracle') # 첫번째 위치에 값 추가\n",
    "print('myList4 = ', myList4, '길이는?', len(myList4))"
   ]
  },
  {
   "cell_type": "markdown",
   "id": "c87e93d6",
   "metadata": {},
   "source": [
    "- **리스트 인덱싱**\n",
    "    - ```리스트이름[숫자]``` : 0부터 시작, 숫자값이 -1 마지막 요소 표시"
   ]
  },
  {
   "cell_type": "markdown",
   "id": "fd4518d5",
   "metadata": {},
   "source": [
    "- **리스트 슬라이싱**\n",
    "    - ```리스트이름[start:end:step]```\n",
    "    - ```리스트이름[start:end]```\n",
    "    - ```리스트이름[start:]```\n",
    "    - ```리스트이름[:end]```\n",
    "    - ```리스트이름[::step]``` = n번째 배수 추출\n",
    "    - ```리스트이름[:]``` = ```리스트이름[::]``` = 전체리스트\n",
    "    - ```리스트이름[-1]``` = 인덱스값이 음수(-)인 경우에는 뒤에서부터 출력"
   ]
  },
  {
   "cell_type": "code",
   "execution_count": 12,
   "id": "9c9b44bf",
   "metadata": {},
   "outputs": [
    {
     "name": "stdout",
     "output_type": "stream",
     "text": [
      "a\n",
      "g\n",
      "['a', 'b', 'c']\n",
      "['f', 'g']\n",
      "['b', 'd', 'f']\n",
      "['g', 'f', 'e', 'd', 'c', 'b', 'a']\n"
     ]
    }
   ],
   "source": [
    "myList5 = ['a', 'b', 'c', 'd', 'e', 'f', 'g']\n",
    "print(myList5[0]) # a\n",
    "print(myList5[-1]) # g\n",
    "print(myList5[:3]) # ['a', 'b', 'c']\n",
    "print(myList5[5:]) # ['f', 'g']\n",
    "print(myList5[1::2]) # ['b', 'd', 'f']\n",
    "print(myList5[::-1]) # ['g', 'f', 'e', 'd', 'c', 'b', 'a']"
   ]
  },
  {
   "cell_type": "markdown",
   "id": "da438567",
   "metadata": {},
   "source": [
    "- 리스트 **값 변경**하기\n",
    "    - ```리스트변수[인덱스] = 값```\n",
    "    - ```리스트변수[인덱스:인덱스] = 리스트 or 값``` : 리스트에서 연속된 범위의 값 수정하기\n",
    "    \n",
    "    \n",
    "- 리스트 **삭제**와 관련된 함수와 명령어\n",
    "    - ```리스트변수.remove(값)``` : 값으로 삭제하기\n",
    "    - ```리스트변수.pop()``` : 마지막 요소가 삭제되면서 값이 반환된다.\n",
    "    - ```리스트변수.pop(위치값)``` : : 위치에 해당하는 요소가 삭제되면서 값이 반환된다.\n",
    "    - ```리스트변수.clear()``` : 리스트안의 값이 모두 삭제. 빈리스트로 된다.\n",
    "    - ```del 리스트변수``` : 리스트 자체가 삭제된다."
   ]
  },
  {
   "cell_type": "code",
   "execution_count": 13,
   "id": "99d557d4",
   "metadata": {},
   "outputs": [
    {
     "name": "stdout",
     "output_type": "stream",
     "text": [
      "myList5 =  ['a', 'b', 'c', 'd', 'e', 'f', 'g'] 길이는? 7\n",
      "myList5[0] =  ['apple', 'b', 'c', 'd', 'e', 'f', 'g'] 길이는? 7\n",
      "myList5[1:2] =  ['apple', 'a', 'b', 'c', 'c', 'd', 'e', 'f', 'g'] 길이는? 9\n",
      "myList5_append =  ['apple', 'a', 'b', 'c', 'c', 'd', 'e', 'f', 'g', 'Yes'] 길이는? 10\n",
      "myList5_pop =  ['apple', 'a', 'b', 'c', 'c', 'd', 'e', 'f', 'g'] 길이는? 9\n",
      "myList5_pop(0) =  ['a', 'b', 'c', 'c', 'd', 'e', 'f', 'g'] 길이는? 8\n",
      "myList5_remove =  ['a', 'b', 'c', 'd', 'e', 'f', 'g'] 길이는? 7\n",
      "myList5_clear =  [] 길이는? 0\n"
     ]
    }
   ],
   "source": [
    "print('myList5 = ', myList5, '길이는?', len(myList5))\n",
    "myList5[0] = 'apple'\n",
    "print('myList5[0] = ', myList5, '길이는?', len(myList5))\n",
    "myList5[1:2] = ['a', 'b']\n",
    "print('myList5[1:2] = ', myList5, '길이는?', len(myList5))\n",
    "myList5.append('Yes')\n",
    "print('myList5_append = ', myList5, '길이는?', len(myList5))\n",
    "myList5.pop()\n",
    "print('myList5_pop = ', myList5, '길이는?', len(myList5))\n",
    "myList5.pop(0)\n",
    "print('myList5_pop(0) = ', myList5, '길이는?', len(myList5))\n",
    "# 값으로 삭제하기\n",
    "myList5.remove('c')\n",
    "print('myList5_remove = ', myList5, '길이는?', len(myList5))\n",
    "# 빈리스트로 초기화\n",
    "myList5.clear()\n",
    "print('myList5_clear = ', myList5, '길이는?', len(myList5))"
   ]
  },
  {
   "cell_type": "markdown",
   "id": "f1ae81d2",
   "metadata": {},
   "source": [
    "- **리스트 연산**\n",
    "    - 더하기\n",
    "        - ```리스트1 + 리스트2``` : 같이 표시\n",
    "    - 반복하기\n",
    "        - ```리스트이름*숫자``` : 반복"
   ]
  },
  {
   "cell_type": "code",
   "execution_count": 10,
   "id": "118559a8",
   "metadata": {},
   "outputs": [
    {
     "name": "stdout",
     "output_type": "stream",
     "text": [
      " list_a = [10, 20, 30] \n",
      " list_b = [100, 200, 300] \n",
      " list_a + list_b = [10, 20, 30, 100, 200, 300] \n",
      " list_a를 3번 반복 = [10, 20, 30, 10, 20, 30, 10, 20, 30] \n",
      " list_c = [10, 20, 30, 10, 20, 30, 10, 20, 30] \n"
     ]
    }
   ],
   "source": [
    "list_a = [10, 20, 30]\n",
    "list_b = [100, 200, 300]\n",
    "print(f' list_a = {list_a} ')\n",
    "print(f' list_b = {list_b} ')\n",
    "print(f' list_a + list_b = {list_a + list_b} ')\n",
    "print(f' list_a를 3번 반복 = {list_a*3} ')\n",
    "list_c = list_a*3\n",
    "print(f' list_c = {list_c} ')"
   ]
  },
  {
   "cell_type": "markdown",
   "id": "7200a228",
   "metadata": {},
   "source": [
    "- 캐스팅 (문자열 => 리스트)    \n",
    "    - ```문자열변수.split()``` : 공백을 기준으로 해서 리스트화\n",
    "    - ```문자열변수.split(구분문자)``` : 구분문자를 기준으로 해서 리스트화\n",
    "    - ```list(문자열변수)``` : 공백도 모두 리스트화. 낱글자가 아이템요소로 변경\n",
    "    \n",
    "- 캐스팅 (리스트 => 문자열)    \n",
    "    - ```str(리스트이름)``` : [ ], 쉼표(,) 도 포함해서 모두 문자열화\n",
    "    - ```'구분자'.join(리스트이름)``` : 구분자가 아이템요소 사이에 모두 추가된 후 문자열화, 문자열로 구성된 리스트만 가능\n"
   ]
  },
  {
   "cell_type": "code",
   "execution_count": 1,
   "id": "ff44dcb6",
   "metadata": {},
   "outputs": [
    {
     "name": "stdout",
     "output_type": "stream",
     "text": [
      "result1 =  ['도레미파', '솔라시'] 길이는? 2\n",
      "result2 =  ['도', '레', '미', '파', ' ', '솔', '라', '시'] 길이는? 8\n"
     ]
    }
   ],
   "source": [
    "# 문자열 => 리스트\n",
    "txt = '도레미파 솔라시'\n",
    "result1 = txt.split()\n",
    "result2 = list(txt)\n",
    "print('result1 = ', result1, '길이는?', len(result1))\n",
    "print('result2 = ', result2, '길이는?', len(result2))"
   ]
  },
  {
   "cell_type": "code",
   "execution_count": 16,
   "id": "e0b774f9",
   "metadata": {},
   "outputs": [
    {
     "name": "stdout",
     "output_type": "stream",
     "text": [
      "myList6 =  [100, '사과', 300, '포도', '오렌지', True] 길이는? 6 <class 'list'>\n",
      "result3 =  [100, '사과', 300, '포도', '오렌지', True] 길이는? 35 <class 'str'>\n",
      "result3[:10] =  [100, '사과'\n",
      "result4 =  사과*포도*오렌지 길이는? 9 <class 'str'>\n"
     ]
    }
   ],
   "source": [
    "# 리스트 => 문자열\n",
    "myList6 = [100, '사과', 300,  '포도', '오렌지', True ]\n",
    "print('myList6 = ', myList6, '길이는?', len(myList6), type(myList6))\n",
    "result3 = str(myList6) # 리스트 => 문자열\n",
    "print('result3 = ', result3, '길이는?', len(result3), type(result3))\n",
    "print('result3[:10] = ', result3[:10])\n",
    "\n",
    "# 문자열로만 구성된 리스트 생성\n",
    "myList7 = ['사과', '포도', '오렌지' ]\n",
    "result4 = '*'.join(myList7)\n",
    "print('result4 = ', result4, '길이는?', len(result4), type(result4))"
   ]
  },
  {
   "cell_type": "markdown",
   "id": "425b8c01",
   "metadata": {},
   "source": [
    "- **리스트 함수**\n",
    "    - ```리스트변수.index(값)``` : 지정한 값을 찾아 해당 위치 반환\n",
    "    - ```리스트변수.append(값)``` : 맨뒤에 항목 추가, 리스트가 오면 하나의 항목이라고 생각\n",
    "    - ```리스트변수.extend([값1,값2...])``` : 리스트 뒤에 리스트를 추가, + 연산과 기능 동일\n",
    "    - ```리스트변수.sort()``` : 리스트의 항목을 정렬\n",
    "        - 기본값은 오름차순 정렬, ```reverse = True```는 내림차순 정렬\n",
    "    - ```새로운리스트 = sorted(리스트변수)``` : 리스트의 항목을 정렬해서 새로운 리스트에 대입\n",
    "        - 정렬된 결과를 반환하는 함수는 본체는 변형하지 않습니다.\n",
    "    - ```리스트변수.reverse()``` : 리스트의 항목의 순서를 역순으로 만든다.\n",
    "    - ```새로운리스트 = reversed(리스트변수)``` : 거꾸로 뒤집기\n",
    "        -  iterable한 객체를 반환, 확인을 위해서는 list로 한번 더 변형 필요"
   ]
  },
  {
   "cell_type": "code",
   "execution_count": 3,
   "id": "f4c7e32e",
   "metadata": {},
   "outputs": [
    {
     "name": "stdout",
     "output_type": "stream",
     "text": [
      "myList5 =  ['a', 'b', 'c', 'd', 'e', 'f', 'g'] 길이는? 7\n",
      "d 값이 위치한 리스트의 인덱스는? 3\n",
      "myList5 =  ['a', 'b', 'c', 'd', 'e', 'f', 'g', 100, 200, 30, 400, 500] 길이는? 12\n",
      "['사과', '배', '망고', '바나나']\n",
      "['사과', '배', '망고', '바나나', ['오렌지', '딸기']]\n",
      "[3, 7, 2, 5, 1]\n",
      "[1, 11, 2, 3]\n",
      "<list_reverseiterator object at 0x10496a800>\n",
      "[3, 2, 11, 1]\n"
     ]
    }
   ],
   "source": [
    "# index, extend\n",
    "myList5 = 'a b c d e f g'.split()\n",
    "print('myList5 = ', myList5, '길이는?', len(myList5))\n",
    "print(f'd 값이 위치한 리스트의 인덱스는? {myList5.index(\"d\")}')\n",
    "myList5.extend([100, 200, 30, 400, 500])\n",
    "print('myList5 = ', myList5, '길이는?', len(myList5))\n",
    "\n",
    "# append\n",
    "fruit = ['사과', '배', '망고']\n",
    "fruit.append('바나나')\n",
    "print(fruit)\n",
    "fruit.append(['오렌지', '딸기'])\n",
    "print(fruit)\n",
    "\n",
    "# reverse\n",
    "myList8 = [1, 5, 2, 7, 3]\n",
    "myList8.reverse()\n",
    "print(myList8)\n",
    "\n",
    "# reversed\n",
    "x = [1 ,11, 2, 3]\n",
    "y = reversed(x)\n",
    "print(x)\n",
    "print(y)\n",
    "print(list(y))"
   ]
  },
  {
   "cell_type": "markdown",
   "id": "e77f3e7d",
   "metadata": {},
   "source": [
    "- **중첩 리스트 구조 (다차원 리스트)**\n",
    "    - 리스트 안에 리스트 정의\n",
    "    - 중첩리스트의 인덱싱은?\n",
    "        - ```리스트이름[index1][index2]```\n",
    "    - 중첩 리스트 생성\n",
    "        1. 초기값으로 중첩 리스트 생성\n",
    "            - 리스트변수 = ```[ [값1, 값2...],[값1, 값2...]]```\n",
    "        2. 1차원 리스트 정의 후 1차원 리스트를 다시 리스트로 구성\n",
    "            - ```python\n",
    "            userName = ['박길동', '윤길동', '고길동']\n",
    "            userAge = [11, 22, 33]\n",
    "            list = [ userName, userAge ]\n",
    "```\n"
   ]
  },
  {
   "cell_type": "code",
   "execution_count": 24,
   "id": "4a36302d",
   "metadata": {},
   "outputs": [
    {
     "name": "stdout",
     "output_type": "stream",
     "text": [
      "==================================================\n",
      "[[1, 2, 3], [100, 200, 300]]\n",
      "[1, 2, 3]\n",
      "1\n",
      "300\n",
      "==================================================\n",
      "['Hello Python', [1, 2, 3], ['JAVA', 'PYTHON', 'SPRING', 'JSP']]\n",
      "Hello Python\n",
      "2\n",
      "SPRING\n",
      "==================================================\n",
      "[['박길동', '윤길동', '고길동'], [33, 26, 27]]\n",
      "첫번째 학생은? 박길동  나이는? 33  \n"
     ]
    }
   ],
   "source": [
    "# 2*3 중첩리스트 생성\n",
    "list1 = [[1, 2, 3], [100, 200, 300]]\n",
    "print('='*50)\n",
    "print(list1)\n",
    "print(list1[0]) # [1, 2, 3]\n",
    "print(list1[0][0]) # 1\n",
    "print(list1[-1][-1]) # 300\n",
    "\n",
    "# 갯수가 다른 형태로 중첩리스트 생성\n",
    "list2 = ['Hello Python', [1, 2, 3], ['JAVA', 'PYTHON', 'SPRING', 'JSP']]\n",
    "print('='*50)\n",
    "print(list2)\n",
    "print(list2[0])\n",
    "print(list2[1][1])\n",
    "print(list2[2][2])\n",
    "\n",
    "# 중첩 리스트 생성2\n",
    "# 1차원 리스트 정의 후 1차원 리스트를 다시 리스트로 구성\n",
    "userName = ['박길동', '윤길동', '고길동']\n",
    "userAge = [33, 26, 27]\n",
    "list3 = [ userName, userAge ]\n",
    "print('='*50)\n",
    "print(list3)\n",
    "print(f'첫번째 학생은? {list3[0][0]}  나이는? {list3[1][0]}  ')"
   ]
  },
  {
   "cell_type": "code",
   "execution_count": null,
   "id": "27935d92",
   "metadata": {},
   "outputs": [],
   "source": []
  }
 ],
 "metadata": {
  "kernelspec": {
   "display_name": "Python 3 (ipykernel)",
   "language": "python",
   "name": "python3"
  },
  "language_info": {
   "codemirror_mode": {
    "name": "ipython",
    "version": 3
   },
   "file_extension": ".py",
   "mimetype": "text/x-python",
   "name": "python",
   "nbconvert_exporter": "python",
   "pygments_lexer": "ipython3",
   "version": "3.10.1"
  }
 },
 "nbformat": 4,
 "nbformat_minor": 5
}
