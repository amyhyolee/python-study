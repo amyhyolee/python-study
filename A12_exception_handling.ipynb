{
 "cells": [
  {
   "cell_type": "markdown",
   "id": "80164c67",
   "metadata": {},
   "source": [
    "### 예외 처리 Exception Handling"
   ]
  },
  {
   "cell_type": "markdown",
   "id": "efe43ea8",
   "metadata": {},
   "source": [
    "### 오류발생 알아보기\n",
    "\n",
    "- 오류는 어떤 때 발생하는가?\n",
    "    - SyntaxError(구문 오류)\n",
    "    - 파일을 읽고자 할 때 그 파일이 존재하지 않을 경우 \n",
    "    - 프로그램이 한참 실행중일 때 갑자기 그파일이 지워진 경우 \n",
    "    - EOFError(파일의 끝일 경우:읽을 내용이 없을 때) \n",
    "    - FileNotFoundError(파일이 없을 때) \n",
    "    - ZeroDivisionError(숫자를 0으로 나누었을때) \n",
    "    - IndexError(리스트에서 얻어 올 수 없는 값일 경우)"
   ]
  },
  {
   "cell_type": "markdown",
   "id": "aae6b089",
   "metadata": {},
   "source": [
    "- 오류의 종류\n",
    "    - NameError: 함수이름, 변수, 리스트 이름등이 잘못된 경우\n",
    "    - IndexError :  튜플,리스트의 잘못된 인덱스 접근\n",
    "    - ZeroDivisionError : 0으로 나눈 경우\n",
    "    - FileNotFoundError : 잘못된 파일 경로\n",
    "    - SyntaxError 제외 => 예외처리 try: ~ Except 구문에서 제외\n",
    "\n",
    "\n",
    "- 튜플, 리스트 인덱스 접근시 발생\n",
    "    - **IndexError**: list index out of range\n",
    "    - **IndexError**: tuple index out of range\n",
    "```python\n",
    "mylist = (1,)\n",
    "print(mylist[3])\n",
    "```\n",
    "- 0으로 나눈 경우\n",
    "    - **ZeroDivisionError**: division by zero\n",
    "```python\n",
    "print(23/0)\n",
    "```\n",
    "- 변수값이 정해지 않은 경우 명령 실행시 발생\n",
    "    - **NameError**: name 'abc' is not defined\n",
    "```python\n",
    "abc = 100\n",
    "print(abc)\n",
    "del abc\n",
    "print(abc) # 에러발생\n",
    "```\n",
    "- 파일입출력, 파일삭제, 디렉토리이동시 경로가 잘못된 경우 발생\n",
    "    - **FileNotFoundError**: [WinError 2] 지정된 파일을 찾을 수 없습니다:\n",
    "```python\n",
    "f = open(\"나없는파일\", 'r')\n",
    "Traceback (most recent call last):\n",
    "File \"<stdin>\", line 1, in <module>\n",
    "FileNotFoundError: [Errno 2] No such file or directory: '나없는파일'\n",
    "```\n",
    "- 데이터형 오류\n",
    "    - **ValueError**: invalid literal for int() with base 10: 'abc'\n",
    "```python\n",
    "# 숫자를 입력받아서 int 형태로 변경\n",
    "# 숫자가 아닌 문자열 지정\n",
    "temp = int(input('숫자를 입력해주세요 ... '))\n",
    "print(temp)\n",
    "```\n",
    "- 문법 오류 :\n",
    "    - **SyntaxError**: EOL while scanning string literal\n",
    "```python\n",
    "print('abc)\n",
    "SyntaxError: unmatched ')'\n",
    "print('abc'))\n",
    "```\n",
    "\n",
    "- **Type Error** : 함수에서 인자값의 데이타형을 잘못 지정한 후\n",
    "    - `'구분자'.join(문자,문자열리스트,문자열튜플...)` => 구분자를이용한 문자열\n",
    "    - TypeError: can only join an iterable\n",
    "\n",
    "```python\n",
    "print(' * '.join(123456))\n",
    "# TypeError: sequence item 0: expected str instance, bool found\n",
    "print(' * '.join(['True', '123', 'False', '100']))\n",
    "```"
   ]
  },
  {
   "cell_type": "markdown",
   "id": "42081a64",
   "metadata": {},
   "source": [
    "### 예외처리 (Exception)\n",
    "- 예외(Exception)이란 프로그램에서 벌어지는 예외적인 상황(아래 에러들)을 의미한다.\n",
    "- 프로그램처리상에러발생시예외상황을처리해주는것을예외처리라고한다.\n",
    "\n",
    "\n",
    "- 오류가 발생을 하면 메세지를 출력하거나  오류를 무시하는 기능\n",
    "\n",
    "    - try, except : 발생한 오류를 메시지로 출력\n",
    "    ```python\n",
    "        try: \n",
    "            명령어\n",
    "        except [발생 오류[as 오류 메시지 변수]]: \n",
    "            에러처리명령\n",
    "    ```\n",
    "    - try .. except : 발생한 오류 무시. pass 문 이용\n",
    "    ```python\n",
    "       try: \n",
    "           ...\n",
    "        except [발생 오류]: \n",
    "            pass\n",
    "    ```\n",
    "    - try..except..else : : 오류 발생시 except 문 실행. 아니면 else문 실행\n",
    "    ```python\n",
    "       try: \n",
    "           ...\n",
    "        except [발생 오류[as 오류 메시지 변수]]:\n",
    "            e 출력 ,에러처리명령\n",
    "        else:\n",
    "            에러가 발생하지 않은 경우 명령어\n",
    "    ```\n",
    "    - A,b 입력 값에 따라 메시지 출력하기\n",
    "    ```python\n",
    "    a = int(input('a = ')) \n",
    "    b = int(input('b = ')) \n",
    "    try:\n",
    "        int(a) / int(b)\n",
    "    except ZeroDivisionError:\n",
    "        print('오류 발생')\n",
    "    else:\n",
    "        print(a/b)\n",
    "    ```\n",
    "    \n",
    "    ```python\n",
    "    a = 60 \n",
    "    b = 0 \n",
    "    오류 발생\n",
    "    ```\n",
    "    - try..except..else..finally 명령 : 예외처리이후 하나의 실행문은 항상 수행\n",
    "    ```python\n",
    "    try:\n",
    "        명령어\n",
    "    except Exception as e:\n",
    "        print(e)\n",
    "        에러처리명령\n",
    "    else:\n",
    "        에러가 발생하기 않은 경우 명령어\n",
    "    finally:\n",
    "        무조건 실행되는 명령어\n",
    "    ```\n",
    "    ```python\n",
    "    try: \n",
    "        100/0\n",
    "    except ZeroDivisionError as e: \n",
    "        print(e)\n",
    "    finally:\n",
    "        print('명령문 수행 완료')\n",
    "    \n",
    "    # division by zero \n",
    "    # 명령문 수행 완료\n",
    "    ```\n",
    "    - `raise Exception : 사용자정의 에러`\n",
    "         - ex) 금칙어, 특별한 값 지정. 데이타 유효성"
   ]
  },
  {
   "cell_type": "code",
   "execution_count": 21,
   "id": "ac1ca0f8",
   "metadata": {},
   "outputs": [
    {
     "name": "stdout",
     "output_type": "stream",
     "text": [
      "0으로 나눌수 없어요 = division by zero\n"
     ]
    }
   ],
   "source": [
    "# 에러처리 문법 1\n",
    "# try..except 명령1\n",
    "# - 에러코드를 알고있어야 한다.\n",
    "# try:\n",
    "#   명령어\n",
    "# except 에러코드 as e:\n",
    "#   에러처리명령\n",
    "\n",
    "# 0으로 나누면 에러 => \n",
    "# 에러코드 : ZeroDivisionError\n",
    "# division by zero\n",
    "\n",
    "n = 0\n",
    "try:\n",
    "  print(200/n)\n",
    "except ZeroDivisionError as e:\n",
    "  print(f'0으로 나눌수 없어요 = {e}')\n",
    "  pass  # 에러메세지 무시"
   ]
  },
  {
   "cell_type": "code",
   "execution_count": 17,
   "id": "28062c0f",
   "metadata": {},
   "outputs": [
    {
     "name": "stdout",
     "output_type": "stream",
     "text": [
      "==================================================\n",
      "숫자를 입력해주세요 ... k\n",
      "입력 값이 숫자가 아닙니다.\n"
     ]
    }
   ],
   "source": [
    "# ValueError\n",
    "# : invalid literal for int() with base 10: ~\n",
    "print('='*50)\n",
    "try:\n",
    "    temp = int(input('숫자를 입력해주세요 ... '))\n",
    "# except ValueError as e:\n",
    "except ValueError:\n",
    "    print('입력 값이 숫자가 아닙니다.')\n",
    "#     print(f'에러메세지 = {e}')"
   ]
  },
  {
   "cell_type": "code",
   "execution_count": 18,
   "id": "d33f240e",
   "metadata": {},
   "outputs": [
    {
     "name": "stdout",
     "output_type": "stream",
     "text": [
      "==========\n",
      " 에러 메세지는? division by zero\n"
     ]
    }
   ],
   "source": [
    "# 에러처리 문법 2\n",
    "# 모든 예외의 에러 메시지를 출력할 때는 Exception 키워드\n",
    "# 에러코드를 몰라도 된다. => Exception\n",
    "# try:\n",
    "#     명령\n",
    "# except Exception as e:\n",
    "#     에러처리 명령\n",
    "\n",
    "print('='*10)\n",
    "n = 0\n",
    "myList = [100, 200, 300]\n",
    "try:\n",
    "  print(200/n)  # division by zero\n",
    "  print(myList[5]) # list index out of range\n",
    "except Exception as e:\n",
    "  print(f' 에러 메세지는? {e}')"
   ]
  },
  {
   "cell_type": "code",
   "execution_count": 19,
   "id": "28ef45a1",
   "metadata": {},
   "outputs": [
    {
     "name": "stdout",
     "output_type": "stream",
     "text": [
      "삭제할 파일이 없습니다.\n"
     ]
    }
   ],
   "source": [
    "# 에러처리 문법 3\n",
    "# 에러메세지 e 를 출력하지 못함\n",
    "# try:\n",
    "#   명령어\n",
    "# except:\n",
    "#   에러처리명령\n",
    "\n",
    "# FileNotFoundError: [WinError 2] 지정된 파일을 찾을 수 없습니다:\n",
    "import os\n",
    "try:\n",
    "    os.remove('아무거나.txt')\n",
    "    print('파일 삭제가 완료되었습니다.')\n",
    "# except FileNotFoundError as e:\n",
    "# except Exception as e:\n",
    "except:\n",
    "    print('삭제할 파일이 없습니다.')"
   ]
  },
  {
   "cell_type": "code",
   "execution_count": 20,
   "id": "b879431f",
   "metadata": {},
   "outputs": [
    {
     "name": "stdout",
     "output_type": "stream",
     "text": [
      " 에러발생... 에러 메세지는? list index out of range\n"
     ]
    }
   ],
   "source": [
    "# 에러처리 문법 4\n",
    "# try:\n",
    "#   명령어\n",
    "# except 에러코드 as e:\n",
    "# except Exception as e:\n",
    "# except:\n",
    "#   e 출력 ,에러처리명령\n",
    "# else:\n",
    "#   에러가 발생하지 않은 경우 명령어\n",
    "\n",
    "# 에러가 발생하면 except 구문 실행 \n",
    "# 에러가 발생하지 않는다면 else 구문 실행 \n",
    "myList = [100, 200, 300]\n",
    "try:\n",
    "    myNum = myList[5] \n",
    "except Exception as e:\n",
    "    print(f' 에러발생... 에러 메세지는? {e}')\n",
    "else :\n",
    "    print(f' myNum = {myNum}')"
   ]
  },
  {
   "cell_type": "code",
   "execution_count": 24,
   "id": "0791b0bc",
   "metadata": {},
   "outputs": [
    {
     "name": "stdout",
     "output_type": "stream",
     "text": [
      "==================================================\n",
      "첫번째 숫자 ...1\n",
      "두번째 숫자 ...2\n",
      " 1 나누기 2 = 0.5\n"
     ]
    }
   ],
   "source": [
    "# except  구문이 여러개인 경우\n",
    "# ValueError , ZerodivisionError 각각 처리 메세지 출력\n",
    "print('='*50)\n",
    "try:\n",
    "    n1 = int(input('첫번째 숫자 ...'))\n",
    "    n2 = int(input('두번째 숫자 ...'))\n",
    "    result = n1/n2\n",
    "except ValueError as e:\n",
    "    print('입력된 데이타가 숫자가 아닙니다. ', e)\n",
    "except ZeroDivisionError as e:\n",
    "    print('0으로 나눌수 없습니다. ', e)\n",
    "else:\n",
    "    print(f' {n1} 나누기 {n2} = {result}')"
   ]
  },
  {
   "cell_type": "code",
   "execution_count": 26,
   "id": "2477391c",
   "metadata": {},
   "outputs": [
    {
     "name": "stdout",
     "output_type": "stream",
     "text": [
      "에러 발생 ... [Errno 2] No such file or directory: 'data/coding1.txt'\n",
      "파일 읽기 테스트 종료\n",
      "==================================================\n"
     ]
    }
   ],
   "source": [
    "# 에러처리 문법 5\n",
    "# try:\n",
    "#   명령어\n",
    "# except 에러코드 as e:\n",
    "# except Exception as e:\n",
    "# except:\n",
    "#   print(e)\n",
    "#   에러처리명령\n",
    "# else:\n",
    "#   에러가 발생하기 않은 경우 명령어\n",
    "# finally:\n",
    "#   무조건 실행되는 명령어\n",
    "\n",
    "\n",
    "# 특정 파일이 있다면 읽기후 내용출력\n",
    "# 파일이 없다면 에러메세지 출력\n",
    "# filePath = 'data/coding.txt'\n",
    "filePath = 'data/coding1.txt'\n",
    "try:\n",
    "    f = open(filePath, 'r', encoding='utf-8')\n",
    "# except :\n",
    "except Exception as e:\n",
    "    print(f'에러 발생 ... {e}')\n",
    "else:\n",
    "    print(f.readline())\n",
    "    f.close()\n",
    "finally:\n",
    "    print('파일 읽기 테스트 종료')\n",
    "    print('='*50)"
   ]
  },
  {
   "cell_type": "code",
   "execution_count": 27,
   "id": "2b849d60",
   "metadata": {},
   "outputs": [],
   "source": [
    "# 퀴즈 \n",
    "# try..except..else..finally 이용 \n",
    "# 영어점수가 삽입되어 있는 data_eng.txt 파일 확인 \n",
    "# data_eng.txt 파일이 없다면 (에러발생)\n",
    "#   메세지 출력. => '파일없음'\n",
    "# 파일이 있다면 (에러가 발생하지 않는다면)\n",
    "#   영어점수의 총합과 평균을 구하여 출력한다."
   ]
  },
  {
   "cell_type": "code",
   "execution_count": 31,
   "id": "91e6286e",
   "metadata": {},
   "outputs": [
    {
     "name": "stdout",
     "output_type": "stream",
     "text": [
      "[67, 45, 95, 65, 45, 78, 87, 89, 100, 99, 98, 65]\n",
      " 영어 점수의 총합 : 933,  평균 : 77.75 \n",
      "테스트 종료\n"
     ]
    }
   ],
   "source": [
    "import statistics\n",
    "\n",
    "filePath = 'data/data_eng.txt'\n",
    "# filePath = 'data/data_eng2.txt'\n",
    "try:\n",
    "    with open(filePath, 'r') as f:\n",
    "        data = f.readlines()\n",
    "except Exception as e:\n",
    "    print(f'파일없음  => {e}')\n",
    "else:\n",
    "    # print(data) # ['67\\n', '45\\n', '95\\n', '65\\n', '45\\n', '78\\n', '87\\n', '89\\n', '100\\n', '99\\n', '98\\n', '65\\n']\n",
    "    # data_list = []\n",
    "    # for item in data:\n",
    "    #     data_list.append(int(item.strip()))\n",
    "    data_list = [ int(item.strip()) for item in data]\n",
    "    print(data_list)\n",
    "    print(f' 영어 점수의 총합 : {sum(data_list)},  평균 : {statistics.mean(data_list):.2f} ')\n",
    "finally:\n",
    "    print('테스트 종료')"
   ]
  },
  {
   "cell_type": "markdown",
   "id": "570d65da",
   "metadata": {},
   "source": [
    "### 사용자정의 에러\n",
    "- 에러만들기 : raise 문 이용\n",
    "    - 일부러 에러 발생\n",
    "```python\n",
    "    if 조건식:\n",
    "        raise Exception(오류 메세지)\n",
    "```"
   ]
  },
  {
   "cell_type": "code",
   "execution_count": 30,
   "id": "78bee9cb",
   "metadata": {},
   "outputs": [
    {
     "name": "stdout",
     "output_type": "stream",
     "text": [
      " myNum = 67\n"
     ]
    }
   ],
   "source": [
    "# 변수의 값이 0~100 사이의 숫자가 아니라면 에러발생\n",
    "myNum = 67\n",
    "if 0 < myNum <= 100:\n",
    "    print(f' myNum = {myNum}')\n",
    "else:\n",
    "    raise Exception('오류 =>  0~100 사이의 숫자가 아니랍니다')"
   ]
  },
  {
   "cell_type": "code",
   "execution_count": 33,
   "id": "0c76d2f9",
   "metadata": {},
   "outputs": [
    {
     "name": "stdout",
     "output_type": "stream",
     "text": [
      "입력 myNum = 1\n",
      " myNum = 1\n",
      "입력 테스트 종료\n"
     ]
    }
   ],
   "source": [
    "# 예외처리 구문안에서 raise Exception 이용하기\n",
    "try:\n",
    "    myNum = int(input('입력 myNum = '))\n",
    "    if (myNum < 0) or (myNum > 100):\n",
    "        raise Exception('오류 =>  0~100 사이의 숫자가 아니랍니다') # e로 들어가는거\n",
    "except Exception as e:\n",
    "    print(f' 에러 메세지 {e}')\n",
    "else:\n",
    "    print(f' myNum = {myNum}')\n",
    "finally:\n",
    "    print('입력 테스트 종료')"
   ]
  },
  {
   "cell_type": "code",
   "execution_count": null,
   "id": "cf5fa8de",
   "metadata": {},
   "outputs": [],
   "source": []
  }
 ],
 "metadata": {
  "kernelspec": {
   "display_name": "Python 3 (ipykernel)",
   "language": "python",
   "name": "python3"
  },
  "language_info": {
   "codemirror_mode": {
    "name": "ipython",
    "version": 3
   },
   "file_extension": ".py",
   "mimetype": "text/x-python",
   "name": "python",
   "nbconvert_exporter": "python",
   "pygments_lexer": "ipython3",
   "version": "3.10.1"
  }
 },
 "nbformat": 4,
 "nbformat_minor": 5
}
