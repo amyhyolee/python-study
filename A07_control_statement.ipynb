{
 "cells": [
  {
   "cell_type": "markdown",
   "id": "f31ace72",
   "metadata": {},
   "source": [
    "# 제어문 (Control Statement)\n",
    "## 2022.01.20"
   ]
  },
  {
   "cell_type": "markdown",
   "id": "afcca51f",
   "metadata": {},
   "source": [
    "- 제어문이란?\n",
    "    - 프로그램의 흐름을 제어해서 효율적으로 이용하기 위한 명령문\n",
    "    \n",
    "- 제어문의 종류\n",
    "    - 조건문 : `if / if ~ else / if ~elif~else`\n",
    "    - 반복문 : `for / while`"
   ]
  },
  {
   "cell_type": "markdown",
   "id": "be5046f5",
   "metadata": {},
   "source": [
    "- 파이썬 제어문의 특징 :\n",
    "    - `{}` 사용하지 않고 탭1개 나 공백4칸 으로 블록 지정\n",
    "    - 들여쓰기가 없는 경우 `IndentationError: 에러 발생`\n",
    "    - switch 문이 없다\n",
    "    - else if 대신 `elif` 문이 있다"
   ]
  },
  {
   "cell_type": "markdown",
   "id": "bf4c6ad7",
   "metadata": {},
   "source": [
    "- [온라인 에디터](https://www.onlinegdb.com/online_python_compiler)"
   ]
  },
  {
   "cell_type": "markdown",
   "id": "618941d3",
   "metadata": {},
   "source": [
    "### 조건문 if\n",
    "- 조건문 1 - 단순 if 문\n",
    " ```python\n",
    "        if 조건:\n",
    "            명령문\n",
    " ```\n",
    " \n",
    "- 조건문 2 - 2가지 조건이 있는 if문\n",
    " ```python\n",
    "    if 조건:\n",
    "        명령문1\n",
    "    else:\n",
    "        명령문2\n",
    " ```\n",
    " \n",
    "- 조건문 3 - 다중 if문\n",
    "    \n",
    " ```python\n",
    "    if 조건:\n",
    "        명령문1\n",
    "    elif 조건2:\n",
    "        명령문2\n",
    "    else:\n",
    "        명령문3\n",
    " ```\n",
    "- if True 조건식\n",
    "    \n",
    " ```python\n",
    "    if (True 조건식):\n",
    "        실행할 문장\n",
    " ```"
   ]
  },
  {
   "cell_type": "markdown",
   "id": "5af76b30",
   "metadata": {},
   "source": [
    "- 조건식에서 True가 되는 조건\n",
    "    - `True, 0빼고 나머지숫자, 길이가 0이 아닌 (문자열, 튜플, 리스트, 딕셔너리)`\n",
    "    \n",
    "- 조건식에서 False가 되는 조건\n",
    "    - `False, 0, '', None, [], (), {}`"
   ]
  },
  {
   "cell_type": "code",
   "execution_count": 2,
   "id": "08aabc5b",
   "metadata": {},
   "outputs": [
    {
     "name": "stdout",
     "output_type": "stream",
     "text": [
      "num1 값은 num2 값보다 크다\n",
      "if 테스트 종료 \n"
     ]
    }
   ],
   "source": [
    "# 조건문 1 - 단순 if 문\n",
    "num1 = 100\n",
    "num2 = 0\n",
    "\n",
    "if num1 > num2:\n",
    "    print('num1 값은 num2 값보다 크다')\n",
    "print('if 테스트 종료 ')"
   ]
  },
  {
   "cell_type": "code",
   "execution_count": 9,
   "id": "f7466f4c",
   "metadata": {},
   "outputs": [
    {
     "name": "stdout",
     "output_type": "stream",
     "text": [
      "\n",
      "  num1은 num2보다 크거나 같다\n",
      "if 테스트 종료2 \n"
     ]
    }
   ],
   "source": [
    "# 조건문 2 - 2가지 조건이 있는 if문\n",
    "num1 = 100\n",
    "num2 = 0\n",
    "\n",
    "if (num1 >= num2) :\n",
    "    print('\\n  num1은 num2보다 크거나 같다')\n",
    "else:\n",
    "    print('\\n  num1은 num2보다 작다')\n",
    "print('if 테스트 종료2 ')"
   ]
  },
  {
   "cell_type": "code",
   "execution_count": 10,
   "id": "6436c011",
   "metadata": {},
   "outputs": [
    {
     "name": "stdout",
     "output_type": "stream",
     "text": [
      "10 < 100 \n"
     ]
    }
   ],
   "source": [
    "# 조건문 3 - 다중 if문\n",
    "# 두수가 같은지 두수의 대소비교\n",
    "# x == y,  x >y , x<y\n",
    "x = 10\n",
    "y = 100\n",
    "if x > y :\n",
    "    print(f'{x} > {y} ')\n",
    "elif x < y :\n",
    "    print(f'{x} < {y} ')\n",
    "else:\n",
    "    print(f'{x} == {y} ')"
   ]
  },
  {
   "cell_type": "code",
   "execution_count": 4,
   "id": "4dc7f988",
   "metadata": {},
   "outputs": [
    {
     "name": "stdout",
     "output_type": "stream",
     "text": [
      "\n",
      "Hello world\n",
      "if 테스트 종료2 \n"
     ]
    }
   ],
   "source": [
    "# if True 조건식\n",
    "\n",
    "# status = 0 # False\n",
    "# status = 100  # True\n",
    "# status = '' # False\n",
    "# status = '가나다라' # True\n",
    "# status = [] # False\n",
    "status = [1, 2, 3] # True\n",
    "if status:\n",
    "    print('\\nHello world')\n",
    "print('if 테스트 종료2 ')"
   ]
  },
  {
   "cell_type": "code",
   "execution_count": null,
   "id": "3c7bf410",
   "metadata": {},
   "outputs": [],
   "source": [
    "# 입력되는 숫자가 짝수인지 홀수인지 0인지 메세지 출력\n",
    "\n",
    "myNum = int(input('숫자를 입력해주세요...'))\n",
    "if myNum == 0:\n",
    "    print('입력값은 0')\n",
    "elif (myNum%2 != 0):\n",
    "    print('입력값은 홀수')\n",
    "else:\n",
    "    print('입력값은 짝수')"
   ]
  },
  {
   "cell_type": "markdown",
   "id": "7a6c39d3",
   "metadata": {},
   "source": [
    "### if .. elif .. else 퀴즈\n",
    "\n",
    "> 년도 입력하면 띠가 추력되게 하세요.\n",
    "> \n",
    "> 띠 = 태어난년도%12\n",
    ">\n",
    "> 원숭이, 닭, 개, 돼지, 쥐, 소, 범, 토끼, 용, 뱀, 말, 양"
   ]
  },
  {
   "cell_type": "code",
   "execution_count": 12,
   "id": "b32a68bc",
   "metadata": {},
   "outputs": [
    {
     "name": "stdout",
     "output_type": "stream",
     "text": [
      "태어난 년도를 입력하세요 ...?  2000\n",
      "용띠\n",
      "당신은 용띠 입니다. \n"
     ]
    }
   ],
   "source": [
    "birth = int(input('태어난 년도를 입력하세요 ...?  '))\n",
    "animalList2 = ['원숭이띠', '닭띠', '개띠', '돼지띠',\n",
    "              '쥐띠', '소띠', '범띠',\n",
    "              '토끼띠', '용띠', '뱀띠', '말띠', '양띠']\n",
    "animal = birth%12\n",
    "\n",
    "if animal == 0:\n",
    "    print(animalList2[0])\n",
    "elif animal == 1:\n",
    "    print(animalList2[1])\n",
    "elif animal == 2:\n",
    "    print(animalList2[2])\n",
    "elif animal == 3:\n",
    "    print(animalList2[3])\n",
    "elif animal == 4:\n",
    "    print(animalList2[4])\n",
    "elif animal == 5:\n",
    "    print(animalList2[5])\n",
    "elif animal == 6:\n",
    "    print(animalList2[6])\n",
    "elif animal == 7:\n",
    "    print(animalList2[7])\n",
    "elif animal == 8:\n",
    "    print(animalList2[8])\n",
    "elif animal == 9:\n",
    "    print(animalList2[9])\n",
    "elif animal == 10:\n",
    "    print(animalList2[10])\n",
    "elif animal == 11:\n",
    "    print(animalList2[11])\n",
    "\n",
    "# 아래도 동일\n",
    "print( '당신은', animalList2[animal], '입니다. ' )"
   ]
  },
  {
   "cell_type": "markdown",
   "id": "00fad559",
   "metadata": {},
   "source": [
    "### 조건문안에 조건문 퀴즈\n",
    "> 아이디 검사 => 패스워드 검사\n",
    "> \n",
    "> 아이디가 python이면 패스워드 입력받기\n",
    "> \n",
    "> 패스워드가 1234이면 Hello python 출력하기"
   ]
  },
  {
   "cell_type": "code",
   "execution_count": null,
   "id": "72a667df",
   "metadata": {},
   "outputs": [],
   "source": [
    "userId = input('아이디를 입력하세요...')\n",
    "if userId == 'python':\n",
    "    userPwd = input('패스워드를 입력하세요...')\n",
    "    if userPwd == '1234':\n",
    "        print('Hello python')\n",
    "    else:\n",
    "        print('패스워드가 틀렸습니다.')\n",
    "else:\n",
    "    print('아이디가 틀렸습니다. ')"
   ]
  },
  {
   "cell_type": "markdown",
   "id": "c1e469f1",
   "metadata": {},
   "source": [
    "- in / not in 연산자\n",
    "    - `아이템 in 그룹(튜플, 리스트, 문자열, 집합)` => True / False\n",
    "    - `아이템 not in 그룹(튜플, 리스트, 문자열, 집합)` => True / False"
   ]
  },
  {
   "cell_type": "code",
   "execution_count": 13,
   "id": "3bd01d9c",
   "metadata": {},
   "outputs": [
    {
     "name": "stdout",
     "output_type": "stream",
     "text": [
      "True\n",
      "False\n",
      "True\n",
      "True\n",
      "False\n",
      "False\n"
     ]
    }
   ],
   "source": [
    "listA = [100, 200, 300, 400]\n",
    "txtA = '도레미파솔라시'\n",
    "print(100 in listA)\n",
    "print(500 in listA)\n",
    "print(500 not in listA)\n",
    "print('솔' not in listA)\n",
    "print('강' in listA)\n",
    "print('솔라' in listA)"
   ]
  },
  {
   "cell_type": "markdown",
   "id": "f50f2060",
   "metadata": {},
   "source": [
    "- if문에 in/not in 연산자 사용하기\n",
    "```python\n",
    "if item in group(리스트,튜플,문자열,집합) :\n",
    "    명령문\n",
    "```\n",
    "```python\n",
    "if item in group(리스트,튜플,문자열,집합) :\n",
    "    명령문1\n",
    "else:\n",
    "    명령문2\n",
    "```"
   ]
  },
  {
   "cell_type": "code",
   "execution_count": 14,
   "id": "b4cee46a",
   "metadata": {},
   "outputs": [
    {
     "name": "stdout",
     "output_type": "stream",
     "text": [
      " 제니 는(은) 블랙핑크이다.\n"
     ]
    }
   ],
   "source": [
    "twise = ['나연', '쯔위', '채영']\n",
    "blackpink = ['제니', '지수', '로제']\n",
    "\n",
    "# member = '아이유'\n",
    "# member = '쯔위'\n",
    "member = '제니'\n",
    "if member in twise:\n",
    "    print(f' {member} 는(은) 트와이스이다.')\n",
    "elif member in blackpink:\n",
    "    print(f' {member} 는(은) 블랙핑크이다.')\n",
    "else:\n",
    "    print(f'{member} 는(은) 그룹이 아니다.')"
   ]
  },
  {
   "cell_type": "markdown",
   "id": "c017208c",
   "metadata": {},
   "source": [
    "- pass 키워드 이용하기\n",
    "    - 명령문의 일종으로 비실행\n",
    "    - 함수, 클래스 생성시 등록만 시킬때 사용"
   ]
  },
  {
   "cell_type": "code",
   "execution_count": 15,
   "id": "d1f5c9da",
   "metadata": {},
   "outputs": [
    {
     "name": "stdout",
     "output_type": "stream",
     "text": [
      "걸어가라\n"
     ]
    }
   ],
   "source": [
    "pocket = ['paper', 'money', 'cellphone']\n",
    "\n",
    "if 'money' not in pocket:\n",
    "    pass\n",
    "elif 'cellphone' not in pocket:\n",
    "    pass\n",
    "else:\n",
    "    print('걸어가라')"
   ]
  },
  {
   "cell_type": "markdown",
   "id": "f13415f5",
   "metadata": {},
   "source": [
    "### 반복문 (while)\n",
    "- `while()`\n",
    "```python\n",
    "변수 = 초기값\n",
    "while 조건:\n",
    "    실행명령\n",
    "    변수 증감\n",
    "```\n",
    "\n",
    "- 다중 while 문\n",
    "```python\n",
    "    while 조건1:\n",
    "        while 조건2:\n",
    "           명령문2\n",
    "        명령문1\n",
    "```\n",
    "\n",
    "- `break`\n",
    "    - 제어문의 블록을 탈출할 때 사용한다.\n",
    "    - 명령문이 실행되면 하단 명령문들은 실행되지 않는다.\n",
    "    - 무한루프의 종료 조건시 사용\n",
    "- `continue` \n",
    "    - 제어문 안에서 사용\n",
    "    - 명령문이 실행되면 하단 명령문들은 실행되지 않는다.\n",
    "    - 실행문을 실행하지 않고 다음 명령문을 실행한다."
   ]
  },
  {
   "cell_type": "code",
   "execution_count": 16,
   "id": "f868812e",
   "metadata": {},
   "outputs": [
    {
     "name": "stdout",
     "output_type": "stream",
     "text": [
      "cnt = 1\n",
      "cnt = 2\n",
      "cnt = 3\n",
      "cnt = 4\n",
      "cnt = 5\n",
      "cnt = 6\n",
      "cnt = 7\n",
      "cnt = 8\n",
      "cnt = 9\n",
      "cnt = 10\n",
      "while 테스트 종료1\n"
     ]
    }
   ],
   "source": [
    "# 조건이 True 이면 명령을 실행해라\n",
    "# 1~10까지 출력하여라\n",
    "\n",
    "cnt = 1\n",
    "while cnt <= 10:\n",
    "    print(f'cnt = {cnt}')\n",
    "    cnt += 1\n",
    "\n",
    "print('while 테스트 종료1')"
   ]
  },
  {
   "cell_type": "code",
   "execution_count": 18,
   "id": "dc7a29ef",
   "metadata": {},
   "outputs": [
    {
     "name": "stdout",
     "output_type": "stream",
     "text": [
      "10 9 8 7 6 5 4 3 2 1 \n",
      "while 테스트 종료2\n"
     ]
    }
   ],
   "source": [
    "# 10~1 출력하기 (한줄에 출력 요망)\n",
    "cnt = 10\n",
    "while cnt > 0 :\n",
    "    print(cnt, end=' ')\n",
    "    cnt -= 1\n",
    "\n",
    "print('\\nwhile 테스트 종료2')"
   ]
  },
  {
   "cell_type": "code",
   "execution_count": 38,
   "id": "866dfb52",
   "metadata": {},
   "outputs": [
    {
     "name": "stdout",
     "output_type": "stream",
     "text": [
      "1 ~ 100 까지의 누적합은? 5050\n",
      "\n",
      "while 테스트 종료3\n"
     ]
    }
   ],
   "source": [
    "# 퀴즈 - 1~100까지의 합 출력하기\n",
    "# 1~100까지의 합은?\n",
    "# 1+2+3 ... + 100 = 5050\n",
    "\n",
    "cnt = 1\n",
    "total = 0\n",
    "while cnt <= 100:\n",
    "    # print(cnt, end=' ')\n",
    "    total += cnt\n",
    "    cnt += 1\n",
    "\n",
    "print(f'1 ~ 100 까지의 누적합은? {total}')\n",
    "print('\\nwhile 테스트 종료3')"
   ]
  },
  {
   "cell_type": "code",
   "execution_count": 23,
   "id": "5146fa95",
   "metadata": {},
   "outputs": [
    {
     "name": "stdout",
     "output_type": "stream",
     "text": [
      "2 4 6 8 10 12 14 16 18 20 22 24 26 28 30 32 34 36 38 40 42 44 46 48 50 \n",
      "while 테스트 종료4\n"
     ]
    }
   ],
   "source": [
    "# 반복문안에 조건문\n",
    "# 1~50까지 짝수만 출력하기\n",
    "\n",
    "cnt = 1\n",
    "while cnt <= 50 :\n",
    "    if cnt%2 == 0 :\n",
    "        print(cnt, end=' ')\n",
    "    cnt += 1\n",
    "\n",
    "print('\\nwhile 테스트 종료4')"
   ]
  },
  {
   "cell_type": "code",
   "execution_count": 34,
   "id": "107fa8d0",
   "metadata": {},
   "outputs": [
    {
     "name": "stdout",
     "output_type": "stream",
     "text": [
      "==================================================\n",
      "\n",
      " 1 단\n",
      "1 X 1 = 1\n",
      "1 X 2 = 2\n",
      "1 X 3 = 3\n",
      "1 X 4 = 4\n",
      "1 X 5 = 5\n",
      "1 X 6 = 6\n",
      "1 X 7 = 7\n",
      "1 X 8 = 8\n",
      "1 X 9 = 9\n",
      "\n",
      " 2 단\n",
      "2 X 1 = 2\n",
      "2 X 2 = 4\n",
      "2 X 3 = 6\n",
      "2 X 4 = 8\n",
      "2 X 5 = 10\n",
      "2 X 6 = 12\n",
      "2 X 7 = 14\n",
      "2 X 8 = 16\n",
      "2 X 9 = 18\n",
      "\n",
      " 3 단\n",
      "3 X 1 = 3\n",
      "3 X 2 = 6\n",
      "3 X 3 = 9\n",
      "3 X 4 = 12\n",
      "3 X 5 = 15\n",
      "3 X 6 = 18\n",
      "3 X 7 = 21\n",
      "3 X 8 = 24\n",
      "3 X 9 = 27\n",
      "\n",
      " 4 단\n",
      "4 X 1 = 4\n",
      "4 X 2 = 8\n",
      "4 X 3 = 12\n",
      "4 X 4 = 16\n",
      "4 X 5 = 20\n",
      "4 X 6 = 24\n",
      "4 X 7 = 28\n",
      "4 X 8 = 32\n",
      "4 X 9 = 36\n",
      "\n",
      " 5 단\n",
      "5 X 1 = 5\n",
      "5 X 2 = 10\n",
      "5 X 3 = 15\n",
      "5 X 4 = 20\n",
      "5 X 5 = 25\n",
      "5 X 6 = 30\n",
      "5 X 7 = 35\n",
      "5 X 8 = 40\n",
      "5 X 9 = 45\n",
      "\n",
      " 6 단\n",
      "6 X 1 = 6\n",
      "6 X 2 = 12\n",
      "6 X 3 = 18\n",
      "6 X 4 = 24\n",
      "6 X 5 = 30\n",
      "6 X 6 = 36\n",
      "6 X 7 = 42\n",
      "6 X 8 = 48\n",
      "6 X 9 = 54\n",
      "\n",
      " 7 단\n",
      "7 X 1 = 7\n",
      "7 X 2 = 14\n",
      "7 X 3 = 21\n",
      "7 X 4 = 28\n",
      "7 X 5 = 35\n",
      "7 X 6 = 42\n",
      "7 X 7 = 49\n",
      "7 X 8 = 56\n",
      "7 X 9 = 63\n",
      "\n",
      " 8 단\n",
      "8 X 1 = 8\n",
      "8 X 2 = 16\n",
      "8 X 3 = 24\n",
      "8 X 4 = 32\n",
      "8 X 5 = 40\n",
      "8 X 6 = 48\n",
      "8 X 7 = 56\n",
      "8 X 8 = 64\n",
      "8 X 9 = 72\n",
      "\n",
      " 9 단\n",
      "9 X 1 = 9\n",
      "9 X 2 = 18\n",
      "9 X 3 = 27\n",
      "9 X 4 = 36\n",
      "9 X 5 = 45\n",
      "9 X 6 = 54\n",
      "9 X 7 = 63\n",
      "9 X 8 = 72\n",
      "9 X 9 = 81\n",
      "\n",
      "while 테스트 종료5\n"
     ]
    }
   ],
   "source": [
    "#  다중 while문\n",
    "# 구구단 출력하기\n",
    "\n",
    "n = 1\n",
    "print('='*50)\n",
    "while n <= 9:\n",
    "    print(f'\\n {n} 단')\n",
    "    cnt = 1\n",
    "    while cnt <= 9:\n",
    "        print(f'{n} X {cnt} = {n*cnt}')\n",
    "        cnt += 1\n",
    "    n += 1\n",
    "print('\\nwhile 테스트 종료5')"
   ]
  },
  {
   "cell_type": "code",
   "execution_count": 33,
   "id": "2b67aa78",
   "metadata": {},
   "outputs": [
    {
     "name": "stdout",
     "output_type": "stream",
     "text": [
      "['사과', '바나나', '수박', '포도']\n",
      "0 번째 요소는  사과\n",
      "1 번째 요소는  바나나\n",
      "2 번째 요소는  수박\n",
      "3 번째 요소는  포도\n"
     ]
    }
   ],
   "source": [
    "# while 문 이용해서 리스트 요소 출력하기\n",
    "# 인덱싱위치 번째 요소는 인덱싱위치의값\n",
    "# list1 = ['사과', '바나나', '수박', '포도']\n",
    "\n",
    "'''\n",
    "0 번째 요소는  사과\n",
    "1 번째 요소는  바나나\n",
    "2 번째 요소는  수박\n",
    "3 번째 요소는  포도\n",
    "'''\n",
    "\n",
    "\n",
    "list1 = ['사과', '바나나', '수박', '포도']\n",
    "print(list1)\n",
    "\n",
    "cnt = 0\n",
    "while cnt < len(list1):\n",
    "    print(f'{cnt} 번째 요소는  {list1[cnt]}')\n",
    "    cnt += 1"
   ]
  },
  {
   "cell_type": "code",
   "execution_count": 32,
   "id": "fa3b67bb",
   "metadata": {},
   "outputs": [
    {
     "name": "stdout",
     "output_type": "stream",
     "text": [
      "나무를 1번 찍었습니다.\n",
      "나무를 2번 찍었습니다.\n",
      "나무를 3번 찍었습니다.\n",
      "나무를 4번 찍었습니다.\n",
      "나무를 5번 찍었습니다.\n",
      "나무를 6번 찍었습니다.\n",
      "나무를 7번 찍었습니다.\n",
      "나무를 8번 찍었습니다.\n",
      "나무를 9번 찍었습니다.\n",
      "나무를 10번 찍었습니다.\n"
     ]
    }
   ],
   "source": [
    "# break\n",
    "treeHit = 0\n",
    "while True:\n",
    "    if treeHit >= 10:\n",
    "        break\n",
    "    else:\n",
    "        treeHit += 1\n",
    "        print('나무를 %d번 찍었습니다.' % treeHit)"
   ]
  },
  {
   "cell_type": "code",
   "execution_count": 79,
   "id": "fd552f2c",
   "metadata": {},
   "outputs": [
    {
     "name": "stdout",
     "output_type": "stream",
     "text": [
      "1\n",
      "3\n",
      "5\n",
      "7\n",
      "9\n",
      "11\n",
      "==================================================\n",
      "1\n",
      "3\n",
      "5\n",
      "7\n",
      "9\n"
     ]
    }
   ],
   "source": [
    "# continue\n",
    "\n",
    "# 홀수만 출력\n",
    "cnt = 0\n",
    "while cnt <= 10 :\n",
    "    cnt += 1\n",
    "    if cnt%2 == 0: # 짝수 판독\n",
    "        pass\n",
    "    else:\n",
    "        print(cnt)\n",
    "\n",
    "print('='*50)\n",
    "cnt = 0\n",
    "while cnt < 10 :\n",
    "    cnt += 1\n",
    "    if cnt%2 == 0: # 짝수 판독\n",
    "        continue  \n",
    "    print(cnt)"
   ]
  },
  {
   "cell_type": "code",
   "execution_count": 2,
   "id": "f96f5247",
   "metadata": {},
   "outputs": [
    {
     "name": "stdout",
     "output_type": "stream",
     "text": [
      "==================================================\n",
      "1 2 3 4 6 7 8 9 10 "
     ]
    }
   ],
   "source": [
    "# continue\n",
    "\n",
    "# 1~10 까지에서 5만 제외하고 출력하기\n",
    "\n",
    "cnt = 0\n",
    "while cnt < 10 :\n",
    "    cnt += 1\n",
    "    if cnt == 5:\n",
    "        continue\n",
    "    print(cnt, end=' ')"
   ]
  },
  {
   "cell_type": "code",
   "execution_count": 37,
   "id": "17c4cc03",
   "metadata": {},
   "outputs": [
    {
     "name": "stdout",
     "output_type": "stream",
     "text": [
      "아무값이나 입력. 종료시 x ....?  1\n",
      "아무값이나 입력. 종료시 x ....?  2\n",
      "아무값이나 입력. 종료시 x ....?  3\n",
      "아무값이나 입력. 종료시 x ....?  4\n",
      "아무값이나 입력. 종료시 x ....?  x\n",
      "입력 종료\n",
      "['1', '2', '3', '4']\n"
     ]
    }
   ],
   "source": [
    "# x를 입력하면 종료\n",
    "\n",
    "myList = []\n",
    "while True:\n",
    "    ans = input('아무값이나 입력. 종료시 x ....?  ').strip()\n",
    "    # while 블록을 탈출하는 조건\n",
    "    if ans == 'x':\n",
    "        break\n",
    "    else:\n",
    "        myList.append(ans)\n",
    "\n",
    "print('입력 종료')\n",
    "print(myList)"
   ]
  },
  {
   "cell_type": "markdown",
   "id": "6278ad50",
   "metadata": {},
   "source": [
    "### 반복문 2 (for)\n",
    "\n",
    "- `range(start, end , step)`\n",
    "    - start~ (end-1)까지 step 만큼 차례대로 숫자 생성\n",
    "    - range 객체로 생성되므로\n",
    "    - 실제 출력을 확인하려면 리스트, 튜플, 집합 형태로 자료형 변경\n",
    "\n",
    "- `for ... in`\n",
    "- `for .. range()`\n",
    "\n",
    "```python\n",
    "for 인덱스변수 in range(start,end,step):\n",
    "    명령문\n",
    "```\n"
   ]
  },
  {
   "cell_type": "code",
   "execution_count": 4,
   "id": "3af6e100",
   "metadata": {},
   "outputs": [
    {
     "name": "stdout",
     "output_type": "stream",
     "text": [
      "for 테스트 2\n",
      "1\n",
      "3\n",
      "5\n",
      "7\n",
      "9\n"
     ]
    }
   ],
   "source": [
    "# 1~10까지 홀수만 출력하기\n",
    "for i in range(1,11, 2):\n",
    "    print(i)"
   ]
  },
  {
   "cell_type": "code",
   "execution_count": 5,
   "id": "2370e221",
   "metadata": {},
   "outputs": [
    {
     "name": "stdout",
     "output_type": "stream",
     "text": [
      " 1 ~ 100 까지의 합은? 5050\n"
     ]
    }
   ],
   "source": [
    "# 1~100사이의 합 구하기\n",
    "# 1+2+3 ... + 100 = 5050\n",
    "total = 0\n",
    "for i in range(1,101):\n",
    "    # print(i)\n",
    "    total += i\n",
    "print(f' 1 ~ 100 까지의 합은? {total}')"
   ]
  },
  {
   "cell_type": "code",
   "execution_count": 6,
   "id": "b868d3ee",
   "metadata": {},
   "outputs": [
    {
     "name": "stdout",
     "output_type": "stream",
     "text": [
      " 1~10 모두 곱한 값? 3628800\n"
     ]
    }
   ],
   "source": [
    "# 1~10 모두 곱한 값 구하기\n",
    "# 1x2X...X10 = ?\n",
    "total = 1\n",
    "for i in range(1,11):\n",
    "    # print(i)\n",
    "    total *= i\n",
    "print(f' 1~10 모두 곱한 값? {total}')"
   ]
  },
  {
   "cell_type": "code",
   "execution_count": 8,
   "id": "55c84f4b",
   "metadata": {},
   "outputs": [
    {
     "name": "stdout",
     "output_type": "stream",
     "text": [
      "for 테스트 \n",
      "10\n",
      "9\n",
      "8\n",
      "7\n",
      "6\n",
      "5\n",
      "4\n",
      "3\n",
      "2\n",
      "1\n"
     ]
    }
   ],
   "source": [
    "# 10~1 까지 출력하기\n",
    "for i in range(10, 0, -1):\n",
    "    print(i)"
   ]
  },
  {
   "cell_type": "code",
   "execution_count": 43,
   "id": "88f8327f",
   "metadata": {},
   "outputs": [
    {
     "name": "stdout",
     "output_type": "stream",
     "text": [
      "1~25 까지 한줄에  5개씩 출력 \n",
      "1 2 3 4 5 \n",
      "6 7 8 9 10 \n",
      "11 12 13 14 15 \n",
      "16 17 18 19 20 \n",
      "21 22 23 24 25 \n"
     ]
    }
   ],
   "source": [
    "# for 문에서 조건문 실행\n",
    "# 1~25 까지 한줄에 5개씩 출력하기\n",
    "'''\n",
    "1 2 3 4 5\n",
    "6 7 8 9 10\n",
    "..\n",
    "21 22 23 24 25\n",
    "'''\n",
    "for i in range(1, 26):\n",
    "    print(i, end=' ')\n",
    "    if i%5 == 0: # 5의 배수\n",
    "        print()"
   ]
  },
  {
   "cell_type": "code",
   "execution_count": 10,
   "id": "01073a79",
   "metadata": {},
   "outputs": [
    {
     "name": "stdout",
     "output_type": "stream",
     "text": [
      "\n",
      " 1~27 까지 5의 배수만 빼고 출력하기 \n",
      "1 2 3 4 6 7 8 9 11 12 13 14 16 17 18 19 21 22 23 24 26 27 "
     ]
    }
   ],
   "source": [
    "# 1~27 에서 5의 배수만 빼고 출력하기\n",
    "for i in range(1, 28):\n",
    "    if i%5 == 0: # 5의 배수\n",
    "        continue\n",
    "    print(i, end=' ')"
   ]
  },
  {
   "cell_type": "code",
   "execution_count": 14,
   "id": "0fa16296",
   "metadata": {},
   "outputs": [
    {
     "name": "stdout",
     "output_type": "stream",
     "text": [
      "다중 for 테스트 \n",
      "====================\n",
      "Hello world 0\n",
      "Hello world 1\n",
      "Hello world 2\n",
      "Hello world 3\n",
      "Hello world 4\n",
      "====================\n",
      "Hello world 0\n",
      "Hello world 1\n",
      "Hello world 2\n",
      "Hello world 3\n",
      "Hello world 4\n",
      "====================\n",
      "Hello world 0\n",
      "Hello world 1\n",
      "Hello world 2\n",
      "Hello world 3\n",
      "Hello world 4\n"
     ]
    }
   ],
   "source": [
    "# 다중 for문과 range()\n",
    "'''\n",
    "===============\n",
    "  world ...\n",
    "  world ...\n",
    "  world ...\n",
    "'''\n",
    "for i in range(3):\n",
    "    print('='*20)\n",
    "    for j in range(5):\n",
    "        print('Hello world', j)"
   ]
  },
  {
   "cell_type": "code",
   "execution_count": 15,
   "id": "d55f3f82",
   "metadata": {},
   "outputs": [
    {
     "name": "stdout",
     "output_type": "stream",
     "text": [
      "다중 for 문을 이용하여 구구단 출력 \n",
      "==  2 단 == \n",
      " 2 X 1 = 2\n",
      " 2 X 2 = 4\n",
      " 2 X 3 = 6\n",
      " 2 X 4 = 8\n",
      " 2 X 5 = 10\n",
      " 2 X 6 = 12\n",
      " 2 X 7 = 14\n",
      " 2 X 8 = 16\n",
      " 2 X 9 = 18\n",
      "==  3 단 == \n",
      " 3 X 1 = 3\n",
      " 3 X 2 = 6\n",
      " 3 X 3 = 9\n",
      " 3 X 4 = 12\n",
      " 3 X 5 = 15\n",
      " 3 X 6 = 18\n",
      " 3 X 7 = 21\n",
      " 3 X 8 = 24\n",
      " 3 X 9 = 27\n",
      "==  4 단 == \n",
      " 4 X 1 = 4\n",
      " 4 X 2 = 8\n",
      " 4 X 3 = 12\n",
      " 4 X 4 = 16\n",
      " 4 X 5 = 20\n",
      " 4 X 6 = 24\n",
      " 4 X 7 = 28\n",
      " 4 X 8 = 32\n",
      " 4 X 9 = 36\n",
      "==  5 단 == \n",
      " 5 X 1 = 5\n",
      " 5 X 2 = 10\n",
      " 5 X 3 = 15\n",
      " 5 X 4 = 20\n",
      " 5 X 5 = 25\n",
      " 5 X 6 = 30\n",
      " 5 X 7 = 35\n",
      " 5 X 8 = 40\n",
      " 5 X 9 = 45\n",
      "==  6 단 == \n",
      " 6 X 1 = 6\n",
      " 6 X 2 = 12\n",
      " 6 X 3 = 18\n",
      " 6 X 4 = 24\n",
      " 6 X 5 = 30\n",
      " 6 X 6 = 36\n",
      " 6 X 7 = 42\n",
      " 6 X 8 = 48\n",
      " 6 X 9 = 54\n",
      "==  7 단 == \n",
      " 7 X 1 = 7\n",
      " 7 X 2 = 14\n",
      " 7 X 3 = 21\n",
      " 7 X 4 = 28\n",
      " 7 X 5 = 35\n",
      " 7 X 6 = 42\n",
      " 7 X 7 = 49\n",
      " 7 X 8 = 56\n",
      " 7 X 9 = 63\n",
      "==  8 단 == \n",
      " 8 X 1 = 8\n",
      " 8 X 2 = 16\n",
      " 8 X 3 = 24\n",
      " 8 X 4 = 32\n",
      " 8 X 5 = 40\n",
      " 8 X 6 = 48\n",
      " 8 X 7 = 56\n",
      " 8 X 8 = 64\n",
      " 8 X 9 = 72\n",
      "==  9 단 == \n",
      " 9 X 1 = 9\n",
      " 9 X 2 = 18\n",
      " 9 X 3 = 27\n",
      " 9 X 4 = 36\n",
      " 9 X 5 = 45\n",
      " 9 X 6 = 54\n",
      " 9 X 7 = 63\n",
      " 9 X 8 = 72\n",
      " 9 X 9 = 81\n"
     ]
    }
   ],
   "source": [
    "print('다중 for 문을 이용하여 구구단 출력 ')\n",
    "# 아래의 while 반복문을 for 문을 이용하여 수정하여라.\n",
    "# cnt1 = 2\n",
    "# while cnt1<=9:\n",
    "#     print(f' { cnt1 } 단')\n",
    "#\n",
    "#     cnt2 = 1\n",
    "#     while cnt2<=9:\n",
    "#         print(f' {cnt1} X {cnt2} = {cnt1*cnt2}')\n",
    "#         cnt2 += 1\n",
    "#\n",
    "#     print('-'*20)\n",
    "#     cnt1 += 1\n",
    "\n",
    "\n",
    "for cnt1 in range(2, 10):\n",
    "    print('== ', cnt1, '단 == ')\n",
    "    for cnt2 in range(1, 10):\n",
    "        # print('%d X %d = %d' % (cnt1, cnt2, cnt1 * cnt2))\n",
    "        print(f' {cnt1} X {cnt2} = {cnt1 * cnt2}')\n"
   ]
  },
  {
   "cell_type": "markdown",
   "id": "aafa06fd",
   "metadata": {},
   "source": [
    "### List comprehension\n",
    "- 리스트 for = 리스트 내포 (List comprehension)\n",
    "    - 리스트 안에 for 문이 내포된 형태\n",
    "    - 결과값으로 구성된 리스트가 생성된다.\n",
    "    - `리스트변수 = [ 결과값 for 명령문 ]`\n",
    "    - `[listItem Command for listItem in range(startNum, endNum)]`\n",
    "   \n",
    "   \n",
    "- 리스트 내포(List comprehension)의 기본적인 구조\n",
    "\n",
    "```python\n",
    "[ 표현식 for 항목 in 반복가능한 객체 if 조건 ] \n",
    "    위에서 if조건은 생략이 가능하다.\n",
    "```\n",
    "\n",
    "```python\n",
    "[표현식 for 항목1 in 반복가능한객체1 if 조건1 \n",
    "    for 항목2 in 반복가능한객체2 if 조건2\n",
    "```"
   ]
  },
  {
   "cell_type": "code",
   "execution_count": 20,
   "id": "b1e9ca47",
   "metadata": {},
   "outputs": [
    {
     "name": "stdout",
     "output_type": "stream",
     "text": [
      "myList3 = [3, 6, 9, 12, 15, 18, 21, 24, 27] \n",
      "myList4 = [2, 5, 8, 11, 14, 17, 20, 23, 26] \n"
     ]
    }
   ],
   "source": [
    "# 3단의 결과값으로 리스트를 만들어라\n",
    "\n",
    "# 3단의 결과값에서 -1 한 값으로 리스트를 만들어라\n",
    "\n",
    "# 아래와 같은 형태로 리스트를 만들어라\n",
    "# ['*', '**', '***' .... ,'**********']\n",
    "\n",
    "# myList3 = []\n",
    "# for i in range(1,10):\n",
    "#     myList3.append(3*i)\n",
    "\n",
    "myList3 = [3*i for i in range(1,10)]\n",
    "print(f'myList3 = {myList3} ')\n",
    "\n",
    "# 3단의 결과값에서 -1 한 값으로 리스트를 만들어라\n",
    "myList4 = [3*i-1 for i in range(1,10)]\n",
    "print(f'myList4 = {myList4} ')"
   ]
  },
  {
   "cell_type": "code",
   "execution_count": 22,
   "id": "b79b85cb",
   "metadata": {},
   "outputs": [
    {
     "name": "stdout",
     "output_type": "stream",
     "text": [
      " myList5 = ['*', '**', '***', '****', '*****', '******', '*******', '********', '*********'] \n"
     ]
    }
   ],
   "source": [
    "# 퀴즈 : 아래와 같은 형태로 리스트를 만들어라\n",
    "# ['*', '**', '***' .... ,'**********']\n",
    "# myList5 = []\n",
    "# for i in range(1,10):\n",
    "#     myList5.append('*'*i)\n",
    "\n",
    "myList5 = ['*'*i for i in range(1,10)]\n",
    "print(f'myList5 = {myList5} ')"
   ]
  },
  {
   "cell_type": "markdown",
   "id": "a9d65fca",
   "metadata": {},
   "source": [
    "- 리스트 다중 for\n",
    "    - 리스트안에 이중 for문이 있는 형태\n",
    "    - `리스트변수 = [ 결과값 for 명령문1 for 명령문2 ]`"
   ]
  },
  {
   "cell_type": "code",
   "execution_count": 29,
   "id": "2aa5f0a4",
   "metadata": {},
   "outputs": [
    {
     "name": "stdout",
     "output_type": "stream",
     "text": [
      "리스트 다중 for\n",
      "myList6 = [2, 4, 6, 8, 10, 12, 14, 16, 18, 3, 6, 9, 12, 15, 18, 21, 24, 27, 4, 8, 12, 16, 20, 24, 28, 32, 36, 5, 10, 15, 20, 25, 30, 35, 40, 45, 6, 12, 18, 24, 30, 36, 42, 48, 54, 7, 14, 21, 28, 35, 42, 49, 56, 63, 8, 16, 24, 32, 40, 48, 56, 64, 72, 9, 18, 27, 36, 45, 54, 63, 72, 81] \n"
     ]
    }
   ],
   "source": [
    "# 구구단의 결과값을 리스트로 추가\n",
    "print('리스트 다중 for')\n",
    "myList6 = []\n",
    "# for cnt1 in range(2, 10):\n",
    "#     for cnt2 in range(1, 10):\n",
    "#         myList6.append(cnt1 * cnt2)   \n",
    "# print(f'myList6 = {myList6} ')\n",
    "\n",
    "myList6 = [ cnt1 * cnt2 for cnt1 in range(2, 10) for cnt2 in range(1, 10)]\n",
    "print(f'myList6 = {myList6} ')"
   ]
  },
  {
   "cell_type": "markdown",
   "id": "fb5de9c6",
   "metadata": {},
   "source": [
    "- 리스트 내포 => for 문 + if 문\n",
    "    - 리스트안에  for문 if 문이 있는 형태\n",
    "    - `리스트변수 = [ 결과값 for 명령문1 if 명령문2 ]`"
   ]
  },
  {
   "cell_type": "code",
   "execution_count": 34,
   "id": "27f720d5",
   "metadata": {},
   "outputs": [
    {
     "name": "stdout",
     "output_type": "stream",
     "text": [
      "myList7 = [] \n",
      "myList7 = [10, 20, 30, 40] \n"
     ]
    }
   ],
   "source": [
    "# 구구단 5단의 결과값 중에서 짝수만 리스트에 추가하는 예\n",
    "myList7 = []\n",
    "# for i in range(1,10):\n",
    "#     if (5*i) % 2 == 0:\n",
    "#         myList7.append(5*i)\n",
    "print(f'myList7 = {myList7} ')\n",
    "\n",
    "myList7 = [ 5*i for i in range(1,10) if (5*i) % 2 == 0]\n",
    "print(f'myList7 = {myList7} ')"
   ]
  },
  {
   "cell_type": "code",
   "execution_count": 42,
   "id": "66c79377",
   "metadata": {},
   "outputs": [
    {
     "name": "stdout",
     "output_type": "stream",
     "text": [
      "myList8 = [1, 2, 3, 4, 6, 7, 8, 9, 11, 12, 13, 14, 16, 17, 18, 19, 21, 22, 23, 24, 26, 27, 28, 29] \n"
     ]
    }
   ],
   "source": [
    "# 1~30까지 숫자중에서 5의 배수를 제외하고 리스트로 생성하여라\n",
    "# for i in range(1, 31):\n",
    "#     if i%5 != 0:\n",
    "#         myList8 .append(i)\n",
    "# [i for i in range(1,31) if (i%5!=0)]\n",
    "\n",
    "myList8 = [i for i in range(1, 31) if not i%5 == 0]\n",
    "print(f'myList8 = {myList8} ')"
   ]
  },
  {
   "cell_type": "code",
   "execution_count": 44,
   "id": "fe74ed0a",
   "metadata": {},
   "outputs": [
    {
     "name": "stdout",
     "output_type": "stream",
     "text": [
      "myList9  =  ['Hello1', 'Hello2', 'Hello3', 'Hello4', 'Hello5', 'Hello6', 'Hello7', 'Hello8', 'Hello9', 'Hello10']\n"
     ]
    }
   ],
   "source": [
    "# Hello1 ~ Hello10\n",
    "# Hello1-1, Hello1-2 ~ Hello10-10\n",
    "myList9 = [ 'Hello' + str(i) for i in range(1, 11) ]\n",
    "print('myList9  = ', myList9 )"
   ]
  },
  {
   "cell_type": "markdown",
   "id": "4f916e83",
   "metadata": {},
   "source": [
    "- 자료형의 각 요소 값을 순차적으로 출력\n",
    "```python\n",
    "for 변수 in 리스트(또는 튜플, 문자열): \n",
    "    수행할 문장1\n",
    "    수행할 문장2\n",
    "```\n"
   ]
  },
  {
   "cell_type": "code",
   "execution_count": 45,
   "id": "19763011",
   "metadata": {},
   "outputs": [
    {
     "name": "stdout",
     "output_type": "stream",
     "text": [
      "1 구로동\n",
      "2 신림동\n",
      "3 서초동\n",
      "4 역삼동\n",
      "5 해운대동\n"
     ]
    }
   ],
   "source": [
    "# 리스트를 생성하고 아이템을 출력하여라\n",
    "myList1 = ['구로동', '신림동', '서초동', '역삼동', '해운대동']\n",
    "\n",
    "cnt = 1\n",
    "for item in myList1:\n",
    "    print(cnt, item)\n",
    "    cnt += 1"
   ]
  },
  {
   "cell_type": "code",
   "execution_count": 48,
   "id": "409f691b",
   "metadata": {},
   "outputs": [
    {
     "name": "stdout",
     "output_type": "stream",
     "text": [
      "가\n",
      "나\n",
      "다\n",
      "라\n",
      "마\n",
      "바\n",
      "사\n",
      "\t 가\n",
      "\t\t 나\n",
      "\t\t\t 다\n",
      "\t\t\t\t 라\n",
      "\t\t\t\t\t 마\n",
      "\t\t\t\t\t\t 바\n",
      "\t\t\t\t\t\t\t 사\n"
     ]
    }
   ],
   "source": [
    "# 문자열을 한줄에 한글자씩 출력하여라\n",
    "myText1 = '가나다라마바사'\n",
    "for ch in myText1:\n",
    "    print(ch)\n",
    "    \n",
    "#  문자열 사선 출력 \n",
    "cnt = 1\n",
    "for ch in myText1:\n",
    "    print('\\t'*cnt, ch)\n",
    "    cnt += 1"
   ]
  },
  {
   "cell_type": "code",
   "execution_count": 49,
   "id": "a74d6759",
   "metadata": {},
   "outputs": [
    {
     "name": "stdout",
     "output_type": "stream",
     "text": [
      "55 => 불합격\n",
      "78 => 합격\n",
      "90 => 합격\n",
      "100 => 합격\n",
      "45 => 불합격\n"
     ]
    }
   ],
   "source": [
    "# 60점이 넘으면 합격이고 그렇지 않으면 불합격\n",
    "myTuple1 = ( 55, 78, 90, 100, 45)\n",
    "for score in myTuple1:\n",
    "    if score >= 60:\n",
    "        print(f'{score} => 합격')\n",
    "    else:\n",
    "        print(f'{score} => 불합격')"
   ]
  },
  {
   "cell_type": "markdown",
   "id": "80fbb7c9",
   "metadata": {},
   "source": [
    "\n",
    "-  다중 리스트와 for\n",
    "    - 리스트안에 삽입되어 있는 리스트의 갯수가 같아야 한다.\n",
    "```python\n",
    "for (i, j...) in 다중리스트:\n",
    "  명령문\n",
    "```\n",
    "    - 다양한 for문의 사용: 튜플이용\n",
    "```python\n",
    "aa = [('a', 'b'), ('c', 'd'), ('e', 'f')] \n",
    "for (i, j) in aa:\n",
    "    print(i+j)\n",
    "```\n",
    "\n",
    "    - for 를 이용한 딕셔너리 요소 출력\n",
    "```python\n",
    "for 키변수 in 딕셔너리:\n",
    "    명령문\n",
    "myDict = {1:'일', 100:'백', 50:'오십', 1000:'천'}\n",
    "for key in myDict:\n",
    "    print(key, '=>',myDict[key])\n",
    "```"
   ]
  },
  {
   "cell_type": "code",
   "execution_count": 50,
   "id": "e6eca215",
   "metadata": {},
   "outputs": [
    {
     "name": "stdout",
     "output_type": "stream",
     "text": [
      "홍길동\n",
      "==============================\n",
      " i = 1, j = 2\n",
      " i = a, j = b\n",
      " i = 홍길동, j = 춘향이\n"
     ]
    }
   ],
   "source": [
    "# 3행 2열 스타일의 중첩리스트 생성\n",
    "listMulti1 = [[1, 2],\n",
    "              ['a', 'b'],\n",
    "              ['홍길동', '춘향이']]\n",
    "print(listMulti1[2][0])\n",
    "\n",
    "print('='*30)\n",
    "for (i, j) in listMulti1:\n",
    "    print(f' i = { i }, j = { j }')"
   ]
  },
  {
   "cell_type": "code",
   "execution_count": 76,
   "id": "25d57b15",
   "metadata": {},
   "outputs": [
    {
     "name": "stdout",
     "output_type": "stream",
     "text": [
      "학생이름  국어  영어  수학  합계  평균\n",
      "김태희    30   50   55  135  45.0\n",
      "신민아    50   90   80  220  73.3\n",
      "박지민    50   90   40  180  60.0\n",
      "김소희    60   50   56  166  55.3\n",
      "윤준희    90   88   66  244  81.3\n"
     ]
    }
   ],
   "source": [
    "# 퀴즈 : 학생이름, 국어, 영어, 수학 으로 구성된\n",
    "# 2차원 리스트를 생성한다.\n",
    "# 출력형식은 아래와 같이 한다.\n",
    "'''\n",
    "학생이름  국어  영어  수학  합계  평균\n",
    "김태희     30   40   100   ?     ?\n",
    "...\n",
    "'''\n",
    "\n",
    "stGradeList = [['김태희', 30, 50, 55],\n",
    "               ['신민아', 50, 90, 80],\n",
    "               ['박지민', 50, 90, 40],\n",
    "               ['김소희', 60, 50, 56],\n",
    "               ['윤준희', 90, 88, 66]]\n",
    "\n",
    "print(f'학생이름  국어  영어  수학  합계  평균')\n",
    "for (i, j, x, y) in stGradeList:\n",
    "    print(f'{ i }    { j }   { x }   { y }  {j+x+y}  {((j+x+y)/3):.1f}')"
   ]
  },
  {
   "cell_type": "code",
   "execution_count": 83,
   "id": "48695b54",
   "metadata": {},
   "outputs": [
    {
     "name": "stdout",
     "output_type": "stream",
     "text": [
      "1 => 일\n",
      "100 => 백\n",
      "50 => 오십\n",
      "1000 => 천\n"
     ]
    }
   ],
   "source": [
    "# 딕셔너리 요소 출력\n",
    "myDict = {1:'일', 100:'백', 50:'오십', 1000:'천'}\n",
    "for key in myDict:\n",
    "    print(key, '=>',myDict[key])\n"
   ]
  },
  {
   "cell_type": "code",
   "execution_count": 82,
   "id": "9dea3581",
   "metadata": {},
   "outputs": [
    {
     "name": "stdout",
     "output_type": "stream",
     "text": [
      "{} <class 'dict'>\n",
      "{1: 10, 2: 20, 3: 30, 4: 40, 5: 50} <class 'dict'>\n",
      " key = 1  value = 10\n",
      " key = 2  value = 20\n",
      " key = 3  value = 30\n",
      " key = 4  value = 40\n",
      " key = 5  value = 50\n"
     ]
    }
   ],
   "source": [
    "# 빈 딕셔너리를 생성하고 숫자키와 값(키*10) 으로 딕셔너리 요소를 추가한다.\n",
    "myDict2 = {}\n",
    "print(myDict2, type(myDict2)) # {} <class 'dict'>\n",
    "\n",
    "for i in range(1, 6):\n",
    "    myDict2[i] = i*10\n",
    "print(myDict2, type(myDict2))\n",
    "\n",
    "# 출력\n",
    "for key in myDict2:\n",
    "    print(f' key = {key}  value = {myDict2[key]}')"
   ]
  },
  {
   "cell_type": "code",
   "execution_count": null,
   "id": "936fc316",
   "metadata": {},
   "outputs": [],
   "source": []
  }
 ],
 "metadata": {
  "kernelspec": {
   "display_name": "Python 3 (ipykernel)",
   "language": "python",
   "name": "python3"
  },
  "language_info": {
   "codemirror_mode": {
    "name": "ipython",
    "version": 3
   },
   "file_extension": ".py",
   "mimetype": "text/x-python",
   "name": "python",
   "nbconvert_exporter": "python",
   "pygments_lexer": "ipython3",
   "version": "3.10.1"
  }
 },
 "nbformat": 4,
 "nbformat_minor": 5
}
