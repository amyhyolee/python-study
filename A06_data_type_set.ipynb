{
 "cells": [
  {
   "cell_type": "markdown",
   "id": "f24d1152",
   "metadata": {},
   "source": [
    "# 자료형 : Set (집합)\n",
    "## 2022.01.20"
   ]
  },
  {
   "cell_type": "markdown",
   "id": "a4d9dd0e",
   "metadata": {},
   "source": [
    "### 자료형의 종류\n",
    "- 기본 자료형 - 문자열, 정수, 실수, 불린형\n",
    "- 집합형 자료형=콜렉션 : 여러개의 구성요소로 조직화\n",
    "    - : 리스트 [ ], 튜플 ( ), 딕셔너리 { }, 집합{ }\n",
    "- CRUD : Create Read Update Delete"
   ]
  },
  {
   "cell_type": "markdown",
   "id": "910d47a2",
   "metadata": {},
   "source": [
    "### D. Set (집합)\n",
    "\n",
    "- 특징\n",
    "    - 집합에 관련된 것들을 쉽게 처리하기 위해 만들어진 자료형\n",
    "    - 중복을 허용하지 않는다.\n",
    "    - 순서가 없다(Unordered)\n",
    "    - 인덱싱이 불가능하다. 슬라이싱 불가능하다.\n",
    "    - 중복값을 허용할까요? => 1개만 표시\n",
    "- 집합 자료형 선언하기\n",
    "    - `set()` 을 이용하여 객체 선언 집합이름 = `set( [ data1, data2... ])`\n",
    "    - `집합변수 = set(리스트/문자열/튜플)`\n",
    "- 집합 자료형 출력하기 집합이름 = `{ data1, data2... }`"
   ]
  },
  {
   "cell_type": "code",
   "execution_count": 2,
   "id": "09af15db",
   "metadata": {},
   "outputs": [
    {
     "name": "stdout",
     "output_type": "stream",
     "text": [
      " s1  = set()  type = <class 'set'>  length = 0\n",
      " s2  = {'과학', '국어', '수학', '영어'}  type = <class 'set'>  length = 4\n",
      " s3  = {34, 99, 100, 77, 56, 88}  type = <class 'set'>  length = 6\n",
      " s4  = {'사', '가', '나', '바', '아', '라', '다', '마'}  type = <class 'set'>  length = 8\n",
      " s5  = {False, True, 3.14, 500, 'Python', 'C++'}  type = <class 'set'>  length = 6\n"
     ]
    }
   ],
   "source": [
    "s1 = set()\n",
    "s2 = set(['수학', '국어', '과학', '영어'])\n",
    "s3 = set((100, 34, 56, 77, 77, 88, 99, 99))\n",
    "s4 = set('가나다라마바사아')\n",
    "s5 = { True, False, 'Python', 'C++', 3.14, 500}\n",
    "print(f' s1  = {s1}  type = {type(s1)}  length = {len(s1)}')\n",
    "print(f' s2  = {s2}  type = {type(s2)}  length = {len(s2)}')\n",
    "print(f' s3  = {s3}  type = {type(s3)}  length = {len(s3)}')\n",
    "print(f' s4  = {s4}  type = {type(s4)}  length = {len(s4)}')\n",
    "print(f' s5  = {s5}  type = {type(s5)}  length = {len(s5)}')"
   ]
  },
  {
   "cell_type": "markdown",
   "id": "7a69c6e7",
   "metadata": {},
   "source": [
    "- **집합 인덱싱**\n",
    "    - 리스트 튜플은 순서가 있다. 따라서, 인덱싱을 이용하여 값을 얻어올 수 있다. \n",
    "    - 하지만, 집합은 순서가 없기 때문에 인덱싱으로 값을 얻어올 수 없다.\n",
    "    - 집합과 딕셔너리는 인덱싱을 지원하지 않는다.\n",
    "    - 집합에 저장된 값을 인덱싱으로 접근하기 위해서는 리스트나 튜플로 변환해야 한다."
   ]
  },
  {
   "cell_type": "markdown",
   "id": "6aa49094",
   "metadata": {},
   "source": [
    "- 딕셔너리를 집합으로 선언할 수 있을까?\n",
    "    - 딕셔너리의 키로 구성된 집합이 생성된다. "
   ]
  },
  {
   "cell_type": "code",
   "execution_count": 3,
   "id": "f45899cb",
   "metadata": {},
   "outputs": [
    {
     "name": "stdout",
     "output_type": "stream",
     "text": [
      " s6  = {'a', 'b', 'c'}  type = <class 'set'>  length = 3\n"
     ]
    }
   ],
   "source": [
    "s6 = set({'a':100, 'b':200, 'c':300})\n",
    "print(f' s6  = {s6}  type = {type(s6)}  length = {len(s6)}')"
   ]
  },
  {
   "cell_type": "markdown",
   "id": "b1c0e3bf",
   "metadata": {},
   "source": [
    "- 집합의 요소 추가\n",
    "    - 값 1개 추가하기 (add)\n",
    "        - `집합변수.add(값)`\n",
    "    - 값 여러 개 추가하기 (update)\n",
    "        - `집합변수.update([값1, 값2...])`"
   ]
  },
  {
   "cell_type": "code",
   "execution_count": 5,
   "id": "450d0899",
   "metadata": {},
   "outputs": [
    {
     "name": "stdout",
     "output_type": "stream",
     "text": [
      " s1  = set()  type = <class 'set'>  length = 0\n",
      " s1  = {'블루베리', '사과', '체리'}  type = <class 'set'>  length = 3\n",
      " s1  = {'사과', 100, 7.898, '블루베리', 400, '체리'}  type = <class 'set'>  length = 6\n"
     ]
    }
   ],
   "source": [
    "s1 = set()\n",
    "print(f' s1  = {s1}  type = {type(s1)}  length = {len(s1)}')\n",
    "s1.add('체리')\n",
    "s1.add('사과')\n",
    "s1.add('블루베리')\n",
    "print(f' s1  = {s1}  type = {type(s1)}  length = {len(s1)}')\n",
    "\n",
    "s1.update([100, 400, 7.898])\n",
    "print(f' s1  = {s1}  type = {type(s1)}  length = {len(s1)}')"
   ]
  },
  {
   "cell_type": "markdown",
   "id": "f1059759",
   "metadata": {},
   "source": [
    "- 집합의 요소 삭제\n",
    "    - `집합변수.remove(값)`\n",
    "    - `집합변수.pop()` : 랜덤하게 삭제\n",
    "    - `집합명.discard(값)` : 집합내에 없는 항목을 제거 할 때는 에러가 발생하지 않는다.\n",
    "    \n",
    "\n",
    "- 집합의 모든 값 제거하기\n",
    "    - `집합변수.clear()` "
   ]
  },
  {
   "cell_type": "code",
   "execution_count": 6,
   "id": "6bf3d810",
   "metadata": {},
   "outputs": [
    {
     "name": "stdout",
     "output_type": "stream",
     "text": [
      " s1  = set()  type = <class 'set'>  length = 0\n",
      " s1  = {'블루베리', '사과', '체리'}  type = <class 'set'>  length = 3\n",
      " s1  = {'사과', 100, 7.898, '블루베리', 400, '체리'}  type = <class 'set'>  length = 6\n",
      " s1  = {'사과', 100, 7.898, 400, '체리'}  type = <class 'set'>  length = 5\n",
      " s1  = {7.898, 400, '체리'}  type = <class 'set'>  length = 3\n"
     ]
    }
   ],
   "source": [
    "s1 = set()\n",
    "print(f' s1  = {s1}  type = {type(s1)}  length = {len(s1)}')\n",
    "s1.add('체리')\n",
    "s1.add('사과')\n",
    "s1.add('블루베리')\n",
    "print(f' s1  = {s1}  type = {type(s1)}  length = {len(s1)}')\n",
    "s1.update([100, 400, 7.898])\n",
    "print(f' s1  = {s1}  type = {type(s1)}  length = {len(s1)}')\n",
    "s1.remove('블루베리')\n",
    "print(f' s1  = {s1}  type = {type(s1)}  length = {len(s1)}')\n",
    "s1.pop()\n",
    "s1.pop()\n",
    "print(f' s1  = {s1}  type = {type(s1)}  length = {len(s1)}')"
   ]
  },
  {
   "cell_type": "markdown",
   "id": "d3e2c47e",
   "metadata": {},
   "source": [
    "- 집합의 연산\n",
    "    - +, * => 불가능\n",
    "    - **집합 합치기 = 합집합**\n",
    "        - 집합변수3 = `집합변수1|집합변수2`\n",
    "        - 집합변수3 = `집합변수1.union(집합변수2)`\n",
    "    - **차집합**\n",
    "        - 집합변수3 = `집합변수1-집합변수2`\n",
    "        - 집합변수3 = `집합변수1.difference(집합변수2)`\n",
    "    - **교집합**\n",
    "        - 집합변수3 = `집합변수1&집합변수2`\n",
    "        - 집합변수3 = `집합변수1.intersection(집합변수2)`\n",
    "         \n",
    "    - **대칭차집합 = 합집합-교집합**\n",
    "        - 집합변수3 = `집합변수1^집합변수2`\n",
    "        - 집합변수3 = `집합변수1.symmetric_difference(집합변수2)`"
   ]
  },
  {
   "cell_type": "code",
   "execution_count": 11,
   "id": "41447c96",
   "metadata": {},
   "outputs": [
    {
     "name": "stdout",
     "output_type": "stream",
     "text": [
      "set1  = {'고양이', '늑대', '여우', '호랑이'}  length = 4\n",
      "set2  = {'원숭이', '늑대', '여우', '고양이', '백호랑이', '강아지'}  length = 6\n",
      "합집합 => {'호랑이', '늑대', '고양이', '강아지', '여우', '원숭이', '백호랑이'}  length = 7\n",
      "합집합 => {'호랑이', '늑대', '고양이', '강아지', '여우', '원숭이', '백호랑이'}  length = 7\n",
      "교집합 => {'고양이', '여우', '늑대'}  length = 3\n",
      "교집합 => {'고양이', '여우', '늑대'}  length = 3\n",
      "차집합 => {'백호랑이', '강아지', '원숭이'}  length = 3\n",
      "차집합 => {'백호랑이', '강아지', '원숭이'}  length = 3\n",
      "차집합2 => {'호랑이'}  length = 1\n",
      "차집합2 => {'호랑이'}  length = 1\n",
      "대칭차집합 => {'호랑이', '강아지', '원숭이', '백호랑이'}  length = 4\n",
      "대칭차집합 => {'호랑이', '강아지', '원숭이', '백호랑이'}  length = 4\n"
     ]
    }
   ],
   "source": [
    "set1 = { '호랑이', '늑대', '여우', '고양이'}\n",
    "set2 = { '백호랑이', '늑대', '여우', '고양이', '강아지', '원숭이'}\n",
    "print(f'set1  = {set1}  length = {len(set1)}')\n",
    "print(f'set2  = {set2}  length = {len(set2)}')\n",
    "print(f'합집합 => {set1|set2}  length = {len(set1|set2)}')\n",
    "print(f'합집합 => {set1.union(set2)}  length = {len(set1.union(set2))}')\n",
    "print(f'교집합 => {set1&set2}  length = {len(set1&set2)}')\n",
    "print(f'교집합 => {set1.intersection(set2)}  length = {len(set1.intersection(set2))}')\n",
    "print(f'차집합 => {set2-set1}  length = {len(set2-set1)}')\n",
    "print(f'차집합 => {set2.difference(set1)}  length = {len(set2.difference(set1))}')\n",
    "print(f'차집합2 => {set1-set2}  length = {len(set1-set2)}')\n",
    "print(f'차집합2 => {set1.difference(set2)}  length = {len(set1.difference(set2))}')\n",
    "print(f'대칭차집합 => {set2^set1}  length = {len(set2^set1)}')\n",
    "print(f'대칭차집합 => {set2.symmetric_difference(set1)}  length = {len(set2.symmetric_difference(set1))}')"
   ]
  },
  {
   "cell_type": "markdown",
   "id": "58a0a892",
   "metadata": {},
   "source": [
    "- 캐스팅 테스트\n",
    "    - 집합 => 문자열 `join()`, `str()`\n",
    "    - 집합 => 리스트 `list()`\n",
    "    - 집합 => 튜플 `tuple()`\n",
    "    - 집합 => 딕셔너리 `dict()`, `enumerate()`"
   ]
  },
  {
   "cell_type": "code",
   "execution_count": 13,
   "id": "08b2d69a",
   "metadata": {},
   "outputs": [
    {
     "name": "stdout",
     "output_type": "stream",
     "text": [
      " animal  = {'호랑이', '늑대', '원숭이', '고양이', '여우', '백호랑이', '강아지'}  type = <class 'set'>  length = 7\n",
      " animal_txt  = 호랑이 늑대 원숭이 고양이 여우 백호랑이 강아지  type = <class 'str'>  length = 26\n",
      " animal_list  = ['호랑이', '늑대', '원숭이', '고양이', '여우', '백호랑이', '강아지']  type = <class 'list'>  length = 7\n",
      " animal_dict  = {0: '호랑이', 1: '늑대', 2: '원숭이', 3: '고양이', 4: '여우', 5: '백호랑이', 6: '강아지'}  type = <class 'dict'>  length = 7\n"
     ]
    }
   ],
   "source": [
    "animal = {'늑대', '여우', '원숭이', '백호랑이', '고양이', '강아지', '호랑이'}\n",
    "print(f' animal  = {animal}  type = {type(animal)}  length = {len(animal)}')\n",
    "animal_txt = ' '.join(animal)\n",
    "print(f' animal_txt  = {animal_txt}  type = {type(animal_txt)}  length = {len(animal_txt)}')\n",
    "animal_list = list(animal)\n",
    "print(f' animal_list  = {animal_list}  type = {type(animal_list)}  length = {len(animal_list)}')\n",
    "animal_dict = dict(enumerate(animal))\n",
    "print(f' animal_dict  = {animal_dict}  type = {type(animal_dict)}  length = {len(animal_dict)}')"
   ]
  },
  {
   "cell_type": "code",
   "execution_count": null,
   "id": "b97152b4",
   "metadata": {},
   "outputs": [],
   "source": []
  }
 ],
 "metadata": {
  "kernelspec": {
   "display_name": "Python 3 (ipykernel)",
   "language": "python",
   "name": "python3"
  },
  "language_info": {
   "codemirror_mode": {
    "name": "ipython",
    "version": 3
   },
   "file_extension": ".py",
   "mimetype": "text/x-python",
   "name": "python",
   "nbconvert_exporter": "python",
   "pygments_lexer": "ipython3",
   "version": "3.10.1"
  }
 },
 "nbformat": 4,
 "nbformat_minor": 5
}
