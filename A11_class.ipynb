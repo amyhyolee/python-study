{
 "cells": [
  {
   "cell_type": "markdown",
   "id": "c5672d26",
   "metadata": {},
   "source": [
    "### 클래스 ( 속성, 메서드 ...) => 틀, 설계도 \n",
    "- 인스턴스 = 객체 = Object\n",
    "    - 클래스에 의해서 만들어진 산출물\n",
    "\n",
    "- 클래스란? \n",
    "    - 똑같은 무엇인가를 계속해서 만들어낼 수 있는 설계 도면\n",
    "    - 다수의 변수와 다수의 함수 집합\n",
    "    - 고유한 특성안에서 변경은 가능\n",
    "    - 설계도/틀 -> 붕어빵틀\n",
    "    - 인스턴스(객체) -> 붕어빵\n",
    "\n",
    "- 클래스(Class)의 장점\n",
    "    1. 코드의 재사용 \n",
    "    2. 구조화\n",
    "    3. 업데이트 용이 \n",
    "    4. 코딩의 단순화\n",
    "    - 클래스는 비효율의 극복하기 위한 것!\n",
    "    \n",
    "- 클래스 생성 문법\n",
    "    - 클래스이름은 첫글자는 대문자로 지정\n",
    "    ```python\n",
    "        class 클래스이름:\n",
    "            명령문\n",
    "     ```"
   ]
  },
  {
   "cell_type": "markdown",
   "id": "d9460c06",
   "metadata": {},
   "source": [
    "- 클래스 사례#1 붕어빵 설명\n",
    "> \"붕어빵 장사를 시작했다. 한 땀 한 땀 장인정신으로 붕어빵을 만들고 있다.\" \"옆에서 붕어빵틀로 마구마구 붕어빵을 만들어 낸다. 나도 붕어빵 틀이 필요 해ᅲ_ᅲ\"\n",
    ">\n",
    "> 완벽하게 같지는 않지만 붕어빵을 찍어낼 수 있는 붕어빵 틀은 클래스이고 붕어빵은 붕어빵 틀을 구체화(instance)한 객체(object)이다.\n",
    ">\n",
    "> 붕어빵(객체)의 추상화가 붕어빵 틀(클래스)\n",
    ">\n",
    "> 고유한 특성 안에서는 변경은 가능\n",
    ">\n",
    "> 속 재료를 달리 넣을 순 있어도 붕어빵 틀에서 사과, 금이 나오진 않는다."
   ]
  },
  {
   "cell_type": "markdown",
   "id": "0d36014a",
   "metadata": {},
   "source": [
    "### 클래스 개요\n",
    "- 객체(Object) = 속성(Attribute) + 기능(Method)\n",
    "\n",
    "- 속성은 사물의 특징\n",
    "    - 예) 자동차의 속성 : 바디의 색, 바퀴의 크기, 엔진의 배기량\n",
    "- 기능은 어떤 것의 특징적인 동작\n",
    "    - 예) 자동차의 기능 : 전진, 후진, 좌회전, 우회전\n",
    "- 속성과 기능을 들어 자동차를 묘사하면?\n",
    "    - “18인치의 바퀴를 가진 2,000cc의 빨간 차는 전진, 후진, 좌회전, 우회전의 기능이 있다.”"
   ]
  },
  {
   "cell_type": "code",
   "execution_count": 28,
   "id": "9cea5a92",
   "metadata": {},
   "outputs": [
    {
     "name": "stdout",
     "output_type": "stream",
     "text": [
      "<class '__main__.Square'> <class 'type'>\n"
     ]
    }
   ],
   "source": [
    "# 사각형 클래스 \n",
    "class Square:\n",
    "    pass\n",
    "\n",
    "print(Square, type(Square))"
   ]
  },
  {
   "cell_type": "code",
   "execution_count": 29,
   "id": "71082d35",
   "metadata": {},
   "outputs": [
    {
     "name": "stdout",
     "output_type": "stream",
     "text": [
      "<__main__.Square object at 0x1083a77c0> <class '__main__.Square'>\n"
     ]
    }
   ],
   "source": [
    "# 사각형 클래스에 의해서 생성된 인스턴스 생성\n",
    "square1 = Square()\n",
    "square2 = Square()\n",
    "\n",
    "print(square1, type(square1))\n",
    "# <__main__.Square object at 0x0000020A81B31520> <class '__main__.Square'>"
   ]
  },
  {
   "cell_type": "markdown",
   "id": "64073a7f",
   "metadata": {},
   "source": [
    "### 객체 개요"
   ]
  },
  {
   "cell_type": "markdown",
   "id": "2806c17d",
   "metadata": {},
   "source": [
    "- 인스턴스(Instance)란? \n",
    "    - \"구체적인 사례로 만들다\"\n",
    "- 객체(Object)란?\n",
    "    - 클래스를 인스턴스화한 것\n",
    "    - 클래스에 의해서 만들어진 피조물\n",
    "    - 인간 클래스의 인스턴스화한 것(=객체)은 홍길동이다\n",
    "\n",
    "- 객체 지향 프로그래밍\n",
    "    - OOP: objected-oriented programming\n",
    "    - 객체를 기본으로 프로그래밍 한다\n",
    "    - 자바, 파이썬\n",
    "    \n",
    "- 객체 생성\n",
    "    - `객체 = 클래스()`"
   ]
  },
  {
   "cell_type": "code",
   "execution_count": 30,
   "id": "72ccfbc0",
   "metadata": {},
   "outputs": [
    {
     "name": "stdout",
     "output_type": "stream",
     "text": [
      "True\n",
      "False\n",
      "True\n"
     ]
    }
   ],
   "source": [
    "# Circle 클래스 선언 후 circle1 인스턴스 생성 \n",
    "class Circle:\n",
    "    pass\n",
    "circle1 = Circle() # 클래스에 의해서 만들 어진 인스턴스\n",
    "\n",
    "# isinstance(인스턴스변수, 클래스이름)\n",
    "print(isinstance(circle1, Circle))\n",
    "print(isinstance(square1, Circle))\n",
    "print(isinstance(square1, Square))"
   ]
  },
  {
   "cell_type": "markdown",
   "id": "7529e273",
   "metadata": {},
   "source": [
    "### 속성 (Attribute)\n",
    "- 클래스에서 정의된 변수 - 필드(field)\n",
    "- 클래스안에 생성자 함수인 `__init__()` 함수안에 정의\n",
    "- 해당 클래스 또는 객체 내부에서만 의미가 있다. 해당 클래스 내부와 객체내부를 네임스페이스라고 한다. 즉 필드가 통용되는 공간(필드 내부, 객체 내부) 이다.\n",
    "- self 예약어 사용\n",
    "    - self는 C++ 에서의 this 포인터와 같은것, java나 C#에서는 this 참조 같다.\n",
    "- 필드에는 클래스 변수가 있고, 객체 변수가 있다. 필드를 소유하고 있는 대상이 클래스이냐, 객체이냐에 따라서 클래스변수, 객체변수로 구별된다.\n",
    "- 클래스 변수는 공유된다. 클래스로 부터 생성된 모든 인스턴스들이 접근할 수 있다.\n",
    "- 래스 변수는 하나만 존재한다. 어떤 객체가 클래스 변수를 변경한다면 다른 인스턴스들에게도 변경내용이 반영된다.\n",
    "- 객체변수(인스턴스변수)는 클래스로부터 생성된 각각의 객체(인스턴스)에 속해 있는 변수 객체별로 객체 변수를 하나씩 따로 가지고 있다. 즉, 서로 공유하지 않는다.\n",
    "\n",
    "\n",
    "```python\n",
    "class 클래스이름:\n",
    "    def __init__(self, 인자1):\n",
    "        self.인자1 = 인자2\n",
    "```\n",
    "\n",
    "```python\n",
    "객체이름 = 클래스이름(인자값) 객체이름.인자\n",
    "```"
   ]
  },
  {
   "cell_type": "markdown",
   "id": "3468be6a",
   "metadata": {},
   "source": [
    "### 메소드 (Method)\n",
    "- `__init__`메소드(Method)\n",
    "    - 객체가생성될때여러가지초기화작업을할때유용하게사용할수있다.\n",
    "    - 메소드명은 `__init__` 이다.\n",
    "    - 파이썬의 클래스는 여러가지 특별한 메소드가 존재한다. 그중에서 init 메소드는 클래스가 인스턴스화(객체화) 될 때 호출된다.\n",
    "    \n",
    "- 메소드 (Method)\n",
    "    - 클래스에서 정의된 코드블록의 묶음\n",
    "    - 함수와 비슷하다\n",
    "    ```python\n",
    "    class 클래스이름:\n",
    "        def 메소드이름(self):\n",
    "            코드블록 \n",
    "            return value\n",
    "    # 인스턴스화\n",
    "    객체이름 = 클래스이름(인자값) \n",
    "    객체이름.메소드이름()\n",
    "```"
   ]
  },
  {
   "cell_type": "markdown",
   "id": "18794a4a",
   "metadata": {},
   "source": [
    "### 생성자 함수 (Constructor)\n",
    "- 속성값 정의\n",
    "    - 사각형에 관련된 클래스 속성 => 가로, 세로, 색상, 무늬\n",
    "    - 사람에 대한 클래스 속성 => 이름, 성별, 키, 몸무게, 출신지\n",
    "    - 붕어빵에 대한 클래스 속성 => 재료, 칼로리, 크기, 생성날짜\n",
    "\n",
    "- 생성자함수 문법\n",
    "    - 생성자 함수(인자 입력때 self는 무시), 사용할 인자만 가능\n",
    "```python\n",
    "class 클래스명:\n",
    "    def __init__(self, 인자):\n",
    "        self.인자 = 인자값\n",
    "        self.인자 = (인자값1, 인자값2,...) # 튜플형태 \n",
    "```\n",
    "- 인스턴스 생성\n",
    "`인스턴스명 = 클래스이름(인자값,..)`\n",
    "\n",
    "- 실제 속성값 출력\n",
    "`인스턴스명.속성`"
   ]
  },
  {
   "cell_type": "code",
   "execution_count": 31,
   "id": "e1bea4fd",
   "metadata": {},
   "outputs": [],
   "source": [
    "# Bread 클래스 생성\n",
    "# 속성 => 빵종류, 가격, 칼로리, 제조일, 브랜드, 재료\n",
    "# 메서드 => 속성지정, 속성 출력, 빵의 갯수에 따른 가격 출력\n",
    "\n",
    "class Bread:\n",
    "    # 속성 지정 = 생성자(Constructor) 메서드 정의\n",
    "    def __init__(self, kind, price, kcal, makeDate, src):\n",
    "        self.brand = '파리바게뜨' # 고정화된 속성\n",
    "        self.kind = kind\n",
    "        self.price = price\n",
    "        self.kcal = kcal\n",
    "        self.makeDate = makeDate\n",
    "        self.src = src\n",
    "\n",
    "    # 속성 출력 메서드 정의\n",
    "    def printInfo(self):\n",
    "        print(f' 브랜드 = {self.brand}')\n",
    "        print(f' 종류 = {self.kind}')\n",
    "        print(f' 가격 = {self.price}')\n",
    "        print(f' 칼로리 = {self.kcal}')\n",
    "        print(f' 만든날짜 = {self.makeDate}')\n",
    "        print(f' 재료 = {self.src}')\n",
    "\n",
    "    # 빵의 갯수에 따른 가격 출력\n",
    "    def printPrice(self, n):\n",
    "        print(f' {self.kind} , {n} 개의 가격은 { self.price*n }')"
   ]
  },
  {
   "cell_type": "code",
   "execution_count": 32,
   "id": "1567fcf9",
   "metadata": {},
   "outputs": [],
   "source": [
    "# Bread 클래스에 의해서 인스턴스 생성 \n",
    "bread1 = Bread('앙버터빵', 4000, 600, '2022-01-25', ['버터', '밀가루', '팥앙금', '우유'] )\n",
    "bread2 = Bread('단팥빵', 1500, 350, '2022-01-24', ['밀가루', '팥앙금', '우유', '설탕'])"
   ]
  },
  {
   "cell_type": "code",
   "execution_count": 33,
   "id": "c39dc061",
   "metadata": {},
   "outputs": [
    {
     "name": "stdout",
     "output_type": "stream",
     "text": [
      "앙버터빵 4000\n",
      "단팥빵 1500\n",
      " 브랜드 = 파리바게뜨\n",
      " 종류 = 앙버터빵\n",
      " 가격 = 4000\n",
      " 칼로리 = 600\n",
      " 만든날짜 = 2022-01-25\n",
      " 재료 = ['버터', '밀가루', '팥앙금', '우유']\n",
      " 브랜드 = 파리바게뜨\n",
      " 종류 = 단팥빵\n",
      " 가격 = 1500\n",
      " 칼로리 = 350\n",
      " 만든날짜 = 2022-01-24\n",
      " 재료 = ['밀가루', '팥앙금', '우유', '설탕']\n",
      " 앙버터빵 , 3 개의 가격은 12000\n",
      " 단팥빵 , 5 개의 가격은 7500\n",
      " 전체 가격은? 19500\n"
     ]
    }
   ],
   "source": [
    "# Bread 클래스에 의해서 인스턴스 생성 \n",
    "bread1 = Bread('앙버터빵', 4000, 600, '2022-01-25', ['버터', '밀가루', '팥앙금', '우유'] )\n",
    "bread2 = Bread('단팥빵', 1500, 350, '2022-01-24', ['밀가루', '팥앙금', '우유', '설탕'])\n",
    "\n",
    "# 인스턴스의 속성 접근\n",
    "# 인스턴스.속성명\n",
    "print(bread1.kind, bread1.price)\n",
    "print(bread2.kind, bread2.price)\n",
    "\n",
    "# 인스턴스.메서드 호출\n",
    "bread1.printInfo()\n",
    "bread2.printInfo()\n",
    "\n",
    "# 앙버터 3, 단팥빵 5개의 가격은?\n",
    "bread1.printPrice(3)\n",
    "bread2.printPrice(5)\n",
    "print(f' 전체 가격은? {bread1.price*3 + bread2.price*5}')"
   ]
  },
  {
   "cell_type": "code",
   "execution_count": 34,
   "id": "d6446488",
   "metadata": {},
   "outputs": [],
   "source": [
    "# 퀴즈 : 원 클래스 생성\n",
    "#  속성 : 반지름, 색상, 이름\n",
    "# 메소드 : info 속성출력  , 면적 출력\n",
    "\n",
    "class MyCircle:\n",
    "    def __init__(self, radius, color, circleName):\n",
    "        self.radius = radius\n",
    "        self.color = color\n",
    "        self.circleName = circleName\n",
    "\n",
    "    def info(self):\n",
    "        print(f' 이름 => {self.circleName}')\n",
    "        print(f' 색상 => {self.color}')\n",
    "        print(f' 반지름 => {self.radius}')\n",
    "\n",
    "    def getArea(self):\n",
    "        return self.radius*self.radius*3.14"
   ]
  },
  {
   "cell_type": "code",
   "execution_count": 35,
   "id": "6dd68093",
   "metadata": {},
   "outputs": [
    {
     "name": "stdout",
     "output_type": "stream",
     "text": [
      " 이름 => c1\n",
      " 색상 => 빨강\n",
      " 반지름 => 5\n",
      " c1 의 넓이는? 78.5 \n"
     ]
    }
   ],
   "source": [
    "# 인스턴스 생성 \n",
    "c1 = MyCircle(5, '빨강', 'c1')\n",
    "c1.info()\n",
    "print(f' {c1.circleName} 의 넓이는? {c1.getArea()} ')"
   ]
  },
  {
   "cell_type": "markdown",
   "id": "ac3faf5d",
   "metadata": {},
   "source": [
    "### 클래스 변수\n",
    "- 클래스 정의시 지정된 공용 변수\n",
    "- 생성자 함수 위에 정의\n",
    "- 동일한 주소값을 가지고 있다.\n",
    "- `id(객체이름)` : 주소 표시\n",
    "- 인스턴스 생성후 접근\n",
    "    - `인스턴스명.클래스변수명`\n",
    "    - `클래스명.클래스변수명`"
   ]
  },
  {
   "cell_type": "code",
   "execution_count": 36,
   "id": "dc5091bb",
   "metadata": {},
   "outputs": [
    {
     "name": "stdout",
     "output_type": "stream",
     "text": [
      "------------------------------\n",
      "userId = user1\n",
      "userName = 최웅\n",
      "count = 1\n",
      "msg = Hello world\n",
      "------------------------------\n",
      "userId = user2\n",
      "userName = 국영수\n",
      "count = 1\n",
      "msg = Hello world\n",
      "Hello world Hello world\n",
      "0 1\n",
      "4482925872 4482925872 4482925872\n"
     ]
    }
   ],
   "source": [
    "class User:\n",
    "    # 클래스 변수\n",
    "    count = 0\n",
    "    msg = 'Hello world'\n",
    "\n",
    "    # 생성자 메서드\n",
    "    def __init__(self, userId, userName):\n",
    "        self.userId = userId\n",
    "        self.userName = userName\n",
    "        self.count += 1\n",
    "\n",
    "    # 출력용 범용 메서드\n",
    "    def __str__(self):\n",
    "        print(f' userId = {self.userId} , userName = {self.userName}')\n",
    "\n",
    "    # 일반 메서드\n",
    "    def info(self):\n",
    "        print('-'*30)\n",
    "        print(f'userId = {self.userId}')\n",
    "        print(f'userName = {self.userName}')\n",
    "        print(f'count = {self.count}')\n",
    "        print(f'msg = {self.msg}')\n",
    "\n",
    "# 인스턴스 생성\n",
    "user1 = User('user1', '최웅')\n",
    "user2 = User('user2', '국영수')\n",
    "\n",
    "user1.info()\n",
    "user2.info()\n",
    "\n",
    "# 클래스변수 접근\n",
    "# 클래스명.클래스변수명 , 인스턴스명.클래스변수명\n",
    "print(User.msg, user1.msg)\n",
    "print(User.count, user1.count)\n",
    "\n",
    "# 같은 주소번지인가?\n",
    "# id(변수/클래스변수/클래스명/인스턴스명)\n",
    "print(id(user1.msg), id(user1.msg), id(User.msg))\n",
    "# 2515608454896 2515608454896 2515608454896\n",
    "# 클래스 변수 교체\n",
    "# User.msg = 1000\n",
    "# print(User.msg, user1.msg, user1.msg)"
   ]
  },
  {
   "cell_type": "markdown",
   "id": "2b1ab1e8",
   "metadata": {},
   "source": [
    "### 상속 (Inheritance)\n",
    "- 상속(Inheritance)?\n",
    "    - 부모클래스의 속성이랑 메소드를 그대로 가진다.\n",
    "    - 물려받다\n",
    "    - 어떤 클래스를 만들 때 다른 클래스의 기능을물려받을 수 있게 만드는 것\n",
    "    - 재사용의 한가지 방법\n",
    "    - 객체지향의 가장 큰 장점은 코드의 재사용(재활용)\n",
    "```python\n",
    "class 클래스명(상속할 클래스명): \n",
    "    메소드 또는 속성\n",
    "```\n",
    "> Person 클래스를 상속받는 Student 클래스를 만들때 표현방법은 Student(Person)\n",
    "이때 Person 클래스를 슈퍼클래스라고 하고, Student 클래스를 서브클래스(하위클래스) \n",
    "슈퍼클래스는 부모클래스, 서브클래스는 자식클래스라고도 한다.\n",
    "\n",
    "```python\n",
    "class 클래스이름(부모클래스1,부모클래스2...)\n",
    "    부모클래스=슈퍼클래스=조상클래스\n",
    "    자식클래스=서브클래스=파생클래스\n",
    "    \n",
    "부모클래스1 - 아파트, 차\n",
    "부모클래스2 - 오피스텔, 전동스쿠터\n",
    "자식클래스 - 아파트, 차 , 오피스텔, 전동스쿠터\n",
    "\n",
    "부모클래스를 상속해서 자식 클래스 만들기\n",
    "class 자식클래스명(부모클래스명1, 부모클래스명2....):\n",
    "  명령문\n",
    "```"
   ]
  },
  {
   "cell_type": "code",
   "execution_count": 41,
   "id": "9ca49510",
   "metadata": {},
   "outputs": [],
   "source": [
    "# Papa , Mama => Child \n",
    "\n",
    "# 부모클래스1 \n",
    "class Papa:\n",
    "    def __init__(self):\n",
    "        self.firstName1 = '김'\n",
    "        \n",
    "    def info1(self):\n",
    "        print('Papa - 아파트, 차')\n",
    "        \n",
    "    def test1(self, msg):\n",
    "        print('Papa 의 test1 호출됨 : {msg}')"
   ]
  },
  {
   "cell_type": "code",
   "execution_count": 42,
   "id": "b88190a2",
   "metadata": {},
   "outputs": [],
   "source": [
    "# 부모클래스2\n",
    "class Mama:\n",
    "    def __init__(self):\n",
    "        self.firstName2 = '이'\n",
    "\n",
    "    def info2(self):\n",
    "        print('Mama - 오피스텔, 전동스쿠터')\n",
    "\n",
    "    def test2(self, msg):\n",
    "        print('Mama 의 test2 호출됨 : {msg}')"
   ]
  },
  {
   "cell_type": "code",
   "execution_count": 43,
   "id": "1a8de352",
   "metadata": {},
   "outputs": [],
   "source": [
    "# 자식 클래스\n",
    "# Papa, Mama 클래스 상속\n",
    "class Child(Papa, Mama):\n",
    "\n",
    "    def __init__(self, myName):\n",
    "        # 부모 클래스의 속성을 사용할 수 있게 지정\n",
    "        Papa.__init__(self)\n",
    "        Mama.__init__(self)\n",
    "        self.myName = myName\n",
    "\n",
    "    def info3(self, asset):\n",
    "        print(f'Child - {asset}')"
   ]
  },
  {
   "cell_type": "code",
   "execution_count": 44,
   "id": "b41c0dfd",
   "metadata": {},
   "outputs": [
    {
     "name": "stdout",
     "output_type": "stream",
     "text": [
      "김\n",
      "Papa - 아파트, 차\n",
      "Papa 의 test1 호출됨 : {msg}\n",
      "이\n",
      "Mama - 오피스텔, 전동스쿠터\n",
      "Mama 의 test2 호출됨 : {msg}\n",
      "==================================================\n",
      "Child - ['노트북', '자전거']\n",
      "Papa - 아파트, 차\n",
      "Mama - 오피스텔, 전동스쿠터\n",
      "child1 에서 사용할 수 있는 속성은?\n",
      "웅이 김 이\n"
     ]
    }
   ],
   "source": [
    "papa1 = Papa()\n",
    "print(papa1.firstName1)\n",
    "papa1.info1()\n",
    "papa1.test1('Hello world')\n",
    "\n",
    "mama1 = Mama()\n",
    "print(mama1.firstName2)\n",
    "mama1.info2()\n",
    "mama1.test2('Hello Python')\n",
    "\n",
    "print('='*50)\n",
    "child1 = Child('웅이')\n",
    "child1.info3(['노트북', '자전거']) # Child 클래스에서 선언된 메서드\n",
    "child1.info1() # Papa 클래스에서 선언된 메서드\n",
    "child1.info2() # Mama 클래스에서 선언된 메서드\n",
    "\n",
    "print('child1 에서 사용할 수 있는 속성은?')\n",
    "print(child1.myName, child1.firstName1, child1.firstName2)"
   ]
  },
  {
   "cell_type": "code",
   "execution_count": 46,
   "id": "527b19eb",
   "metadata": {},
   "outputs": [
    {
     "data": {
      "text/plain": [
       "'\\n종류 : 동물\\n다리수 : 4\\n동물 이(가) 달린다. \\n동물 이(가) 물을(를) 먹는다.\\n==============================\\n종류 : 강아지\\n다리수 : 4\\n강아지 이(가) 달린다. \\n강아지 이(가) 뼈다귀을(를) 먹는다.\\n강아지의 이름은 행운이이다.\\n강아지 이(가) 멍멍 짖는다.(소리를 낸다) \\n\\n==============================\\n종류 : 고양이 \\n다리수 : 4\\n...\\n\\n'"
      ]
     },
     "execution_count": 46,
     "metadata": {},
     "output_type": "execute_result"
    }
   ],
   "source": [
    "# 상속 퀴즈\n",
    "# 클래스 Animal과  Animal 클래스를 상속받는 Dog, Cat 클래스를\n",
    "# 정의하여라. 아래는 참고 코딩이다.\n",
    "\n",
    "# 부모 클래스 정의\n",
    "# class Animal:\n",
    "#     def __init__(self, objName, leg):\n",
    "#         명령 입력\n",
    "#\n",
    "#     def info(self, objName, leg):\n",
    "#         명령 입력\n",
    "#\n",
    "#     def run(self):\n",
    "#         명령 입력\n",
    "#\n",
    "\n",
    "\n",
    "#\n",
    "# class Dog(?):\n",
    "#  ...\n",
    "#   def printName(self, name):\n",
    "#         명령 입력\n",
    "#     def shout(self, sound):\n",
    "#         명령 입력\n",
    "#\n",
    "\n",
    "\n",
    "#\n",
    "# class Cat(?):\n",
    "#....\n",
    "#   def printName(self, name):\n",
    "#         명령 입력\n",
    "#\n",
    "#   def shout(self, sound):\n",
    "#         명령 입력\n",
    "#\n",
    "\n",
    "\n",
    "\n",
    "# 위에서 정의한 클래스를 이용하여 다음과 같이 출력되도록\n",
    "# 객체 인스턴스화하고 메서드를 호출하여라.\n",
    "'''\n",
    "종류 : 동물\n",
    "다리수 : 4\n",
    "동물 이(가) 달린다. \n",
    "동물 이(가) 물을(를) 먹는다.\n",
    "==============================\n",
    "종류 : 강아지\n",
    "다리수 : 4\n",
    "강아지 이(가) 달린다. \n",
    "강아지 이(가) 뼈다귀을(를) 먹는다.\n",
    "강아지의 이름은 행운이이다.\n",
    "강아지 이(가) 멍멍 짖는다.(소리를 낸다) \n",
    "\n",
    "==============================\n",
    "종류 : 고양이 \n",
    "다리수 : 4\n",
    "...\n",
    "\n",
    "'''"
   ]
  },
  {
   "cell_type": "code",
   "execution_count": 48,
   "id": "cbff0403",
   "metadata": {},
   "outputs": [
    {
     "name": "stdout",
     "output_type": "stream",
     "text": [
      "==============================\n",
      "종류: 동물 \n",
      "다리 수: 4\n",
      "동물이(가) 달린다.\n",
      "동물이(가) 물을(를) 먹는다.\n",
      "==============================\n",
      "종류: 강아지 \n",
      "다리 수: 4\n",
      "강아지이(가) 달린다.\n",
      "강아지이(가) 뼈다귀을(를) 먹는다.\n",
      "강아지의 이름은 행운이이다.\n",
      "강아지이(가) 멍멍 짖는다.\n",
      "==============================\n",
      "종류: 고양이 \n",
      "다리 수: 4\n",
      "고양이이(가) 달린다.\n",
      "고양이이(가) 츄르을(를) 먹는다.\n",
      "고양이의 이름은 나비이다.\n",
      "고양이이(가) 야옹야옹 소리를 낸다.  \n"
     ]
    }
   ],
   "source": [
    "# 부모 클래스 선언\n",
    "class Animal:\n",
    "    def __init__(self, objName, leg):\n",
    "        self.objName = objName\n",
    "        self.leg = leg\n",
    "\n",
    "    def info(self):\n",
    "        print(f'종류: {self.objName} \\n다리 수: {self.leg}')\n",
    "\n",
    "    def run(self):\n",
    "        print(f'{self.objName}이(가) 달린다.')\n",
    "\n",
    "    def eat(self, food):\n",
    "        print(f'{self.objName}이(가) {food}을(를) 먹는다.')\n",
    "\n",
    "\n",
    "# Animal 클래스를 상속받은 Dog 클래스 정의\n",
    "class Dog(Animal):\n",
    "    def __init__(self, objName, leg):\n",
    "        Animal.__init__(self, objName, leg)\n",
    "\n",
    "    def printName(self, name):\n",
    "        print(f'{self.objName}의 이름은 {name}이다.')\n",
    "\n",
    "    def shout(self, sound):\n",
    "        print(f'{self.objName}이(가) {sound} 짖는다.')\n",
    "\n",
    "class Cat(Animal):\n",
    "    def __init__(self, objName, leg):\n",
    "        Animal.__init__(self, objName, leg)\n",
    "\n",
    "    def printName(self, name):\n",
    "        print(f'{self.objName}의 이름은 {name}이다.')\n",
    "\n",
    "    def shout(self, sound):\n",
    "        print(f'{self.objName}이(가) {sound} 소리를 낸다.  ')\n",
    "\n",
    "print('=' * 30)\n",
    "# 부모 클래스 인스턴스 생성\n",
    "animal1 = Animal('동물', 4)\n",
    "animal1.info()\n",
    "animal1.run()\n",
    "animal1.eat('물')\n",
    "\n",
    "print('=' * 30)\n",
    "dog1 = Dog('강아지', 4)\n",
    "dog1.info()\n",
    "dog1.run()\n",
    "dog1.eat('뼈다귀')\n",
    "dog1.printName('행운이')\n",
    "dog1.shout('멍멍')\n",
    "\n",
    "print('=' * 30)\n",
    "cat1 = Cat('고양이', 4)\n",
    "cat1.info()\n",
    "cat1.run()\n",
    "cat1.eat('츄르')\n",
    "cat1.printName('나비')\n",
    "cat1.shout('야옹야옹')"
   ]
  },
  {
   "cell_type": "code",
   "execution_count": null,
   "id": "1a7b40f7",
   "metadata": {},
   "outputs": [],
   "source": []
  }
 ],
 "metadata": {
  "kernelspec": {
   "display_name": "Python 3 (ipykernel)",
   "language": "python",
   "name": "python3"
  },
  "language_info": {
   "codemirror_mode": {
    "name": "ipython",
    "version": 3
   },
   "file_extension": ".py",
   "mimetype": "text/x-python",
   "name": "python",
   "nbconvert_exporter": "python",
   "pygments_lexer": "ipython3",
   "version": "3.10.1"
  }
 },
 "nbformat": 4,
 "nbformat_minor": 5
}
