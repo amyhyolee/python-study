{
 "cells": [
  {
   "cell_type": "markdown",
   "id": "aca7f631",
   "metadata": {},
   "source": [
    "# 첫날 기초 파이썬, 리스트 퀴즈\n",
    "## 2022.01.19"
   ]
  },
  {
   "cell_type": "markdown",
   "id": "7c453979",
   "metadata": {},
   "source": [
    "**퀴즈 1:**\n",
    "> 아래와 같이 3줄로 글자를 출력하는 4가지 방법은?\n",
    "\n",
    "> `파이썬\n",
    "파이썬\n",
    "파이썬`"
   ]
  },
  {
   "cell_type": "code",
   "execution_count": 1,
   "id": "b873d3f9",
   "metadata": {},
   "outputs": [
    {
     "name": "stdout",
     "output_type": "stream",
     "text": [
      "파이썬\n",
      "파이썬\n",
      "파이썬\n",
      "파이썬\n",
      "파이썬\n",
      "파이썬\n",
      "\n",
      "파이썬\n",
      "파이썬\n",
      "파이썬\n",
      "\n",
      "파이썬\n",
      "파이썬\n",
      "파이썬\n",
      "\n"
     ]
    }
   ],
   "source": [
    "# 1\n",
    "print('파이썬')\n",
    "print('파이썬')\n",
    "print('파이썬')\n",
    "\n",
    "# 2\n",
    "print('파이썬\\n파이썬\\n파이썬')\n",
    "\n",
    "# 3\n",
    "print('''\n",
    "파이썬\n",
    "파이썬\n",
    "파이썬\n",
    "''')\n",
    "\n",
    "# 4\n",
    "print('파이썬\\n'*3)\n"
   ]
  },
  {
   "cell_type": "markdown",
   "id": "5897be97",
   "metadata": {},
   "source": [
    "**퀴즈 2**\n",
    "> 홍길동 씨의 과목별 점수는 다음과 같다.\n",
    ">\n",
    "> 홍길동 씨의 평균 점수를 소숫점 둘째자리까지 출력하여라\n",
    "\n",
    "> `국어 : 86\n",
    "영어 : 77\n",
    "수학 : 55\n",
    "평균 : `\n"
   ]
  },
  {
   "cell_type": "code",
   "execution_count": 11,
   "id": "24101267",
   "metadata": {},
   "outputs": [
    {
     "name": "stdout",
     "output_type": "stream",
     "text": [
      "평균: 72.67\n",
      "평균: 72.67\n",
      "평균: 72.67\n"
     ]
    }
   ],
   "source": [
    "kor = 86\n",
    "eng = 77\n",
    "mat = 55\n",
    "\n",
    "def average(list): \n",
    "    return sum(list)/len(list)\n",
    "\n",
    "avg = average([kor, eng, mat])\n",
    "print('평균: %.2f' % (avg))\n",
    "print('평균: {:.2f}'.format(avg)) # {0:.2f} -> avg 가 0 자리\n",
    "print(f'평균: {avg:.2f}')"
   ]
  },
  {
   "cell_type": "markdown",
   "id": "48175da5",
   "metadata": {},
   "source": [
    "**퀴즈 3**\n",
    "> 변수 a,b를 입력문을 이용하여 데이터를 저장한다.\n",
    "> \n",
    "> == 을 이용하여 a,b 가 같은지 True, False 로 출력하여라\n",
    "\n",
    "> `a ? 10\n",
    "> b ? 10\n",
    "> True`\n"
   ]
  },
  {
   "cell_type": "code",
   "execution_count": 2,
   "id": "522552e1",
   "metadata": {},
   "outputs": [
    {
     "name": "stdout",
     "output_type": "stream",
     "text": [
      "a ? 10\n",
      "b ? 10\n",
      "True\n"
     ]
    }
   ],
   "source": [
    "a = input('a ? ')\n",
    "b = input('b ? ')\n",
    "print(a == b)"
   ]
  },
  {
   "cell_type": "markdown",
   "id": "400cc9a0",
   "metadata": {},
   "source": [
    "**퀴즈 4**\n",
    "> 2개의 숫자를 입력받아 사칙연산의 결과물을 출력하여라\n",
    "> \n",
    "> 출력시 % 포맷 형식 이용\n",
    "\n",
    "> 첫번째 숫자를 입력하세요? 34\n",
    "두번째 숫자를 입력하세요? 56\n",
    "> \n",
    "> `결과 :\n",
    "> 34 + 56 = ?\n",
    "> 34 - 56 = ?\n",
    "> 34 * 56 = ?\n",
    "> 34 / 56 = ?`"
   ]
  },
  {
   "cell_type": "code",
   "execution_count": 44,
   "id": "e2c55d7c",
   "metadata": {},
   "outputs": [
    {
     "name": "stdout",
     "output_type": "stream",
     "text": [
      "첫번째 숫자를 입력하세요? 34\n",
      "두번째 숫자를 입력하세요? 56\n",
      "결과: \n",
      "34 + 56 = 90\n",
      "34 - 56 = -22\n",
      "34 * 56 = 1904\n",
      "34 / 56 = 0.61\n"
     ]
    }
   ],
   "source": [
    "num1 = int(input('첫번째 숫자를 입력하세요? '))\n",
    "num2 = int(input('두번째 숫자를 입력하세요? '))\n",
    "\n",
    "print('결과: ')\n",
    "print('%d + %d = %d' % (num1, num2, num1+num2))\n",
    "print('%d - %d = %d' % (num1, num2, num1-num2))\n",
    "print('%d * %d = %d' % (num1, num2, num1*num2))\n",
    "print('%d / %d = %.2f' % (num1, num2, num1/num2))"
   ]
  },
  {
   "cell_type": "markdown",
   "id": "fece8611",
   "metadata": {},
   "source": [
    "**퀴즈 5**\n",
    "> 홍길동씨의 주민등록번호는 881120-1068234\n",
    ">\n",
    "> 연월일과 숫자 부분을 나누어서 출력하여라.\n",
    "\n",
    "> `연월일 : 881120\n",
    "> 숫자 : 1068234`\n"
   ]
  },
  {
   "cell_type": "code",
   "execution_count": 49,
   "id": "1ef110ef",
   "metadata": {},
   "outputs": [
    {
     "name": "stdout",
     "output_type": "stream",
     "text": [
      "연월일 : 881120\n",
      "숫자 : 1068234\n"
     ]
    }
   ],
   "source": [
    "num3 = '881120-1068234'\n",
    "num3_split = num3.split(\"-\")\n",
    "print('연월일 : ' + num3_split[0])\n",
    "print('숫자 : ' + num3_split[1])"
   ]
  },
  {
   "cell_type": "markdown",
   "id": "c86494ea",
   "metadata": {},
   "source": [
    "**퀴즈 6**\n",
    "> 2개의 변수를 정의하고 아래와 같이 출력한다.\n",
    "> format 또는 % 또는 f'' 이용\n",
    "\n",
    "> `movie1 = '알라딘'`\n",
    "> `movie2 = '스파이더맨'`\n",
    ">\n",
    "> `오늘의 영화 => 스파이더맨 , 알라딘`\n"
   ]
  },
  {
   "cell_type": "code",
   "execution_count": 56,
   "id": "5a38ce88",
   "metadata": {},
   "outputs": [
    {
     "name": "stdout",
     "output_type": "stream",
     "text": [
      "오늘의 영화 => 알라딘, 스파이더맨\n",
      "오늘의 영화 => 알라딘, 스파이더맨\n",
      "오늘의 영화 => 알라딘, 스파이더맨\n"
     ]
    }
   ],
   "source": [
    "movie1 = '알라딘'\n",
    "movie2 = '스파이더맨'\n",
    "\n",
    "print('오늘의 영화 => %s, %s' % (movie1, movie2))\n",
    "print('오늘의 영화 => {0}, {1}'.format(movie1, movie2)) # {} {} blank도 가능\n",
    "print(f'오늘의 영화 => {movie1}, {movie2}')"
   ]
  },
  {
   "cell_type": "markdown",
   "id": "7c0abfec",
   "metadata": {},
   "source": [
    "**퀴즈 7**\n",
    "> 아래와 같이 변수를 지정하고\n",
    ">\n",
    "> `humidity = 82`\n",
    ">\n",
    "> `temperature = -1.85674`\n",
    ">\n",
    "> % 포맷, format(), f' 포맷 3가지 방식을 이용하여 다음과 같이 출력하여라\n",
    "\n",
    "> `오늘의 날씨 : 맑음, 습도 82%, 현재기온 -1.8`\n"
   ]
  },
  {
   "cell_type": "code",
   "execution_count": 5,
   "id": "48068f8d",
   "metadata": {},
   "outputs": [
    {
     "name": "stdout",
     "output_type": "stream",
     "text": [
      "오늘의 날씨 : 맑음, 습도 82%, 현재기온 -1.9\n",
      "오늘의 날씨 : 맑음, 습도 82%, 현재기온 -1.9\n",
      "오늘의 날씨 : 맑음, 습도 82%, 현재기온 -1.9\n"
     ]
    }
   ],
   "source": [
    "humidity = 82\n",
    "temperature = -1.85674\n",
    "\n",
    "### 어떻게 round down 할수 있나요??\n",
    "print('오늘의 날씨 : 맑음, 습도 %d%%, 현재기온 %.1f' % (humidity, temperature))\n",
    "print('오늘의 날씨 : 맑음, 습도 {}%, 현재기온 {:.1f}'.format (humidity, temperature))\n",
    "print(f'오늘의 날씨 : 맑음, 습도 {humidity}%, 현재기온 {temperature:.1f}')"
   ]
  },
  {
   "cell_type": "markdown",
   "id": "155bc9ad",
   "metadata": {},
   "source": [
    "**퀴즈 8**\n",
    "> 2개의 리스트를 정의하고 다음과 같이 출력한다.\n",
    "> \n",
    "> `myList1 : ['홍길동', '신데렐라', '알라딘', '장화', '홍련', '지니', '엘리스']`\n",
    "> \n",
    "> `myList2 : ['토끼', '거북이', '물개', '펭귄']`\n",
    "\n",
    "> 1. 2개의 리스트 합(+ 연산자 이용)  : ?\n",
    "> 2. 1번의 리스트에서 앞에서 순차적으로 4개만 출력 : ? \n",
    "> 3. 1번의 리스트에서 짝수번째만 출력 : ?\n",
    "> 4. 1번의 리스트에서 홀수번째만 출력 : ?\n",
    "> 5. 1번의 리스트에서 전체 길이 :  ?\n"
   ]
  },
  {
   "cell_type": "code",
   "execution_count": 80,
   "id": "1c56ef52",
   "metadata": {},
   "outputs": [
    {
     "name": "stdout",
     "output_type": "stream",
     "text": [
      "2개의 리스트 합(+ 연산자 이용) : ['홍길동', '신데렐라', '알라딘', '장화', '홍련', '지니', '엘리스', '토끼', '거북이', '물개', '펭귄']\n",
      "1번의 리스트에서 앞에서 순차적으로 4개만 출력 :  ['홍길동', '신데렐라', '알라딘', '장화']\n",
      "1번의 리스트에서 짝수번째만 출력 : ['신데렐라', '장화', '지니', '토끼', '물개']\n",
      "1번의 리스트에서 홀수번째만 출력 : ['홍길동', '알라딘', '홍련', '엘리스', '거북이', '펭귄']\n",
      "1번의 리스트에서 전체 길이 : 11\n"
     ]
    }
   ],
   "source": [
    "myList1 = ['홍길동', '신데렐라', '알라딘', '장화', '홍련', '지니', '엘리스']\n",
    "myList2 = ['토끼', '거북이', '물개', '펭귄']\n",
    "\n",
    "myList3 = myList1 + myList2\n",
    "\n",
    "print('2개의 리스트 합(+ 연산자 이용) :', myList3)\n",
    "print('1번의 리스트에서 앞에서 순차적으로 4개만 출력 : ', myList3[:4])\n",
    "print('1번의 리스트에서 짝수번째만 출력 :', myList3[1::2])\n",
    "print('1번의 리스트에서 홀수번째만 출력 :', myList3[::2])\n",
    "print('1번의 리스트에서 전체 길이 :', len(myList3))"
   ]
  },
  {
   "cell_type": "markdown",
   "id": "aca9b91f",
   "metadata": {},
   "source": [
    "**퀴즈 9**\n",
    "\n",
    "> 리스트를 정의한 후 리스트 요소를 편집한다. (변경, 삭제, 추가)\n",
    "> \n",
    "> `['사과', '배', '망고']`\n",
    "> \n",
    "> 첫번째 요소 변경 후 : `['포도', '배', '망고']`\n",
    "> \n",
    "> 마지막 위치에 요소 추가후 : `['포도', '배', '망고', '오렌지']`\n",
    "> \n",
    "> 2번째 위치에 요소 추가후 : `['포도', '수박', '배', '망고', '오렌지']`\n",
    "> \n",
    "> 마지막 위치 삭제 : `['포도', '수박', '배', '망고']`\n",
    "> \n",
    "> 배 삭제 : `['포도', '수박', '망고']`\n"
   ]
  },
  {
   "cell_type": "code",
   "execution_count": 89,
   "id": "bb6de8ef",
   "metadata": {},
   "outputs": [
    {
     "name": "stdout",
     "output_type": "stream",
     "text": [
      "첫번째 요소 변경 후 : ['포도', '배', '망고']\n",
      "마지막 위치에 요소 추가후 :  ['포도', '배', '망고', '오렌지']\n",
      "2번째 위치에 요소 추가후 :  ['포도', '수박', '배', '망고', '오렌지']\n",
      "마지막 위치 삭제 : ['포도', '수박', '배', '망고']\n",
      "배 삭제 : ['포도', '수박', '망고']\n"
     ]
    }
   ],
   "source": [
    "fruit = ['사과', '배', '망고']\n",
    "\n",
    "fruit[0] = '포도'\n",
    "print('첫번째 요소 변경 후 :', fruit)\n",
    "fruit.append('오렌지')\n",
    "print('마지막 위치에 요소 추가후 : ', fruit)\n",
    "fruit.insert(1, '수박')\n",
    "print('2번째 위치에 요소 추가후 : ', fruit)\n",
    "fruit.pop()\n",
    "print('마지막 위치 삭제 :', fruit)\n",
    "fruit.remove('배')\n",
    "print('배 삭제 :', fruit)"
   ]
  },
  {
   "cell_type": "markdown",
   "id": "c69fdecf",
   "metadata": {},
   "source": [
    "**퀴즈 10**\n",
    "\n",
    "> 데이터를 입력받은 후 리스트에 추가하고 출력하여라 ( input() 이용 )\n",
    ">\n",
    "> 좋아하는 음식은? 초밥\n",
    "> \n",
    "> 최근 본 영화는? 알라딘\n",
    "> \n",
    "> 좋아하는 가수는? BTS\n",
    "> \n",
    "> 좋아하는 숫자? 10\n",
    ">\n",
    "> 최근 여행지? 부산\n",
    "\n",
    "\n",
    "> `당신에 관한 리스트 : ['초밥', '알라딘', 'BTS', 10, '부산' ]`\n"
   ]
  },
  {
   "cell_type": "code",
   "execution_count": 94,
   "id": "95273751",
   "metadata": {},
   "outputs": [
    {
     "name": "stdout",
     "output_type": "stream",
     "text": [
      "좋아하는 음식은? 초밥\n",
      "최근 본 영화는? 알라딘\n",
      "좋아하는 가수는? bTS\n",
      "좋아하는 숫자? 1\n",
      "최근 여행지? qntks\n",
      "당신에 관한 리스트: ['초밥', '알라딘', 'bTS', 1, 'qntks']\n"
     ]
    }
   ],
   "source": [
    "text1 = input('좋아하는 음식은? ')\n",
    "text2 = input('최근 본 영화는? ')\n",
    "text3 = input('좋아하는 가수는? ')\n",
    "text4 = int(input('좋아하는 숫자? '))\n",
    "text5 = input('최근 여행지? ')\n",
    "\n",
    "list1 = [text1, text2, text3, text4, text5]\n",
    "print(f'당신에 관한 리스트: {list1}')"
   ]
  },
  {
   "cell_type": "code",
   "execution_count": 9,
   "id": "bc39b705",
   "metadata": {},
   "outputs": [
    {
     "name": "stdout",
     "output_type": "stream",
     "text": [
      "좋아하는 음식은? ... 1\n",
      "최근 본 영화는?  ... 1\n",
      "좋아하는 가수는? ... 1\n",
      "좋아하는 숫자? ... 1\n",
      "최근 여행지? ... 1\n",
      "당신에 관한 리스트 : ['1', '1', '1', '1', '1']\n"
     ]
    }
   ],
   "source": [
    "yourList = []\n",
    "yourList.append(input('좋아하는 음식은? ... '))\n",
    "yourList.append(input('최근 본 영화는?  ... '))\n",
    "yourList.append(input('좋아하는 가수는? ... '))\n",
    "yourList.append(input('좋아하는 숫자? ... '))\n",
    "yourList.append(input('최근 여행지? ... '))\n",
    "print(f'당신에 관한 리스트 : {yourList}')"
   ]
  },
  {
   "cell_type": "markdown",
   "id": "adb1226e",
   "metadata": {},
   "source": [
    "**퀴즈 11**\n",
    "\n",
    "> 아래와 같이 리스트를 정의하고 다음과 같이 출력한다. \n",
    "\n",
    "> `foods = ['사과','망고','치즈케이크','주스']`\n",
    "> \n",
    "> 우리집 냉장고에는?  `['사과', '망고', '치즈케이크', '주스']`\n",
    "> \n",
    "> 동생이 사과를 먹었다 \n",
    "> \n",
    "> 우리집 냉장고에는?  `['망고', '치즈케이크', '주스']`\n",
    "> \n",
    "> 이모가 수박을 사오셨다. \n",
    "> \n",
    "> 우리집 냉장고에는?  `['망고', '치즈케이크', '주스', '수박']`\n",
    "> \n",
    "> 동생 친구가 치즈케이크,수박을 먹었다. \n",
    "> \n",
    "> 우리집 냉장고에는?  `['망고', '주스']`\n"
   ]
  },
  {
   "cell_type": "code",
   "execution_count": 102,
   "id": "b1778ba5",
   "metadata": {},
   "outputs": [
    {
     "name": "stdout",
     "output_type": "stream",
     "text": [
      "우리집 냉장고에는? ['사과', '망고', '치즈케이크', '주스']\n",
      "동생이 사과를 먹었다\n",
      "우리집 냉장고에는? ['망고', '치즈케이크', '주스']\n",
      "이모가 수박을 사오셨다.\n",
      "우리집 냉장고에는? ['망고', '치즈케이크', '주스', '수박']\n",
      "동생 친구가 치즈케이크,수박을 먹었다.\n",
      "우리집 냉장고에는? ['망고', '수박']\n"
     ]
    }
   ],
   "source": [
    "foods = ['사과','망고','치즈케이크','주스']\n",
    "\n",
    "print('우리집 냉장고에는?', foods)\n",
    "\n",
    "print('동생이 사과를 먹었다')\n",
    "foods.remove('사과')\n",
    "print('우리집 냉장고에는?', foods)\n",
    "\n",
    "print('이모가 수박을 사오셨다.')\n",
    "foods += ['수박']\n",
    "print('우리집 냉장고에는?', foods)\n",
    "\n",
    "print('동생 친구가 치즈케이크,수박을 먹었다.')\n",
    "foods[1:3] = []\n",
    "print('우리집 냉장고에는?', foods)"
   ]
  },
  {
   "cell_type": "code",
   "execution_count": 6,
   "id": "c2605930",
   "metadata": {},
   "outputs": [
    {
     "name": "stdout",
     "output_type": "stream",
     "text": [
      "우리집 냉장고에는?  ['사과', '망고', '치즈케이크', '주스']\n",
      "동생이 사과를 먹었다 \n",
      "우리집 냉장고에는?  ['망고', '치즈케이크', '주스']\n",
      "이모가 수박을 사오셨다. \n",
      "우리집 냉장고에는?  ['망고', '치즈케이크', '주스', '수박']\n",
      "동생 친구가 치즈케이크,수박을 먹었다. \n",
      "우리집 냉장고에는?  ['망고', '주스']\n"
     ]
    }
   ],
   "source": [
    "foods = ['사과','망고','치즈케이크','주스']\n",
    "print(f'우리집 냉장고에는?  {foods}')\n",
    "print(f'동생이 {foods.pop(0)}를 먹었다 ')\n",
    "# print(f'동생이 {foods[0]}를 먹었다 ')\n",
    "# foods.remove('사과')\n",
    "print(f'우리집 냉장고에는?  {foods}')\n",
    "foods.append('수박')\n",
    "print(f'이모가 {foods[-1]}을 사오셨다. ')\n",
    "print(f'우리집 냉장고에는?  {foods}')\n",
    "print(f'동생 친구가 {foods.pop(1)},{foods.pop()}을 먹었다. ')\n",
    "print(f'우리집 냉장고에는?  {foods}')"
   ]
  },
  {
   "cell_type": "markdown",
   "id": "635ec3aa",
   "metadata": {},
   "source": [
    "**퀴즈 12**\n",
    "\n",
    "> 아래의 리스트를 이용하여 grade 리스트를 생성하고 합계와 평균을 과목별로 출력한다. 평균은 소숫점 2번째 자리까지 출력한다. \n",
    "> \n",
    "> `kor = [100, 80, 85]`\n",
    "> \n",
    "> `math = [55, 70, 35]`\n",
    "> \n",
    "> `eng = [80, 80, 100]`\n",
    "> \n",
    "> `python = [90, 70, 88]`\n",
    "\n",
    "> 2차원 리스트 전체 출력\n",
    "> \n",
    "> `[[100, 80, 85], [55, 70, 35], [80, 80, 100], [90, 70, 88]]`\n",
    "> \n",
    "> `kor : 합계 = 265 , 평균 = 88.33`\n",
    "> \n",
    "> `math : 합계 = 160 , 평균 = 53.33`\n",
    "> \n",
    "> `eng : 합계 = 260 , 평균 = 86.67`\n",
    "> \n",
    "> `python : 합계 = 248 , 평균 = 82.67`\n"
   ]
  },
  {
   "cell_type": "code",
   "execution_count": 12,
   "id": "1f7d1c0b",
   "metadata": {},
   "outputs": [
    {
     "name": "stdout",
     "output_type": "stream",
     "text": [
      "[[100, 80, 85], [55, 70, 35], [80, 80, 100], [90, 70, 88]]\n",
      "kor : 합계 = 265, 평균 = 88.33\n",
      "math : 합계 = 160, 평균 = 53.33\n",
      "eng : 합계 = 260, 평균 = 86.67\n",
      "python : 합계 = 248, 평균 = 82.67\n"
     ]
    }
   ],
   "source": [
    "kor = [100, 80, 85]\n",
    "math = [55, 70, 35]\n",
    "eng = [80, 80, 100]\n",
    "python = [90, 70, 88]\n",
    "\n",
    "grade = [kor, math, eng, python]\n",
    "print(grade)\n",
    "\n",
    "print('kor : 합계 = %d, 평균 = %.2f' % (sum(kor), average(kor)))\n",
    "print('math : 합계 = {}, 평균 = {:.2f}'.format (sum(math), average(math)))\n",
    "print('eng : 합계 = {1}, 평균 = {0:.2f}'.format (average(eng), sum(eng)))\n",
    "print(f'python : 합계 = {sum(python)}, 평균 = {average(python):.2f}')"
   ]
  },
  {
   "cell_type": "code",
   "execution_count": 13,
   "id": "1b2f92a4",
   "metadata": {},
   "outputs": [
    {
     "name": "stdout",
     "output_type": "stream",
     "text": [
      "kor : 합계 = 265 , 평균 = 88.33\n",
      "math : 합계 = 160 , 평균 = 53.33\n",
      "eng : 합계 = 260 , 평균 = 86.67\n",
      "python : 합계 = 248 , 평균 = 82.67\n"
     ]
    }
   ],
   "source": [
    "# 합계\n",
    "korTot = grade[0][0] + grade[0][1] + grade[0][2]\n",
    "mathTot = grade[1][0] + grade[1][1] + grade[1][2]\n",
    "engTot = grade[2][0] + grade[2][1] + grade[2][2]\n",
    "pythonTot = grade[3][0] + grade[3][1] + grade[3][2]\n",
    "\n",
    "korAvg = korTot/3\n",
    "mathAvg = mathTot/3\n",
    "engAvg = engTot/3\n",
    "pythonAvg = pythonTot/3\n",
    "\n",
    "print(f'kor : 합계 = {korTot} , 평균 = {korAvg:.2f}')\n",
    "print('math : 합계 = %d , 평균 = %.2f' % (mathTot, mathAvg))\n",
    "print('eng : 합계 = %d , 평균 = %.2f' % (engTot, engAvg))\n",
    "print('python : 합계 = %d , 평균 = %.2f' % (pythonTot, pythonAvg))\n",
    "\n"
   ]
  },
  {
   "cell_type": "code",
   "execution_count": null,
   "id": "7789bfcc",
   "metadata": {},
   "outputs": [],
   "source": []
  }
 ],
 "metadata": {
  "kernelspec": {
   "display_name": "Python 3 (ipykernel)",
   "language": "python",
   "name": "python3"
  },
  "language_info": {
   "codemirror_mode": {
    "name": "ipython",
    "version": 3
   },
   "file_extension": ".py",
   "mimetype": "text/x-python",
   "name": "python",
   "nbconvert_exporter": "python",
   "pygments_lexer": "ipython3",
   "version": "3.10.1"
  }
 },
 "nbformat": 4,
 "nbformat_minor": 5
}
