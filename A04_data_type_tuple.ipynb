{
 "cells": [
  {
   "cell_type": "markdown",
   "id": "f24d1152",
   "metadata": {},
   "source": [
    "# 자료형 : Tuple (튜플)\n",
    "## 2022.01.20"
   ]
  },
  {
   "cell_type": "markdown",
   "id": "a4d9dd0e",
   "metadata": {},
   "source": [
    "### 자료형의 종류\n",
    "- 기본 자료형 - 문자열, 정수, 실수, 불린형\n",
    "- 집합형 자료형=콜렉션 : 여러개의 구성요소로 조직화\n",
    "    - : 리스트 [ ], 튜플 ( ), 딕셔너리 { }, 집합{ }\n",
    "- CRUD : Create Read Update Delete"
   ]
  },
  {
   "cell_type": "markdown",
   "id": "910d47a2",
   "metadata": {},
   "source": [
    "### B. Tuple (튜플)\n",
    "\n",
    "- 특징\n",
    "    - 리스트는 대괄호 [ ]로 생성, 튜플은 소괄호 ( )로 생성\n",
    "    - 튜플은 값을 수정할 수 없으며, 읽기만 가능해 읽기 전용 자료를 저장할 때 사용\n",
    "- 튜플 선언 :\n",
    "    - ```튜플변수 = (요소1, 요소2, ... )``` or ```튜플변수 = 요소1, 요소2, ...```\n",
    "    - 한 개만 있는 경우 (쉼표 (,)로 마무리 : ```튜플변수 = (요소1,)``` or ```튜플변수 = 요소1,```\n",
    "    - 빈 리스트: ```튜플변수 = ()```"
   ]
  },
  {
   "cell_type": "code",
   "execution_count": 3,
   "id": "f010d75b",
   "metadata": {},
   "outputs": [
    {
     "name": "stdout",
     "output_type": "stream",
     "text": [
      "t1 = () 길이는? 0 데이타형은? <class 'tuple'>\n",
      "t2 = (100, 200, 300, '사백') 길이는? 4 데이타형은? <class 'tuple'>\n",
      "t3 = (100, 200, 300, '사백') 길이는? 4 데이타형은? <class 'tuple'>\n",
      "t4 = (100,) 길이는? 1 데이타형은? <class 'tuple'>\n",
      "t5 = (100,) 길이는? 1 데이타형은? <class 'tuple'>\n",
      "t6 = 사과 길이는? 2 데이타형은? <class 'str'>\n"
     ]
    }
   ],
   "source": [
    "t1 = ()\n",
    "t2 = 100, 200, 300, '사백'\n",
    "t3 = (100, 200, 300, '사백')\n",
    "t4 = 100,\n",
    "t5 = (100, )\n",
    "t6 = ('사과') # 문자열로 인식\n",
    "\n",
    "print(f't1 = {t1} 길이는? {len(t1)} 데이타형은? {type(t1)}')\n",
    "print(f't2 = {t2} 길이는? {len(t2)} 데이타형은? {type(t2)}')\n",
    "print(f't3 = {t3} 길이는? {len(t3)} 데이타형은? {type(t3)}')\n",
    "print(f't4 = {t4} 길이는? {len(t4)} 데이타형은? {type(t4)}')\n",
    "print(f't5 = {t5} 길이는? {len(t5)} 데이타형은? {type(t5)}')\n",
    "print(f't6 = {t6} 길이는? {len(t6)} 데이타형은? {type(t6)}')"
   ]
  },
  {
   "cell_type": "markdown",
   "id": "3e8cfbf0",
   "metadata": {},
   "source": [
    "- 튜플 **인덱싱**\n",
    "    - ```튜플변수[인덱싱위치번호]``` : 0부터 시작, -1은 마지막 요소 표시\n",
    "\n",
    "\n",
    "- 튜플 **슬라이싱**\n",
    "    - ```튜플변수[start:end:step]```\n",
    "    - ```튜플변수[start:end]```\n",
    "    - ```튜플변수[start:]```\n",
    "    - ```튜플변수[:end]```\n",
    "    - ```튜플변수[::step]``` = n번째 배수 추출\n",
    "    - ```튜플변수[:]``` = ```튜플변수[::]``` = 전체리스트\n",
    "    - ```튜플변수[-1]``` = 인덱스값이 음수(-)인 경우에는 뒤에서부터 출력"
   ]
  },
  {
   "cell_type": "code",
   "execution_count": 5,
   "id": "78ee7ef8",
   "metadata": {},
   "outputs": [
    {
     "name": "stdout",
     "output_type": "stream",
     "text": [
      "(True, 1, 100) True 100\n",
      "(False, 30, 'Hello world', 'Hello python') (False, 30) ('Hello world', 'Hello python') (False, 'Hello world')\n"
     ]
    }
   ],
   "source": [
    "myTuple1 = ( True, 1, 100)\n",
    "myTuple2 = ( False, 30, 'Hello world', 'Hello python')\n",
    "\n",
    "print(myTuple1, myTuple1[0], myTuple1[-1])\n",
    "print(myTuple2, myTuple2[0:2], myTuple2[2:], myTuple2[::2])"
   ]
  },
  {
   "cell_type": "markdown",
   "id": "a62c3caa",
   "metadata": {},
   "source": [
    "- **튜플 연산**\n",
    "    - 더하기\n",
    "        - ```튜플 + 튜플``` : 같이 표시\n",
    "    - 반복하기\n",
    "        - ```튜플*숫자``` : 반복"
   ]
  },
  {
   "cell_type": "code",
   "execution_count": 6,
   "id": "74e759ad",
   "metadata": {},
   "outputs": [
    {
     "name": "stdout",
     "output_type": "stream",
     "text": [
      "(True, 1, 100, False, 30, 'Hello world', 'Hello python')\n",
      "(True, 1, 100, True, 1, 100)\n"
     ]
    }
   ],
   "source": [
    "print(myTuple1 + myTuple2)\n",
    "print(myTuple1*2)"
   ]
  },
  {
   "cell_type": "markdown",
   "id": "380160c1",
   "metadata": {},
   "source": [
    "- 튜플의 값은 교체(**수정**)가 불가능하다\n",
    "    - TypeError\n",
    "\n",
    "\n",
    "- 튜플은 값을 새로 **추가** 가능하다\n",
    "    - ```튜플변수 += (값1,)```\n",
    "        - 한개 추가시에는 쉼표(,) 주의\n",
    "    - ```튜플변수 += (값1, 값2...)```\n",
    "\n",
    "\n",
    "- 튜플 요소값 **변경** 시 오류\n",
    "    - 튜플의 데이터를 변경하려면 데이터형을 변경하고 다시 튜플화\n",
    "    - 튜플 => 리스트 => 데이터 변경 => 튜플\n",
    "    - `list( )`, `tuple( )`\n",
    "\n",
    "\n",
    "- 튜플 요소값 **삭제** 시 오류\n",
    "    - 튜플 요소 각각의 값 삭제는 불가능\n",
    "    - 데이터형 변경 후 가능\n",
    "    \n",
    "    \n",
    "- 튜플변수 **전체 삭제**는 가능하다\n",
    "    - ```del 튜플변수```\n"
   ]
  },
  {
   "cell_type": "code",
   "execution_count": 16,
   "id": "e788f1f4",
   "metadata": {},
   "outputs": [
    {
     "name": "stdout",
     "output_type": "stream",
     "text": [
      " [True, 1, 100, '사과'] 데이타형은? <class 'list'>\n",
      "(False, 1, 100, '사과')\n",
      "(False, 1, 100, '사과', '배', 77, ['영희', '철수'], 1000, 5000)\n",
      "(False, 1, 100, '사과', '배', 77, ['영희', '철수'], 1000)\n"
     ]
    }
   ],
   "source": [
    "myTuple3 = ( True, 1, 100, '사과')\n",
    "\n",
    "# 튜플 변경\n",
    "temp = list(myTuple3)\n",
    "print(f' {temp} 데이타형은? {type(temp)}')\n",
    "temp[0] = False\n",
    "myTuple3 = tuple(temp)\n",
    "print(myTuple3)\n",
    "\n",
    "# 튜플 추가\n",
    "myTuple3 += ('배',)\n",
    "myTuple3 += (77, )\n",
    "myTuple3 += (['영희', '철수'], 1000, 5000)\n",
    "print(myTuple3)\n",
    "\n",
    "# 튜플 삭제\n",
    "temp = list(myTuple3)\n",
    "temp.pop()\n",
    "myTuple3 = tuple(temp)\n",
    "print(myTuple3)\n",
    "\n",
    "del myTuple3\n",
    "# print(myTuple3) # NameError: name 'myTuple3' is not defined"
   ]
  },
  {
   "cell_type": "markdown",
   "id": "e46970bc",
   "metadata": {},
   "source": [
    "- **튜플 함수**\n",
    "    - `튜플변수.count(값)`\n",
    "    - `튜플변수.index(값)`"
   ]
  },
  {
   "cell_type": "code",
   "execution_count": 10,
   "id": "7e5f8713",
   "metadata": {},
   "outputs": [
    {
     "name": "stdout",
     "output_type": "stream",
     "text": [
      " (1, 2, 3, 4, 3, 3) 데이타형은? <class 'tuple'>\n",
      " 3의 갯수는? 3\n",
      " 3의 인덱스는? 2\n"
     ]
    }
   ],
   "source": [
    "myTuple4 = (1, 2, 3, 4, 3, 3)\n",
    "print(f' {myTuple4} 데이타형은? {type(myTuple4)}')\n",
    "print(f' 3의 갯수는? {myTuple4.count(3)}')\n",
    "print(f' 3의 인덱스는? {myTuple4.index(3)}')"
   ]
  },
  {
   "cell_type": "markdown",
   "id": "83d55911",
   "metadata": {},
   "source": [
    "- **캐스팅**\n",
    "    - 문자열 => 튜플 : `tuple(문자열변수나 값)`\n",
    "    - 리스트 => 튜플 : `tuple(리스트변수나 값)`\n",
    "\n",
    "\n",
    "- 튜플 => 문자열\n",
    "    - `str(튜플변수나 값)`\n",
    "    - `구분자.join(튜플변수나 값)`\n",
    "    - 주의사항은 join() 사용시에는 튜플의 자료형이 문자열이어야 한다.\n",
    "    \n",
    "    \n",
    "- 튜플 => 리스트 \n",
    "    - `list(튜플변수나 값)`"
   ]
  },
  {
   "cell_type": "code",
   "execution_count": 21,
   "id": "2a63ff43",
   "metadata": {},
   "outputs": [
    {
     "name": "stdout",
     "output_type": "stream",
     "text": [
      " 도레미파솔라시 데이타형은? <class 'str'>\n",
      " ['도', '레', '미', '파', '솔', '라', '시'] 데이타형은? <class 'list'>\n",
      " ('도', '레', '미', '파', '솔', '라', '시') 데이타형은? <class 'tuple'>\n"
     ]
    }
   ],
   "source": [
    "# 캐스팅 테스트\n",
    "txt = '도레미파솔라시'\n",
    "listA = list(txt)\n",
    "tupleA = tuple(txt)\n",
    "\n",
    "print(f' {txt} 데이타형은? {type(txt)}')\n",
    "print(f' {listA} 데이타형은? {type(listA)}')\n",
    "print(f' {tupleA} 데이타형은? {type(tupleA)}')"
   ]
  },
  {
   "cell_type": "code",
   "execution_count": 20,
   "id": "05cde460",
   "metadata": {},
   "outputs": [
    {
     "name": "stdout",
     "output_type": "stream",
     "text": [
      " \n",
      " ('도도', '레미파', '솔') 데이타형은? <class 'tuple'>\n",
      " ('도도', '레미파', '솔') 데이타형은? <class 'str'>  '도도' \n",
      " 도도 레미파 솔 데이타형은? <class 'str'>\n"
     ]
    }
   ],
   "source": [
    "tupleB = ('도도', '레미파', '솔')\n",
    "txtB = str(tupleB)\n",
    "txtC = ' '.join(tupleB)\n",
    "print(f' \\n {tupleB} 데이타형은? {type(tupleB)}')\n",
    "print(f' {txtB} 데이타형은? {type(txtB)}  {txtB[1:5]} ')\n",
    "print(f' {txtC} 데이타형은? {type(txtC)}')"
   ]
  },
  {
   "cell_type": "markdown",
   "id": "73e03551",
   "metadata": {},
   "source": [
    "- **튜플 리스트란?**\n",
    "    - 리스트안에 튜플이 삽입되어 있는 구조"
   ]
  },
  {
   "cell_type": "code",
   "execution_count": 18,
   "id": "ea8eff50",
   "metadata": {},
   "outputs": [
    {
     "name": "stdout",
     "output_type": "stream",
     "text": [
      "\n",
      " [(100, 200, 300), ('가', '나', '다')] 데이타형은? <class 'list'>\n",
      "(100, 200, 300) 300\n"
     ]
    }
   ],
   "source": [
    "tuple_a = (100, 200, 300)\n",
    "tuple_b = ('가', '나', '다')\n",
    "list_a_b = [tuple_a, tuple_b]\n",
    "print(f'\\n {list_a_b} 데이타형은? {type(list_a_b)}')\n",
    "print(list_a_b[0], list_a_b[0][2])"
   ]
  },
  {
   "cell_type": "code",
   "execution_count": null,
   "id": "4597e091",
   "metadata": {},
   "outputs": [],
   "source": []
  }
 ],
 "metadata": {
  "kernelspec": {
   "display_name": "Python 3 (ipykernel)",
   "language": "python",
   "name": "python3"
  },
  "language_info": {
   "codemirror_mode": {
    "name": "ipython",
    "version": 3
   },
   "file_extension": ".py",
   "mimetype": "text/x-python",
   "name": "python",
   "nbconvert_exporter": "python",
   "pygments_lexer": "ipython3",
   "version": "3.10.1"
  }
 },
 "nbformat": 4,
 "nbformat_minor": 5
}
