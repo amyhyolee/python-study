{
 "cells": [
  {
   "cell_type": "markdown",
   "id": "329f7600",
   "metadata": {},
   "source": [
    "# 파이썬 기초 공부 1\n",
    "## 2022.01.19"
   ]
  },
  {
   "cell_type": "markdown",
   "id": "83dc09d0",
   "metadata": {},
   "source": [
    "### A. 주석문\n",
    "주석(Comment)란 실행에 상관없는 코드\n",
    "- 한줄 주석\n",
    "    - ```# comment```\n",
    "    - VS CODE와 같은 텍스트 에디터에서는 [Ctrl]+[/] 단축키 사용가능\n",
    "여러줄 주석\n",
    "- 시작과 종료 부분에 홑따움표(')를 3개 연속으로 삽입한다.\n",
    "    - ```'''Comment'''```"
   ]
  },
  {
   "cell_type": "code",
   "execution_count": 32,
   "id": "f218c7f1",
   "metadata": {},
   "outputs": [
    {
     "data": {
      "text/plain": [
       "'\\n주석처럼 작동 가능 \\n사실은 다중행문자열 변수입니다. \\n'"
      ]
     },
     "execution_count": 32,
     "metadata": {},
     "output_type": "execute_result"
    }
   ],
   "source": [
    "# 주석\n",
    "'''\n",
    "주석처럼 작동 가능 \n",
    "사실은 다중행문자열 변수입니다. \n",
    "'''"
   ]
  },
  {
   "cell_type": "markdown",
   "id": "a1f24814",
   "metadata": {},
   "source": [
    "### B. 출력문\n",
    "\n",
    "1. print 함수 사용법 (출력문)\n",
    "\n",
    "    - ```print(value) \n",
    "    print(variable)```\n",
    "    - ```python \n",
    "    print(값/수식/변수, end = 대체문자 or 공백)\n",
    "    ```"
   ]
  },
  {
   "cell_type": "code",
   "execution_count": 27,
   "id": "51a81cd7",
   "metadata": {},
   "outputs": [
    {
     "name": "stdout",
     "output_type": "stream",
     "text": [
      "출력문\n",
      "100\n",
      "200\n",
      "Hello1Hello2\n",
      "Hello3,Hello4\n"
     ]
    }
   ],
   "source": [
    "print(\"출력문\")\n",
    "print(100)\n",
    "print(200)\n",
    "\n",
    "print('Hello1', end='')\n",
    "print('Hello2')\n",
    "\n",
    "print('Hello3', end=',')\n",
    "print('Hello4')"
   ]
  },
  {
   "cell_type": "markdown",
   "id": "c1f65b69",
   "metadata": {},
   "source": [
    "2. 쉼표를 이용한 출력\n",
    "    - ``` print( value1, value2…)```\n",
    "    - ``` print(variable1, variable2 …)```\n",
    "    - ```python \n",
    "    print(값/수식/변수, 값/수식/변수 .... ) \n",
    "    ```"
   ]
  },
  {
   "cell_type": "code",
   "execution_count": 33,
   "id": "57015217",
   "metadata": {},
   "outputs": [
    {
     "name": "stdout",
     "output_type": "stream",
     "text": [
      "94 -26\n"
     ]
    }
   ],
   "source": [
    "print(34+60, 34-60)"
   ]
  },
  {
   "cell_type": "markdown",
   "id": "ba13a225",
   "metadata": {},
   "source": [
    "3. 변수 정의하기\n",
    "    - 변수 정의1\n",
    "    - 변수명 = 수식/다른변수/값\n",
    "    - 변수 정의2 - 쉼표이용\n",
    "    - 변수명1, 변수명2  = 값1, 값2"
   ]
  },
  {
   "cell_type": "code",
   "execution_count": 60,
   "id": "7294c751",
   "metadata": {},
   "outputs": [
    {
     "name": "stdout",
     "output_type": "stream",
     "text": [
      "x =  100\n",
      "y =  200\n",
      "a =  True\n",
      "b =  False\n"
     ]
    }
   ],
   "source": [
    "x = 100\n",
    "y = 200\n",
    "print('x = ', x)\n",
    "print('y = ', y)\n",
    "\n",
    "a, b = True, False\n",
    "print('a = ', a)\n",
    "print('b = ', b)"
   ]
  },
  {
   "cell_type": "markdown",
   "id": "b2095139",
   "metadata": {},
   "source": [
    "4. 출력문과 이스케이프 문자\n",
    "    | 이스케이프 문자      | 역할 | 설명 |\n",
    "    | ----------- | ----------- | ----------- |\n",
    "    | \\n      | 새오운 줄로 이동         enter를 누른 효과       |\n",
    "    | \\t   | 다음 탭으로 이동 |          tab을 누른 효과        |\n",
    "    | \\b   | 뒤로 한 칸 이동 |          backspace를 누른 효과        |\n",
    "    | \\\\   | \\ 출력        |\n",
    "    | \\'   | ' 출력        |\n",
    "    | \\''   | \" 출력        |"
   ]
  },
  {
   "cell_type": "code",
   "execution_count": 42,
   "id": "0cbc230e",
   "metadata": {},
   "outputs": [
    {
     "name": "stdout",
     "output_type": "stream",
     "text": [
      "\n",
      "줄바꿈\n",
      "연습 \n",
      "\t탭키\t연습\n",
      "글자가 \"강조\"되는 효과1\n",
      "글자가 '강조'되는 효과2\n",
      "\\\\\\ 역슬래스 세 개 출력\n",
      "\\n\\t\\\"\\\\를 그대로 출력\n"
     ]
    }
   ],
   "source": [
    "print(\"\\n줄바꿈\\n연습 \")\n",
    "print(\"\\t탭키\\t연습\")\n",
    "print(\"글자가 \\\"강조\\\"되는 효과1\")\n",
    "print(\"글자가 \\'강조\\'되는 효과2\")\n",
    "print(\"\\\\\\\\\\\\ 역슬래스 세 개 출력\")\n",
    "print(r\"\\n\\t\\\"\\\\를 그대로 출력\")"
   ]
  },
  {
   "cell_type": "markdown",
   "id": "3308ddf2",
   "metadata": {},
   "source": [
    "### C. 입력문"
   ]
  },
  {
   "cell_type": "markdown",
   "id": "8c2d5bbf",
   "metadata": {},
   "source": [
    "1. input\n",
    "    - 사용자가 값을 입력할 때 사용한다.\n",
    "    - 입력되는 모든 것을 문자열로 처리한다.\n",
    "2. 변수에 저장하기 \n",
    "   - ```변수명 = input(\"질문\")```"
   ]
  },
  {
   "cell_type": "code",
   "execution_count": 46,
   "id": "6be02e36",
   "metadata": {},
   "outputs": [
    {
     "name": "stdout",
     "output_type": "stream",
     "text": [
      "What is your name?1\n",
      "1\n",
      "What is your ID?1\n",
      "1\n"
     ]
    }
   ],
   "source": [
    "a = input(\"What is your name?\")\n",
    "print(a)\n",
    "b = input(\"What is your ID?\")\n",
    "print(b)"
   ]
  },
  {
   "cell_type": "markdown",
   "id": "412d425a",
   "metadata": {},
   "source": [
    "### D. 변수\n",
    "\n",
    "1. 변수명 (식별자) 규칙\n",
    "    - 대, 소문자를 구분한다.\n",
    "    - 문자, 숫자, 언더바(_)를 포함할 수 있다. 하지만 숫자로 시작하면 안 된다.\n",
    "    - 변수명은 의미있는 단어로 표기하는 것이 좋다.\n",
    "    - 예약어는 변수명으로 쓰면 안 된다.\n"
   ]
  },
  {
   "cell_type": "code",
   "execution_count": 36,
   "id": "8cddf7e7",
   "metadata": {},
   "outputs": [
    {
     "name": "stdout",
     "output_type": "stream",
     "text": [
      "['False', 'None', 'True', 'and', 'as', 'assert', 'async', 'await', 'break', 'class', 'continue', 'def', 'del', 'elif', 'else', 'except', 'finally', 'for', 'from', 'global', 'if', 'import', 'in', 'is', 'lambda', 'nonlocal', 'not', 'or', 'pass', 'raise', 'return', 'try', 'while', 'with', 'yield']\n",
      "키워드 갯수 =  35\n"
     ]
    }
   ],
   "source": [
    "# 파이썬에서 제공하는 예약어 출력하기\n",
    "# 예약어는 변수로 사용할수 없다.\n",
    "import keyword\n",
    "print(keyword.kwlist) # 리스트 형태로 출력\n",
    "print('키워드 갯수 = ', len(keyword.kwlist))"
   ]
  },
  {
   "cell_type": "markdown",
   "id": "4a9984b4",
   "metadata": {},
   "source": [
    "2. 변수 삭제하기\n",
    "    - ```del(변수명)```"
   ]
  },
  {
   "cell_type": "code",
   "execution_count": 45,
   "id": "2dc8a4a8",
   "metadata": {},
   "outputs": [
    {
     "name": "stdout",
     "output_type": "stream",
     "text": [
      "Hi\n"
     ]
    }
   ],
   "source": [
    "a = \"Hi\"\n",
    "print(a)\n",
    "del(a)\n",
    "# print(a) >>> NameError: name 'a' is not defined"
   ]
  },
  {
   "cell_type": "markdown",
   "id": "ae2a9b8b",
   "metadata": {},
   "source": [
    "### 퀴즈 : user1, user2의 변수값을 서로 변경하여라"
   ]
  },
  {
   "cell_type": "code",
   "execution_count": 12,
   "id": "264646b8",
   "metadata": {},
   "outputs": [
    {
     "name": "stdout",
     "output_type": "stream",
     "text": [
      "user1 =  영희\n",
      "user2 =  철수\n"
     ]
    }
   ],
   "source": [
    "user1 = \"영희\"\n",
    "user2 = \"철수\"\n",
    "print('user1 = ', user1)\n",
    "print('user2 = ', user2)"
   ]
  },
  {
   "cell_type": "code",
   "execution_count": 13,
   "id": "458c5a5e",
   "metadata": {},
   "outputs": [
    {
     "name": "stdout",
     "output_type": "stream",
     "text": [
      "값 교체후는? \n",
      "user1 =  철수\n",
      "user2 =  영희\n"
     ]
    }
   ],
   "source": [
    "# 중간변수 설정 방식\n",
    "temp = user1\n",
    "user1 = user2\n",
    "user2 = temp\n",
    "\n",
    "print('값 교체후는? ')\n",
    "print('user1 = ', user1)\n",
    "print('user2 = ', user2)"
   ]
  },
  {
   "cell_type": "code",
   "execution_count": 14,
   "id": "a2a4f72f",
   "metadata": {},
   "outputs": [
    {
     "name": "stdout",
     "output_type": "stream",
     "text": [
      "값 교체후는? \n",
      "user1 =  영희\n",
      "user2 =  철수\n"
     ]
    }
   ],
   "source": [
    "# 쉼표를 이용한 변수값 교체 => 파이썬만의 특징\n",
    "user1, user2  = user2, user1\n",
    "print('값 교체후는? ')\n",
    "print('user1 = ', user1)\n",
    "print('user2 = ', user2)"
   ]
  },
  {
   "cell_type": "markdown",
   "id": "3e47d341",
   "metadata": {},
   "source": [
    "### E. 자료형"
   ]
  },
  {
   "cell_type": "markdown",
   "id": "7eef89fd",
   "metadata": {},
   "source": [
    "1. 자료형\n",
    "    - 프로그래밍을 할 때 쓰이는 숫자, 문자열 등등의 것\n",
    "    - 기본형 - 숫자형(정수,실수), 논리형(True,False), 문자열형(싱글,멀티) \n",
    "    - 집합형 - 리스트, 튜플, 딕셔너리, 집합\n",
    "    - type(변수/수식/값) => 데이타형 출력 \n",
    "    \n",
    "\n",
    "2. 숫자형\n",
    "    - 정수형 (1, 2, -2)\n",
    "    - 실수 (1.24, -34.56)\n",
    "    - 컴퓨터식 지수 표현 방식 (4.24e10, 4.24e-10)\n",
    "        - e표기법. E뒤의 값이 10지수임을 표현\n",
    "    - 복소수 (1+2j)\n",
    "    - 8진수 (0o37) : 숫자0 알파벳o 8진수\n",
    "    - 16진수 (0x7A) : : 숫자0 알파벳x 16진수\n",
    "    \n",
    "    \n",
    "3. 문자열형\n",
    "    - 문자의 나열. 문자들의 집합\n",
    "    - 문자열은 작은 따움표(‘’), 큰 따움표(“”), 인용부호 3개로 감싸야 한다.\n",
    "    - 파이썬에서는 JAVA, C언어에 존재하는 문자형(char형)이 따로 없다.\n",
    "    - 역슬래시(\\) 뒤에 큰따옴표나 작은따옴표를 사용해도 ㅠ글자로 인식한다."
   ]
  },
  {
   "cell_type": "code",
   "execution_count": 56,
   "id": "1ed2e98d",
   "metadata": {},
   "outputs": [
    {
     "name": "stdout",
     "output_type": "stream",
     "text": [
      "100 <class 'int'>\n",
      "3.14 <class 'float'>\n",
      "True <class 'bool'>\n",
      "Hello world <class 'str'>\n",
      "\n",
      "Hello \n",
      "world\n",
      " <class 'str'>\n"
     ]
    }
   ],
   "source": [
    "num1 = 100\n",
    "num2 = 3.14\n",
    "v1 = True\n",
    "t1 = 'Hello world'\n",
    "t2 = '''\n",
    "Hello \n",
    "world\n",
    "'''\n",
    "print(num1, type(num1))\n",
    "print(num2, type(num2))\n",
    "print(v1, type(v1))\n",
    "print(t1, type(t1))\n",
    "print(t2, type(t2))"
   ]
  },
  {
   "cell_type": "code",
   "execution_count": 55,
   "id": "42e46248",
   "metadata": {},
   "outputs": [
    {
     "name": "stdout",
     "output_type": "stream",
     "text": [
      "이건 큰따옴표 \" 모양. 이건 작은따옴표 ' 모양.\n"
     ]
    }
   ],
   "source": [
    "a = \"이건 큰따옴표 \\\" 모양.\"\n",
    "b = '이건 작은따옴표 \\' 모양.'\n",
    "print(a, b)"
   ]
  },
  {
   "cell_type": "markdown",
   "id": "299127d1",
   "metadata": {},
   "source": [
    "4. Boolean형\n",
    "    - 참과 거짓\n",
    "    - True / 1\n",
    "    - False / 0\n",
    "    <br>\n",
    "    - 자료형의 참과 거짓\n",
    "        - 모든 자료형에는 참과 거짓이 있다. \n",
    "            | 이스케이프 문자      | 역할 |\n",
    "            | ----------- | ----------- |\n",
    "            | \"python\"    | 참 |\n",
    "            | \"\"    | 거짓 |\n",
    "            | [1,2,3]   | 참 |\n",
    "            | [], (), {} | 거짓 |\n",
    "            | 1    | 참 |\n",
    "            | 0    | 거짓 |\n",
    "            | None    | 거짓 |\n",
    "      "
   ]
  },
  {
   "cell_type": "markdown",
   "id": "407b3bd1",
   "metadata": {},
   "source": [
    "2. 자료형 변환 => Casting\n",
    "    - 캐스팅이란?\n",
    "        - 데이터간의 형 변환\n",
    "    - 파이썬의 대표적인 캐스팅 관련 함수\n",
    "        - ```float()``` : 실수형 형변환\n",
    "        - ```int()``` : 정수형 형변환\n",
    "        - ```str()``` : 문자열 형변환\n",
    "        - ```bool()``` : 불형 형변환\n",
    "        - ```type()``` : 데이터의 형 출력\n",
    "    - 입력문 사용하면 변수형이 문자열로 지정된다."
   ]
  },
  {
   "cell_type": "code",
   "execution_count": 58,
   "id": "54ac7c01",
   "metadata": {},
   "outputs": [
    {
     "name": "stdout",
     "output_type": "stream",
     "text": [
      "123.4567 <class 'float'>\n",
      "123 <class 'int'>\n",
      "123.4567 <class 'str'>\n"
     ]
    }
   ],
   "source": [
    "myNum1 = 123.4567\n",
    "myNum2 = int(myNum1) # 정수형으로 형변환\n",
    "myNum3 = str(myNum1) # 문자열형으로 형변환\n",
    "print(myNum1, type(myNum1)) # 123.4567 <class 'float'>\n",
    "print(myNum2, type(myNum2)) # 123 <class 'int'>\n",
    "print(myNum3, type(myNum3)) # 123.4567 <class 'str'>\n",
    "\n",
    "# age = input('나이를 입력해주세요...')\n",
    "# print(age, type(age)) # 25 <class 'str'>"
   ]
  },
  {
   "cell_type": "markdown",
   "id": "bf3d3685",
   "metadata": {},
   "source": [
    "### 퀴즈 : 2개의 숫자값을 입력받은 후 사칙 연산을 수행하여라\n"
   ]
  },
  {
   "cell_type": "code",
   "execution_count": 57,
   "id": "2b9e925a",
   "metadata": {},
   "outputs": [
    {
     "name": "stdout",
     "output_type": "stream",
     "text": [
      "첫번째 숫자를 입력하세요... 1\n",
      "두번째 숫자를 입력하세요... 1\n",
      "==========\n",
      "1 + 1 = 2\n",
      "1 - 1 = 0\n",
      "1 * 1 = 1\n",
      "1 / 1 = 1.0\n"
     ]
    }
   ],
   "source": [
    "# 입력문, 캐스팅\n",
    "'''\n",
    "첫번째 숫자를 입력하세요... 10\n",
    "두번째 숫자를 입력하세요... 20\n",
    "---------\n",
    "10 + 20 = ?\n",
    "10 - 20 = ?\n",
    "10 * 20 = ?\n",
    "10 / 20 = ?\n",
    "'''\n",
    "n1 = int(input('첫번째 숫자를 입력하세요... '))\n",
    "n2 = int(input('두번째 숫자를 입력하세요... '))\n",
    "print('==========')\n",
    "print(n1, '+', n2, '=', n1+n2)\n",
    "print(n1, '-', n2, '=', n1-n2)\n",
    "print(n1, '*', n2, '=', n1*n2)\n",
    "print(n1, '/', n2, '=', n1/n2)"
   ]
  },
  {
   "cell_type": "code",
   "execution_count": null,
   "id": "1394dbdf",
   "metadata": {},
   "outputs": [],
   "source": []
  }
 ],
 "metadata": {
  "kernelspec": {
   "display_name": "Python 3 (ipykernel)",
   "language": "python",
   "name": "python3"
  },
  "language_info": {
   "codemirror_mode": {
    "name": "ipython",
    "version": 3
   },
   "file_extension": ".py",
   "mimetype": "text/x-python",
   "name": "python",
   "nbconvert_exporter": "python",
   "pygments_lexer": "ipython3",
   "version": "3.10.1"
  }
 },
 "nbformat": 4,
 "nbformat_minor": 5
}
